{
 "cells": [
  {
   "cell_type": "markdown",
   "metadata": {},
   "source": [
    "# [np] choice\n",
    "\n",
    "### 概要\n",
    "- 複数の選択肢からランダムに要素を選択するためのメソッド\n",
    "\n",
    "### どんな時に便利か\n",
    "- "
   ]
  },
  {
   "cell_type": "code",
   "execution_count": 1,
   "metadata": {},
   "outputs": [],
   "source": [
    "import numpy as np\n",
    "import matplotlib.pyplot as plt\n",
    "import pandas as pd\n",
    "import seaborn as sns"
   ]
  },
  {
   "cell_type": "code",
   "execution_count": 2,
   "metadata": {},
   "outputs": [
    {
     "data": {
      "text/plain": [
       "array([6, 9])"
      ]
     },
     "execution_count": 2,
     "metadata": {},
     "output_type": "execute_result"
    }
   ],
   "source": [
    "number_list = np.arange(10)\n",
    "chosed_number = np.random.choice(number_list, 2)\n",
    "chosed_number"
   ]
  },
  {
   "cell_type": "markdown",
   "metadata": {},
   "source": [
    "## 時間を計測してみる"
   ]
  },
  {
   "cell_type": "code",
   "execution_count": 3,
   "metadata": {},
   "outputs": [],
   "source": [
    "import time"
   ]
  },
  {
   "cell_type": "code",
   "execution_count": 4,
   "metadata": {},
   "outputs": [
    {
     "name": "stdout",
     "output_type": "stream",
     "text": [
      "---from total 1 choose 10 ---> 2.979 ms\n",
      "---from total 2 choose 10 ---> 2.568 ms\n",
      "---from total 3 choose 10 ---> 2.306 ms\n",
      "---from total 4 choose 10 ---> 2.676 ms\n",
      "---from total 5 choose 10 ---> 2.423 ms\n",
      "---from total 6 choose 10 ---> 2.307 ms\n",
      "---from total 7 choose 10 ---> 2.688 ms\n",
      "---from total 8 choose 10 ---> 2.463 ms\n",
      "---from total 9 choose 10 ---> 2.337 ms\n"
     ]
    }
   ],
   "source": [
    "total_num = 10\n",
    "number_list = np.arange(total_num)\n",
    "for select_num in range(1, 10):\n",
    "    start = time.time()\n",
    "    for it in range(100):\n",
    "        chosed_number = np.random.choice(number_list, select_num)\n",
    "    end = time.time()\n",
    "    print('---from total {} choose {} ---> {:.3f} ms'.format(select_num, total_num, (end-start)*1000))"
   ]
  },
  {
   "cell_type": "code",
   "execution_count": 5,
   "metadata": {},
   "outputs": [
    {
     "name": "stdout",
     "output_type": "stream",
     "text": [
      "---from total 1 choose 100 ---> 2.604 ms\n",
      "---from total 2 choose 100 ---> 2.670 ms\n",
      "---from total 3 choose 100 ---> 2.210 ms\n",
      "---from total 4 choose 100 ---> 2.607 ms\n",
      "---from total 5 choose 100 ---> 2.389 ms\n",
      "---from total 6 choose 100 ---> 2.366 ms\n",
      "---from total 7 choose 100 ---> 2.874 ms\n",
      "---from total 8 choose 100 ---> 2.934 ms\n",
      "---from total 9 choose 100 ---> 2.267 ms\n",
      "---from total 10 choose 100 ---> 2.350 ms\n",
      "---from total 11 choose 100 ---> 2.138 ms\n",
      "---from total 12 choose 100 ---> 2.368 ms\n",
      "---from total 13 choose 100 ---> 2.558 ms\n",
      "---from total 14 choose 100 ---> 2.390 ms\n",
      "---from total 15 choose 100 ---> 2.157 ms\n",
      "---from total 16 choose 100 ---> 2.540 ms\n",
      "---from total 17 choose 100 ---> 2.074 ms\n",
      "---from total 18 choose 100 ---> 2.206 ms\n",
      "---from total 19 choose 100 ---> 2.107 ms\n",
      "---from total 20 choose 100 ---> 3.183 ms\n",
      "---from total 21 choose 100 ---> 2.876 ms\n",
      "---from total 22 choose 100 ---> 2.117 ms\n",
      "---from total 23 choose 100 ---> 2.314 ms\n",
      "---from total 24 choose 100 ---> 2.176 ms\n",
      "---from total 25 choose 100 ---> 2.159 ms\n",
      "---from total 26 choose 100 ---> 2.449 ms\n",
      "---from total 27 choose 100 ---> 3.095 ms\n",
      "---from total 28 choose 100 ---> 2.465 ms\n",
      "---from total 29 choose 100 ---> 2.544 ms\n",
      "---from total 30 choose 100 ---> 2.191 ms\n",
      "---from total 31 choose 100 ---> 2.107 ms\n",
      "---from total 32 choose 100 ---> 2.901 ms\n",
      "---from total 33 choose 100 ---> 2.425 ms\n",
      "---from total 34 choose 100 ---> 2.491 ms\n",
      "---from total 35 choose 100 ---> 2.248 ms\n",
      "---from total 36 choose 100 ---> 2.404 ms\n",
      "---from total 37 choose 100 ---> 2.570 ms\n",
      "---from total 38 choose 100 ---> 2.799 ms\n",
      "---from total 39 choose 100 ---> 2.183 ms\n",
      "---from total 40 choose 100 ---> 3.010 ms\n",
      "---from total 41 choose 100 ---> 2.284 ms\n",
      "---from total 42 choose 100 ---> 2.221 ms\n",
      "---from total 43 choose 100 ---> 2.276 ms\n",
      "---from total 44 choose 100 ---> 2.693 ms\n",
      "---from total 45 choose 100 ---> 3.240 ms\n",
      "---from total 46 choose 100 ---> 2.578 ms\n",
      "---from total 47 choose 100 ---> 2.245 ms\n",
      "---from total 48 choose 100 ---> 2.301 ms\n",
      "---from total 49 choose 100 ---> 2.335 ms\n",
      "---from total 50 choose 100 ---> 2.351 ms\n",
      "---from total 51 choose 100 ---> 2.324 ms\n",
      "---from total 52 choose 100 ---> 2.087 ms\n",
      "---from total 53 choose 100 ---> 2.152 ms\n",
      "---from total 54 choose 100 ---> 2.968 ms\n",
      "---from total 55 choose 100 ---> 2.182 ms\n",
      "---from total 56 choose 100 ---> 2.377 ms\n",
      "---from total 57 choose 100 ---> 2.403 ms\n",
      "---from total 58 choose 100 ---> 2.568 ms\n",
      "---from total 59 choose 100 ---> 2.603 ms\n",
      "---from total 60 choose 100 ---> 2.454 ms\n",
      "---from total 61 choose 100 ---> 2.740 ms\n",
      "---from total 62 choose 100 ---> 2.377 ms\n",
      "---from total 63 choose 100 ---> 2.734 ms\n",
      "---from total 64 choose 100 ---> 2.884 ms\n",
      "---from total 65 choose 100 ---> 2.276 ms\n",
      "---from total 66 choose 100 ---> 2.467 ms\n",
      "---from total 67 choose 100 ---> 2.848 ms\n",
      "---from total 68 choose 100 ---> 2.339 ms\n",
      "---from total 69 choose 100 ---> 3.091 ms\n",
      "---from total 70 choose 100 ---> 2.592 ms\n",
      "---from total 71 choose 100 ---> 2.153 ms\n",
      "---from total 72 choose 100 ---> 2.741 ms"
     ]
    },
    {
     "name": "stdout",
     "output_type": "stream",
     "text": [
      "\n",
      "---from total 73 choose 100 ---> 2.443 ms\n",
      "---from total 74 choose 100 ---> 2.395 ms\n",
      "---from total 75 choose 100 ---> 2.348 ms\n",
      "---from total 76 choose 100 ---> 2.787 ms\n",
      "---from total 77 choose 100 ---> 2.501 ms\n",
      "---from total 78 choose 100 ---> 2.407 ms\n",
      "---from total 79 choose 100 ---> 2.810 ms\n",
      "---from total 80 choose 100 ---> 2.341 ms\n",
      "---from total 81 choose 100 ---> 2.535 ms\n",
      "---from total 82 choose 100 ---> 2.555 ms\n",
      "---from total 83 choose 100 ---> 2.209 ms"
     ]
    },
    {
     "name": "stdout",
     "output_type": "stream",
     "text": [
      "\n",
      "---from total 84 choose 100 ---> 2.443 ms\n",
      "---from total 85 choose 100 ---> 2.715 ms\n",
      "---from total 86 choose 100 ---> 2.164 ms\n",
      "---from total 87 choose 100 ---> 2.607 ms\n",
      "---from total 88 choose 100 ---> 2.936 ms\n",
      "---from total 89 choose 100 ---> 2.219 ms\n",
      "---from total 90 choose 100 ---> 2.863 ms\n",
      "---from total 91 choose 100 ---> 2.597 ms\n",
      "---from total 92 choose 100 ---> 2.211 ms\n",
      "---from total 93 choose 100 ---> 3.437 ms\n",
      "---from total 94 choose 100 ---> 2.697 ms\n",
      "---from total 95 choose 100 ---> 2.274 ms\n",
      "---from total 96 choose 100 ---> 2.266 ms\n",
      "---from total 97 choose 100 ---> 2.163 ms\n",
      "---from total 98 choose 100 ---> 2.320 ms\n",
      "---from total 99 choose 100 ---> 2.295 ms\n"
     ]
    }
   ],
   "source": [
    "total_num = 100\n",
    "select_num = 2\n",
    "number_list = np.arange(total_num)\n",
    "\n",
    "for select_num in range(1, 100):\n",
    "    start = time.time()\n",
    "    for it in range(100):\n",
    "        chosed_number = np.random.choice(number_list, select_num)\n",
    "    end = time.time()\n",
    "    print('---from total {} choose {} ---> {:.3f} ms'.format(select_num, total_num, (end-start)*1000))\n",
    "    "
   ]
  },
  {
   "cell_type": "code",
   "execution_count": 6,
   "metadata": {},
   "outputs": [
    {
     "name": "stdout",
     "output_type": "stream",
     "text": [
      "---from total 1 choose 1000 ---> 23.856 ms\n",
      "---from total 2 choose 1000 ---> 23.439 ms\n",
      "---from total 3 choose 1000 ---> 22.989 ms\n",
      "---from total 4 choose 1000 ---> 23.770 ms\n",
      "---from total 5 choose 1000 ---> 23.013 ms\n",
      "---from total 6 choose 1000 ---> 24.621 ms"
     ]
    },
    {
     "name": "stdout",
     "output_type": "stream",
     "text": [
      "\n",
      "---from total 7 choose 1000 ---> 23.898 ms\n",
      "---from total 8 choose 1000 ---> 23.062 ms\n"
     ]
    },
    {
     "name": "stdout",
     "output_type": "stream",
     "text": [
      "---from total 9 choose 1000 ---> 24.644 ms\n",
      "---from total 10 choose 1000 ---> 24.279 ms\n",
      "---from total 11 choose 1000 ---> 24.190 ms\n",
      "---from total 12 choose 1000 ---> 23.172 ms\n",
      "---from total 13 choose 1000 ---> 23.262 ms"
     ]
    },
    {
     "name": "stdout",
     "output_type": "stream",
     "text": [
      "\n",
      "---from total 14 choose 1000 ---> 23.743 ms\n",
      "---from total 15 choose 1000 ---> 29.916 ms\n",
      "---from total 16 choose 1000 ---> 28.998 ms\n",
      "---from total 17 choose 1000 ---> 27.299 ms\n"
     ]
    },
    {
     "name": "stdout",
     "output_type": "stream",
     "text": [
      "---from total 18 choose 1000 ---> 23.692 ms\n",
      "---from total 19 choose 1000 ---> 23.538 ms\n",
      "---from total 20 choose 1000 ---> 24.166 ms\n",
      "---from total 21 choose 1000 ---> 22.356 ms\n",
      "---from total 22 choose 1000 ---> 25.534 ms"
     ]
    },
    {
     "name": "stdout",
     "output_type": "stream",
     "text": [
      "\n",
      "---from total 23 choose 1000 ---> 24.332 ms\n",
      "---from total 24 choose 1000 ---> 24.041 ms\n",
      "---from total 25 choose 1000 ---> 23.951 ms\n"
     ]
    },
    {
     "name": "stdout",
     "output_type": "stream",
     "text": [
      "---from total 26 choose 1000 ---> 24.549 ms\n",
      "---from total 27 choose 1000 ---> 23.254 ms\n",
      "---from total 28 choose 1000 ---> 24.997 ms\n",
      "---from total 29 choose 1000 ---> 19.391 ms\n"
     ]
    },
    {
     "name": "stdout",
     "output_type": "stream",
     "text": [
      "---from total 30 choose 1000 ---> 26.197 ms\n",
      "---from total 31 choose 1000 ---> 23.658 ms\n",
      "---from total 32 choose 1000 ---> 23.502 ms\n",
      "---from total 33 choose 1000 ---> 24.026 ms\n",
      "---from total 34 choose 1000 ---> 23.774 ms"
     ]
    },
    {
     "name": "stdout",
     "output_type": "stream",
     "text": [
      "\n",
      "---from total 35 choose 1000 ---> 24.894 ms\n"
     ]
    },
    {
     "name": "stdout",
     "output_type": "stream",
     "text": [
      "---from total 36 choose 1000 ---> 26.098 ms\n",
      "---from total 37 choose 1000 ---> 25.615 ms\n",
      "---from total 38 choose 1000 ---> 26.413 ms\n",
      "---from total 39 choose 1000 ---> 25.125 ms\n"
     ]
    },
    {
     "name": "stdout",
     "output_type": "stream",
     "text": [
      "---from total 40 choose 1000 ---> 23.787 ms\n",
      "---from total 41 choose 1000 ---> 23.765 ms\n",
      "---from total 42 choose 1000 ---> 23.584 ms\n"
     ]
    },
    {
     "name": "stdout",
     "output_type": "stream",
     "text": [
      "---from total 43 choose 1000 ---> 24.893 ms\n",
      "---from total 44 choose 1000 ---> 24.473 ms\n",
      "---from total 45 choose 1000 ---> 22.786 ms\n",
      "---from total 46 choose 1000 ---> 21.610 ms\n",
      "---from total 47 choose 1000 ---> 24.023 ms\n",
      "---from total 48 choose 1000 ---> 24.392 ms"
     ]
    },
    {
     "name": "stdout",
     "output_type": "stream",
     "text": [
      "\n",
      "---from total 49 choose 1000 ---> 23.738 ms\n",
      "---from total 50 choose 1000 ---> 24.612 ms"
     ]
    },
    {
     "name": "stdout",
     "output_type": "stream",
     "text": [
      "\n",
      "---from total 51 choose 1000 ---> 23.813 ms\n",
      "---from total 52 choose 1000 ---> 23.344 ms\n"
     ]
    },
    {
     "name": "stdout",
     "output_type": "stream",
     "text": [
      "---from total 53 choose 1000 ---> 25.861 ms\n",
      "---from total 54 choose 1000 ---> 24.361 ms\n",
      "---from total 55 choose 1000 ---> 24.348 ms\n",
      "---from total 56 choose 1000 ---> 26.242 ms\n",
      "---from total 57 choose 1000 ---> 20.533 ms\n",
      "---from total 58 choose 1000 ---> 22.820 ms\n"
     ]
    },
    {
     "name": "stdout",
     "output_type": "stream",
     "text": [
      "---from total 59 choose 1000 ---> 23.906 ms\n",
      "---from total 60 choose 1000 ---> 23.539 ms\n",
      "---from total 61 choose 1000 ---> 24.562 ms\n"
     ]
    },
    {
     "name": "stdout",
     "output_type": "stream",
     "text": [
      "---from total 62 choose 1000 ---> 25.229 ms\n",
      "---from total 63 choose 1000 ---> 25.276 ms"
     ]
    },
    {
     "name": "stdout",
     "output_type": "stream",
     "text": [
      "\n",
      "---from total 64 choose 1000 ---> 24.563 ms\n",
      "---from total 65 choose 1000 ---> 25.114 ms\n",
      "---from total 66 choose 1000 ---> 24.431 ms\n",
      "---from total 67 choose 1000 ---> 21.420 ms\n",
      "---from total 68 choose 1000 ---> 19.692 ms\n",
      "---from total 69 choose 1000 ---> 23.571 ms\n",
      "---from total 70 choose 1000 ---> 21.014 ms\n"
     ]
    },
    {
     "name": "stdout",
     "output_type": "stream",
     "text": [
      "---from total 71 choose 1000 ---> 24.862 ms\n"
     ]
    },
    {
     "name": "stdout",
     "output_type": "stream",
     "text": [
      "---from total 72 choose 1000 ---> 23.978 ms\n",
      "---from total 73 choose 1000 ---> 24.296 ms\n"
     ]
    },
    {
     "name": "stdout",
     "output_type": "stream",
     "text": [
      "---from total 74 choose 1000 ---> 23.957 ms\n",
      "---from total 75 choose 1000 ---> 23.214 ms\n",
      "---from total 76 choose 1000 ---> 23.098 ms\n",
      "---from total 77 choose 1000 ---> 23.673 ms\n",
      "---from total 78 choose 1000 ---> 24.078 ms\n",
      "---from total 79 choose 1000 ---> 24.632 ms\n"
     ]
    },
    {
     "name": "stdout",
     "output_type": "stream",
     "text": [
      "---from total 80 choose 1000 ---> 20.593 ms\n",
      "---from total 81 choose 1000 ---> 24.908 ms\n"
     ]
    },
    {
     "name": "stdout",
     "output_type": "stream",
     "text": [
      "---from total 82 choose 1000 ---> 23.884 ms\n",
      "---from total 83 choose 1000 ---> 22.797 ms\n",
      "---from total 84 choose 1000 ---> 24.009 ms\n"
     ]
    },
    {
     "name": "stdout",
     "output_type": "stream",
     "text": [
      "---from total 85 choose 1000 ---> 27.599 ms\n",
      "---from total 86 choose 1000 ---> 34.157 ms\n",
      "---from total 87 choose 1000 ---> 34.156 ms\n"
     ]
    },
    {
     "name": "stdout",
     "output_type": "stream",
     "text": [
      "---from total 88 choose 1000 ---> 34.424 ms\n",
      "---from total 89 choose 1000 ---> 22.291 ms\n"
     ]
    },
    {
     "name": "stdout",
     "output_type": "stream",
     "text": [
      "---from total 90 choose 1000 ---> 24.581 ms\n",
      "---from total 91 choose 1000 ---> 23.758 ms\n",
      "---from total 92 choose 1000 ---> 23.941 ms\n"
     ]
    },
    {
     "name": "stdout",
     "output_type": "stream",
     "text": [
      "---from total 93 choose 1000 ---> 25.972 ms\n",
      "---from total 94 choose 1000 ---> 24.389 ms\n",
      "---from total 95 choose 1000 ---> 23.338 ms\n",
      "---from total 96 choose 1000 ---> 24.966 ms\n"
     ]
    },
    {
     "name": "stdout",
     "output_type": "stream",
     "text": [
      "---from total 97 choose 1000 ---> 27.695 ms\n",
      "---from total 98 choose 1000 ---> 26.915 ms\n"
     ]
    },
    {
     "name": "stdout",
     "output_type": "stream",
     "text": [
      "---from total 99 choose 1000 ---> 42.346 ms\n"
     ]
    }
   ],
   "source": [
    "total_num = 1000\n",
    "select_num = 2\n",
    "number_list = np.arange(total_num)\n",
    "for select_num in range(1, 100):\n",
    "    start = time.time()\n",
    "    for it in range(1000):\n",
    "        chosed_number = np.random.choice(number_list, select_num)\n",
    "    end = time.time()\n",
    "    print('---from total {} choose {} ---> {:.3f} ms'.format(select_num, total_num, (end-start)*1000))"
   ]
  },
  {
   "cell_type": "code",
   "execution_count": null,
   "metadata": {},
   "outputs": [],
   "source": []
  }
 ],
 "metadata": {
  "kernelspec": {
   "display_name": "Python 3",
   "language": "python",
   "name": "python3"
  },
  "language_info": {
   "codemirror_mode": {
    "name": "ipython",
    "version": 3
   },
   "file_extension": ".py",
   "mimetype": "text/x-python",
   "name": "python",
   "nbconvert_exporter": "python",
   "pygments_lexer": "ipython3",
   "version": "3.8.5"
  }
 },
 "nbformat": 4,
 "nbformat_minor": 4
}