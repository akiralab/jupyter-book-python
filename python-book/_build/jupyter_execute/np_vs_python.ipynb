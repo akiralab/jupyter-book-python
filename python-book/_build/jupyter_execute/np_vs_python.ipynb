{
 "cells": [
  {
   "cell_type": "code",
   "execution_count": 1,
   "metadata": {},
   "outputs": [],
   "source": [
    "import numpy as np\n",
    "import matplotlib.pyplot as plt\n",
    "import time"
   ]
  },
  {
   "cell_type": "code",
   "execution_count": 2,
   "metadata": {},
   "outputs": [
    {
     "name": "stdout",
     "output_type": "stream",
     "text": [
      "Numpy is 12.650574421354959 times faster than Python-default method\n"
     ]
    },
    {
     "data": {
      "text/plain": [
       "<BarContainer object of 2 artists>"
      ]
     },
     "execution_count": 2,
     "metadata": {},
     "output_type": "execute_result"
    },
    {
     "data": {
      "image/png": "[encoded data removed]",
      "text/plain": [
       "<Figure size 432x288 with 1 Axes>"
      ]
     },
     "metadata": {
      "filenames": {
       "image/png": "/Users/akirakawai/Documents/personal/jupyter-book-python/python-book/_build/jupyter_execute/np_vs_python_1_2.png"
      },
      "needs_background": "light"
     },
     "output_type": "display_data"
    }
   ],
   "source": [
    "# Python vs Numpy\n",
    "start = time.time()\n",
    "data = np.arange(1000)\n",
    "for i in range(1000):\n",
    "    sum(data)\n",
    "end = time.time()\n",
    "t_python = (end - start) * 1000\n",
    "\n",
    "start = time.time()\n",
    "data = np.arange(1000)\n",
    "for i in range(1000):\n",
    "    np.sum(data)\n",
    "end = time.time()\n",
    "\n",
    "t_numpy = (end - start) * 1000\n",
    "\n",
    "print('Numpy is {} times faster than Python-default method'.format(t_python/t_numpy))\n",
    "\n",
    "fig = plt.figure()\n",
    "ax = fig.add_subplot(1,1,1)\n",
    "ax.set_xlabel('time(ms)')\n",
    "plt.barh(np.arange(2), [t_python, t_numpy], tick_label=[\"Python\", \"Numpy\"], color='b')"
   ]
  },
  {
   "cell_type": "code",
   "execution_count": 3,
   "metadata": {},
   "outputs": [
    {
     "name": "stdout",
     "output_type": "stream",
     "text": [
      "Numpy(average) is 13.953581686095625 times faster than Python-default method\n"
     ]
    },
    {
     "data": {
      "text/plain": [
       "<BarContainer object of 3 artists>"
      ]
     },
     "execution_count": 3,
     "metadata": {},
     "output_type": "execute_result"
    },
    {
     "data": {
      "image/png": "[encoded data removed]",
      "text/plain": [
       "<Figure size 432x288 with 1 Axes>"
      ]
     },
     "metadata": {
      "filenames": {
       "image/png": "/Users/akirakawai/Documents/personal/jupyter-book-python/python-book/_build/jupyter_execute/np_vs_python_2_2.png"
      },
      "needs_background": "light"
     },
     "output_type": "display_data"
    }
   ],
   "source": [
    "# Numpy.mean() vs np.average() vs python sum()/len()\n",
    "start = time.time()\n",
    "data = np.arange(1000)\n",
    "for i in range(1000):\n",
    "    sum(data)/len(data)\n",
    "end = time.time()\n",
    "t_python = (end - start) * 1000\n",
    "\n",
    "start = time.time()\n",
    "data = np.arange(1000)\n",
    "for i in range(1000):\n",
    "    np.average(data)\n",
    "end = time.time()\n",
    "\n",
    "t_numpy_1 = (end - start) * 1000\n",
    "\n",
    "start = time.time()\n",
    "data = np.arange(1000)\n",
    "for i in range(1000):\n",
    "    np.mean(data)\n",
    "end = time.time()\n",
    "\n",
    "t_numpy_2 = (end - start) * 1000\n",
    "\n",
    "print('Numpy(average) is {} times faster than Python-default method'.format(t_python/t_numpy))\n",
    "\n",
    "fig = plt.figure()\n",
    "ax = fig.add_subplot(1,1,1)\n",
    "ax.set_xlabel('time(ms)')\n",
    "plt.barh(np.arange(3), [t_python, t_numpy_1, t_numpy_2], tick_label=[\"Python\", \"Numpy(average)\", \"Numpy(mean)\"], color='b')"
   ]
  },
  {
   "cell_type": "code",
   "execution_count": 4,
   "metadata": {},
   "outputs": [
    {
     "name": "stdout",
     "output_type": "stream",
     "text": [
      "Numpy is -361.27647534357317 times faster than Python-default method\n"
     ]
    },
    {
     "data": {
      "text/plain": [
       "<BarContainer object of 2 artists>"
      ]
     },
     "execution_count": 4,
     "metadata": {},
     "output_type": "execute_result"
    },
    {
     "data": {
      "image/png": "[encoded data removed]",
      "text/plain": [
       "<Figure size 432x288 with 1 Axes>"
      ]
     },
     "metadata": {
      "filenames": {
       "image/png": "/Users/akirakawai/Documents/personal/jupyter-book-python/python-book/_build/jupyter_execute/np_vs_python_3_2.png"
      },
      "needs_background": "light"
     },
     "output_type": "display_data"
    }
   ],
   "source": [
    "# Python vs Numpy\n",
    "start = time.time()\n",
    "\n",
    "a, b = 2, 3\n",
    "data = np.zeros((128, 128))\n",
    "\n",
    "for x in range(128):\n",
    "    for y in range(128):\n",
    "        if y >= a * x + b:\n",
    "            data[x][y] = 1\n",
    "t_python = (end - start) * 1000\n",
    "\n",
    "end = time.time()\n",
    "\n",
    "a, b = 2, 3\n",
    "data = np.zeros((128, 128))\n",
    "\n",
    "start = time.time()\n",
    "\n",
    "x = np.arange(128)\n",
    "y = a * x + b\n",
    "\n",
    "for x in range(128):\n",
    "    data[x][:int(y[x])] = 1\n",
    "\n",
    "end = time.time()\n",
    "\n",
    "t_numpy = (end - start) * 1000\n",
    "\n",
    "print('Numpy is {} times faster than Python-default method'.format(t_python/t_numpy))\n",
    "\n",
    "fig = plt.figure()\n",
    "ax = fig.add_subplot(1,1,1)\n",
    "ax.set_xlabel('time(ms)')\n",
    "plt.barh(np.arange(2), [t_python, t_numpy], tick_label=[\"Python\", \"Numpy\"], color='b')"
   ]
  },
  {
   "cell_type": "code",
   "execution_count": null,
   "metadata": {},
   "outputs": [],
   "source": []
  }
 ],
 "metadata": {
  "kernelspec": {
   "display_name": "Python 3",
   "language": "python",
   "name": "python3"
  },
  "language_info": {
   "codemirror_mode": {
    "name": "ipython",
    "version": 3
   },
   "file_extension": ".py",
   "mimetype": "text/x-python",
   "name": "python",
   "nbconvert_exporter": "python",
   "pygments_lexer": "ipython3",
   "version": "3.8.5"
  }
 },
 "nbformat": 4,
 "nbformat_minor": 2
}