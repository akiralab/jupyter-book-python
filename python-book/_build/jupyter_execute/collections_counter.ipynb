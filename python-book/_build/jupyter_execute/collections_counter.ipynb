{
 "cells": [
  {
   "cell_type": "markdown",
   "metadata": {},
   "source": [
    "# collectionsとは？\n",
    "\n",
    "### 概要\n",
    "\n",
    "- リストの集計や並び替えに重宝するモジュール\n",
    "\n",
    "### 使用するメリット\n",
    "\n",
    "- 配列データを簡易的に分析するのに便利"
   ]
  },
  {
   "cell_type": "markdown",
   "metadata": {},
   "source": [
    "## Counter"
   ]
  },
  {
   "cell_type": "code",
   "execution_count": 1,
   "metadata": {},
   "outputs": [],
   "source": [
    "from collections import Counter"
   ]
  },
  {
   "cell_type": "code",
   "execution_count": 2,
   "metadata": {},
   "outputs": [
    {
     "name": "stdout",
     "output_type": "stream",
     "text": [
      "[9 8 1 5 0 8 8 7 0 1 3 4 5 2 4 7 3 5 4 8 9 6 8 8 9 4 1 7 7 2 4 5 9 7 4 1 1\n",
      " 9 9 2 5 2 6 9 2 3 6 3 7 8 6 0 9 8 1 8 2 8 4 8 0 4 8 6 5 5 5 2 4 2 3 0 0 1\n",
      " 2 4 4 7 7 2 8 2 9 3 8 7 1 6 4 0 2 4 2 2 1 4 5 2 2 8]\n"
     ]
    }
   ],
   "source": [
    "# ランダムな変数を作成する\n",
    "import numpy as np\n",
    "sample = np.random.randint(10, size=[100])\n",
    "print(sample)"
   ]
  },
  {
   "cell_type": "code",
   "execution_count": 3,
   "metadata": {},
   "outputs": [
    {
     "data": {
      "text/plain": [
       "Counter({9: 9, 8: 15, 1: 9, 5: 9, 0: 7, 7: 9, 3: 6, 4: 14, 2: 16, 6: 6})"
      ]
     },
     "execution_count": 3,
     "metadata": {},
     "output_type": "execute_result"
    }
   ],
   "source": [
    "# カウントする -> {key: 出現数}の辞書配列を出力する\n",
    "Counter(sample)"
   ]
  },
  {
   "cell_type": "code",
   "execution_count": 4,
   "metadata": {},
   "outputs": [
    {
     "data": {
      "text/plain": [
       "[(2, 16), (8, 15), (4, 14)]"
      ]
     },
     "execution_count": 4,
     "metadata": {},
     "output_type": "execute_result"
    }
   ],
   "source": [
    "# もっとも頻出の項目をリストアップする\n",
    "Counter(sample).most_common(3)"
   ]
  },
  {
   "cell_type": "code",
   "execution_count": null,
   "metadata": {},
   "outputs": [],
   "source": []
  },
  {
   "cell_type": "markdown",
   "metadata": {},
   "source": [
    "## OrderdDict\n",
    "- pythonの標準dictの強化版\n",
    "- dict要素に順序が付いており、並び替えなどができる"
   ]
  },
  {
   "cell_type": "code",
   "execution_count": 5,
   "metadata": {},
   "outputs": [],
   "source": [
    "from collections import OrderedDict"
   ]
  },
  {
   "cell_type": "code",
   "execution_count": 6,
   "metadata": {},
   "outputs": [
    {
     "name": "stdout",
     "output_type": "stream",
     "text": [
      "2 16\n",
      "8 15\n",
      "4 14\n",
      "9 9\n",
      "1 9\n",
      "5 9\n",
      "7 9\n",
      "0 7\n",
      "3 6\n",
      "6 6\n"
     ]
    }
   ],
   "source": [
    "# 最頻値で並び替え\n",
    "sample_list = Counter(sample).most_common(len(sample))\n",
    "od = OrderedDict(sample_list)\n",
    "\n",
    "for key, value in (od.items()):\n",
    "    print(key, value)"
   ]
  },
  {
   "cell_type": "code",
   "execution_count": null,
   "metadata": {},
   "outputs": [],
   "source": []
  }
 ],
 "metadata": {
  "kernelspec": {
   "display_name": "Python 3",
   "language": "python",
   "name": "python3"
  },
  "language_info": {
   "codemirror_mode": {
    "name": "ipython",
    "version": 3
   },
   "file_extension": ".py",
   "mimetype": "text/x-python",
   "name": "python",
   "nbconvert_exporter": "python",
   "pygments_lexer": "ipython3",
   "version": "3.8.5"
  }
 },
 "nbformat": 4,
 "nbformat_minor": 4
}