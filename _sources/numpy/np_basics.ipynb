{
 "cells": [
  {
   "cell_type": "markdown",
   "metadata": {
    "tags": []
   },
   "source": [
    "# numpyで配列を作成する"
   ]
  },
  {
   "cell_type": "code",
   "execution_count": 68,
   "metadata": {},
   "outputs": [],
   "source": [
    "import numpy as np"
   ]
  },
  {
   "cell_type": "markdown",
   "metadata": {},
   "source": [
    "## 要素を直接指定して配列を作成する（np.array）"
   ]
  },
  {
   "cell_type": "code",
   "execution_count": 71,
   "metadata": {},
   "outputs": [
    {
     "name": "stdout",
     "output_type": "stream",
     "text": [
      "array:  [[1 2 3]\n",
      " [4 5 6]]\n",
      "shape:  (2, 3)\n",
      "size:  6\n",
      "mean:  3.5\n",
      "sum:  21\n"
     ]
    }
   ],
   "source": [
    "a = np.array([[1, 2, 3], [4, 5, 6]])\n",
    "\n",
    "# 関数化\n",
    "def info(array):\n",
    "    print('array: ', array)\n",
    "    print('shape: ', array.shape)\n",
    "    print('size: ', array.size)\n",
    "    print('mean: ', array.mean())    \n",
    "    print('sum: ', array.sum())\n",
    "    \n",
    "info(a)"
   ]
  },
  {
   "cell_type": "markdown",
   "metadata": {},
   "source": [
    "## 要素がゼロの配列を作成する（np.zeros）"
   ]
  },
  {
   "cell_type": "code",
   "execution_count": 70,
   "metadata": {},
   "outputs": [
    {
     "name": "stdout",
     "output_type": "stream",
     "text": [
      "array:  [0. 0. 0. 0.]\n",
      "shape:  (4,)\n",
      "size:  4\n",
      "mean:  0.0\n",
      "sum:  0.0\n"
     ]
    }
   ],
   "source": [
    "a = np.zeros(4)\n",
    "info(a)"
   ]
  },
  {
   "cell_type": "markdown",
   "metadata": {
    "tags": []
   },
   "source": [
    "### 要素が1の配列を作成する（np.ones）"
   ]
  },
  {
   "cell_type": "code",
   "execution_count": 34,
   "metadata": {},
   "outputs": [
    {
     "name": "stdout",
     "output_type": "stream",
     "text": [
      "array:  [1. 1. 1. 1.]\n",
      "shape:  (4,)\n",
      "size:  4\n",
      "mean:  1.0\n",
      "sum:  4.0\n"
     ]
    }
   ],
   "source": [
    "a = np.ones(4)\n",
    "info(a)"
   ]
  },
  {
   "cell_type": "markdown",
   "metadata": {
    "tags": []
   },
   "source": [
    "### 要素が空の配列を作成する（np.empty）"
   ]
  },
  {
   "cell_type": "code",
   "execution_count": 35,
   "metadata": {},
   "outputs": [
    {
     "name": "stdout",
     "output_type": "stream",
     "text": [
      "array:  [1. 1. 1. 1.]\n",
      "shape:  (4,)\n",
      "size:  4\n",
      "mean:  1.0\n",
      "sum:  4.0\n"
     ]
    }
   ],
   "source": [
    "a = np.empty(shape=[4])\n",
    "info(a)"
   ]
  },
  {
   "cell_type": "markdown",
   "metadata": {},
   "source": [
    "### 要素を一意の数値に指定して作成する（np.full）"
   ]
  },
  {
   "cell_type": "code",
   "execution_count": 36,
   "metadata": {},
   "outputs": [
    {
     "name": "stdout",
     "output_type": "stream",
     "text": [
      "array:  [[10 10 10 10]\n",
      " [10 10 10 10]\n",
      " [10 10 10 10]\n",
      " [10 10 10 10]\n",
      " [10 10 10 10]]\n",
      "shape:  (5, 4)\n",
      "size:  20\n",
      "mean:  10.0\n",
      "sum:  200\n"
     ]
    }
   ],
   "source": [
    "a = np.full([5, 4], 10)\n",
    "info(a)"
   ]
  },
  {
   "cell_type": "markdown",
   "metadata": {},
   "source": [
    "### 順列要素として作成する（np.arange）"
   ]
  },
  {
   "cell_type": "code",
   "execution_count": 37,
   "metadata": {},
   "outputs": [
    {
     "name": "stdout",
     "output_type": "stream",
     "text": [
      "array:  [0 1 2 3 4 5 6 7 8 9]\n",
      "shape:  (10,)\n",
      "size:  10\n",
      "mean:  4.5\n",
      "sum:  45\n"
     ]
    }
   ],
   "source": [
    "a = np.arange(10)\n",
    "info(a)"
   ]
  },
  {
   "cell_type": "code",
   "execution_count": 41,
   "metadata": {},
   "outputs": [
    {
     "name": "stdout",
     "output_type": "stream",
     "text": [
      "array:  [10 12 14 16 18]\n",
      "shape:  (5,)\n",
      "size:  5\n",
      "mean:  14.0\n",
      "sum:  70\n"
     ]
    }
   ],
   "source": [
    "# stopで指定した数字は入らないので注意\n",
    "a = np.arange(start=10, stop=20, step=2)\n",
    "info(a)"
   ]
  },
  {
   "cell_type": "markdown",
   "metadata": {},
   "source": [
    "### 順列を作成する（np.linspace）\n",
    "- np.arangeとは異なり、配列の要素数を指定することができる"
   ]
  },
  {
   "cell_type": "code",
   "execution_count": 44,
   "metadata": {},
   "outputs": [],
   "source": [
    "a = np.linspace(start=10, stop=20, num=2)\n",
    "info(a)"
   ]
  },
  {
   "cell_type": "markdown",
   "metadata": {},
   "source": [
    "### 指数ベースでの順列を作成する（np.logspace）\n",
    "- 指数ベースでの配列作成（基数は10がデフォルト）"
   ]
  },
  {
   "cell_type": "code",
   "execution_count": 63,
   "metadata": {},
   "outputs": [
    {
     "name": "stdout",
     "output_type": "stream",
     "text": [
      "array:  [   10.   100.  1000. 10000.]\n",
      "shape:  (4,)\n",
      "size:  4\n",
      "mean:  2777.5\n",
      "sum:  11110.0\n"
     ]
    }
   ],
   "source": [
    "# 10^1から始まり、10^4で終わる配列を作成。要素数は4\n",
    "a = np.logspace(start=1, stop=4, num=4)\n",
    "info(a)"
   ]
  },
  {
   "cell_type": "markdown",
   "metadata": {},
   "source": [
    "### 対数スケール（幾何級数）で等間隔に並んだ数字を返す（np.geomspace）"
   ]
  },
  {
   "cell_type": "code",
   "execution_count": 66,
   "metadata": {},
   "outputs": [
    {
     "name": "stdout",
     "output_type": "stream",
     "text": [
      "array:  [   1.   10.  100. 1000.]\n",
      "shape:  (4,)\n",
      "size:  4\n",
      "mean:  277.75\n",
      "sum:  1111.0\n"
     ]
    }
   ],
   "source": [
    "a = np.geomspace(1, 1000, num=4)\n",
    "info(a)"
   ]
  },
  {
   "cell_type": "markdown",
   "metadata": {},
   "source": [
    "### 要素がrandomの配列を作成する（np.random）"
   ]
  },
  {
   "cell_type": "code",
   "execution_count": 67,
   "metadata": {},
   "outputs": [
    {
     "name": "stdout",
     "output_type": "stream",
     "text": [
      "array:  [[0.7508038  0.65862125 0.26007837 0.8565904 ]\n",
      " [0.49285927 0.97450707 0.42321856 0.82244596]\n",
      " [0.43644984 0.17597482 0.00689489 0.28943564]]\n",
      "shape:  (3, 4)\n",
      "size:  12\n",
      "mean:  0.5123233227838125\n",
      "sum:  6.147879873405751\n"
     ]
    }
   ],
   "source": [
    "a = np.random.rand(3, 4)\n",
    "info(a)"
   ]
  },
  {
   "cell_type": "code",
   "execution_count": null,
   "metadata": {},
   "outputs": [],
   "source": []
  },
  {
   "cell_type": "code",
   "execution_count": null,
   "metadata": {},
   "outputs": [],
   "source": []
  }
 ],
 "metadata": {
  "kernelspec": {
   "display_name": "Python 3",
   "language": "python",
   "name": "python3"
  },
  "language_info": {
   "codemirror_mode": {
    "name": "ipython",
    "version": 3
   },
   "file_extension": ".py",
   "mimetype": "text/x-python",
   "name": "python",
   "nbconvert_exporter": "python",
   "pygments_lexer": "ipython3",
   "version": "3.8.5"
  }
 },
 "nbformat": 4,
 "nbformat_minor": 4
}
