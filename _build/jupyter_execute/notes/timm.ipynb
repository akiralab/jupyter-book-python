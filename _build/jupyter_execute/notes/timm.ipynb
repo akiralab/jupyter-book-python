{
 "cells": [
  {
   "cell_type": "code",
   "execution_count": 16,
   "id": "6526eeea",
   "metadata": {},
   "outputs": [],
   "source": [
    "import timm\n",
    "import torch\n",
    "import pprint\n",
    "# from torchviz import make_dot, make_dot_from_trace"
   ]
  },
  {
   "cell_type": "markdown",
   "id": "6bd39e2c",
   "metadata": {},
   "source": [
    "# timmとは\n",
    "```\n",
    "`timm` is a deep-learning library created by Ross Wightman and is a collection of SOTA computer vision models, layers, utilities, optimizers, schedulers, data-loaders, augmentations and also training/validating scripts with ability to reproduce ImageNet training results.\n",
    "```\n",
    "(参考)\n",
    "\n",
    "https://timm.fast.ai/\n",
    "\n",
    "https://huggingface.co/docs/timm/quickstart"
   ]
  },
  {
   "cell_type": "markdown",
   "id": "c8d76d57",
   "metadata": {},
   "source": [
    "## いくつモデルががるのか"
   ]
  },
  {
   "cell_type": "code",
   "execution_count": 112,
   "id": "d78e0def",
   "metadata": {},
   "outputs": [
    {
     "name": "stdout",
     "output_type": "stream",
     "text": [
      "モデル数: 964\n",
      "モデル数(pretrained): 770\n"
     ]
    }
   ],
   "source": [
    "aveil_models = timm.list_models()\n",
    "avail_pretrained_models = timm.list_models(pretrained=True)\n",
    "\n",
    "print(f'モデル数: {len(aveil_models)}')\n",
    "print(f'モデル数(pretrained): {len(avail_pretrained_models)}')"
   ]
  },
  {
   "cell_type": "markdown",
   "id": "14ae69e6",
   "metadata": {},
   "source": [
    "## どんなモデルがあるのか"
   ]
  },
  {
   "cell_type": "code",
   "execution_count": 113,
   "id": "fd28856e",
   "metadata": {},
   "outputs": [
    {
     "data": {
      "text/plain": [
       "['adv_inception_v3',\n",
       " 'bat_resnext26ts',\n",
       " 'beit_base_patch16_224',\n",
       " 'beit_base_patch16_224_in22k',\n",
       " 'beit_base_patch16_384',\n",
       " 'beit_large_patch16_224',\n",
       " 'beit_large_patch16_224_in22k',\n",
       " 'beit_large_patch16_384',\n",
       " 'beit_large_patch16_512',\n",
       " 'beitv2_base_patch16_224']"
      ]
     },
     "execution_count": 113,
     "metadata": {},
     "output_type": "execute_result"
    }
   ],
   "source": [
    "timm.list_models()[:10]"
   ]
  },
  {
   "cell_type": "code",
   "execution_count": 114,
   "id": "d5dee5a0",
   "metadata": {},
   "outputs": [
    {
     "data": {
      "text/plain": [
       "['efficientnet_b0',\n",
       " 'efficientnet_b1',\n",
       " 'efficientnet_b1_pruned',\n",
       " 'efficientnet_b2',\n",
       " 'efficientnet_b2_pruned',\n",
       " 'efficientnet_b3',\n",
       " 'efficientnet_b3_pruned',\n",
       " 'efficientnet_b4',\n",
       " 'efficientnet_el',\n",
       " 'efficientnet_el_pruned',\n",
       " 'efficientnet_em',\n",
       " 'efficientnet_es',\n",
       " 'efficientnet_es_pruned',\n",
       " 'efficientnet_lite0',\n",
       " 'efficientnetv2_rw_m',\n",
       " 'efficientnetv2_rw_s',\n",
       " 'efficientnetv2_rw_t',\n",
       " 'gc_efficientnetv2_rw_t',\n",
       " 'tf_efficientnet_b0',\n",
       " 'tf_efficientnet_b0_ap',\n",
       " 'tf_efficientnet_b0_ns',\n",
       " 'tf_efficientnet_b1',\n",
       " 'tf_efficientnet_b1_ap',\n",
       " 'tf_efficientnet_b1_ns',\n",
       " 'tf_efficientnet_b2',\n",
       " 'tf_efficientnet_b2_ap',\n",
       " 'tf_efficientnet_b2_ns',\n",
       " 'tf_efficientnet_b3',\n",
       " 'tf_efficientnet_b3_ap',\n",
       " 'tf_efficientnet_b3_ns',\n",
       " 'tf_efficientnet_b4',\n",
       " 'tf_efficientnet_b4_ap',\n",
       " 'tf_efficientnet_b4_ns',\n",
       " 'tf_efficientnet_b5',\n",
       " 'tf_efficientnet_b5_ap',\n",
       " 'tf_efficientnet_b5_ns',\n",
       " 'tf_efficientnet_b6',\n",
       " 'tf_efficientnet_b6_ap',\n",
       " 'tf_efficientnet_b6_ns',\n",
       " 'tf_efficientnet_b7',\n",
       " 'tf_efficientnet_b7_ap',\n",
       " 'tf_efficientnet_b7_ns',\n",
       " 'tf_efficientnet_b8',\n",
       " 'tf_efficientnet_b8_ap',\n",
       " 'tf_efficientnet_cc_b0_4e',\n",
       " 'tf_efficientnet_cc_b0_8e',\n",
       " 'tf_efficientnet_cc_b1_8e',\n",
       " 'tf_efficientnet_el',\n",
       " 'tf_efficientnet_em',\n",
       " 'tf_efficientnet_es',\n",
       " 'tf_efficientnet_l2_ns',\n",
       " 'tf_efficientnet_l2_ns_475',\n",
       " 'tf_efficientnet_lite0',\n",
       " 'tf_efficientnet_lite1',\n",
       " 'tf_efficientnet_lite2',\n",
       " 'tf_efficientnet_lite3',\n",
       " 'tf_efficientnet_lite4',\n",
       " 'tf_efficientnetv2_b0',\n",
       " 'tf_efficientnetv2_b1',\n",
       " 'tf_efficientnetv2_b2',\n",
       " 'tf_efficientnetv2_b3',\n",
       " 'tf_efficientnetv2_l',\n",
       " 'tf_efficientnetv2_l_in21ft1k',\n",
       " 'tf_efficientnetv2_l_in21k',\n",
       " 'tf_efficientnetv2_m',\n",
       " 'tf_efficientnetv2_m_in21ft1k',\n",
       " 'tf_efficientnetv2_m_in21k',\n",
       " 'tf_efficientnetv2_s',\n",
       " 'tf_efficientnetv2_s_in21ft1k',\n",
       " 'tf_efficientnetv2_s_in21k',\n",
       " 'tf_efficientnetv2_xl_in21ft1k',\n",
       " 'tf_efficientnetv2_xl_in21k']"
      ]
     },
     "execution_count": 114,
     "metadata": {},
     "output_type": "execute_result"
    }
   ],
   "source": [
    "# 検索も可能\n",
    "timm.list_models(\"*efficientnet*\", pretrained=True)"
   ]
  },
  {
   "cell_type": "code",
   "execution_count": 115,
   "id": "b4170789",
   "metadata": {},
   "outputs": [],
   "source": [
    "# 検索も可能\n",
    "timm.list_models(\"*YOLO*\", pretrained=True)"
   ]
  },
  {
   "cell_type": "code",
   "execution_count": 123,
   "id": "ffa9360b",
   "metadata": {},
   "outputs": [
    {
     "data": {
      "text/plain": [
       "['mobilenetv2_050',\n",
       " 'mobilenetv2_100',\n",
       " 'mobilenetv2_110d',\n",
       " 'mobilenetv2_120d',\n",
       " 'mobilenetv2_140',\n",
       " 'mobilenetv3_large_100',\n",
       " 'mobilenetv3_large_100_miil',\n",
       " 'mobilenetv3_large_100_miil_in21k',\n",
       " 'mobilenetv3_rw',\n",
       " 'mobilenetv3_small_050',\n",
       " 'mobilenetv3_small_075',\n",
       " 'mobilenetv3_small_100',\n",
       " 'tf_mobilenetv3_large_075',\n",
       " 'tf_mobilenetv3_large_100',\n",
       " 'tf_mobilenetv3_large_minimal_100',\n",
       " 'tf_mobilenetv3_small_075',\n",
       " 'tf_mobilenetv3_small_100',\n",
       " 'tf_mobilenetv3_small_minimal_100']"
      ]
     },
     "execution_count": 123,
     "metadata": {},
     "output_type": "execute_result"
    }
   ],
   "source": [
    "# 検索も可能\n",
    "timm.list_models(\"*mobilenet*\", pretrained=True)"
   ]
  },
  {
   "cell_type": "markdown",
   "id": "8a694a6f",
   "metadata": {},
   "source": [
    "# それぞれのモデルのサイズを計測してみる\n",
    "\n",
    "参考： https://discuss.pytorch.org/t/finding-model-size/130275"
   ]
  },
  {
   "cell_type": "code",
   "execution_count": 121,
   "id": "8c347f56",
   "metadata": {},
   "outputs": [],
   "source": [
    "def calc_model_size(model):\n",
    "    param_size = 0\n",
    "    for param in model.parameters():\n",
    "        param_size += param.nelement() * param.element_size()\n",
    "    buffer_size = 0\n",
    "    for buffer in model.buffers():\n",
    "        buffer_size += buffer.nelement() * buffer.element_size()\n",
    "\n",
    "    size_all_mb = (param_size + buffer_size) / 1024**2\n",
    "    return size_all_mb"
   ]
  },
  {
   "cell_type": "code",
   "execution_count": 124,
   "id": "55f8c582",
   "metadata": {},
   "outputs": [
    {
     "name": "stdout",
     "output_type": "stream",
     "text": [
      "mobilenetv2_050                         :    7.6MB\n",
      "mobilenetv2_100                         :   13.5MB\n",
      "mobilenetv2_110d                        :   17.4MB\n",
      "mobilenetv2_120d                        :   22.5MB\n",
      "mobilenetv2_140                         :   23.5MB\n",
      "mobilenetv3_large_100                   :   21.0MB\n",
      "mobilenetv3_large_100_miil              :   21.0MB\n",
      "mobilenetv3_large_100_miil_in21k        :   71.0MB\n",
      "mobilenetv3_rw                          :   21.0MB\n",
      "mobilenetv3_small_050                   :    6.1MB\n",
      "mobilenetv3_small_075                   :    7.8MB\n",
      "mobilenetv3_small_100                   :    9.7MB\n",
      "tf_mobilenetv3_large_075                :   15.3MB\n",
      "tf_mobilenetv3_large_100                :   21.0MB\n",
      "tf_mobilenetv3_large_minimal_100        :   15.1MB\n",
      "tf_mobilenetv3_small_075                :    7.8MB\n",
      "tf_mobilenetv3_small_100                :    9.7MB\n",
      "tf_mobilenetv3_small_minimal_100        :    7.8MB\n"
     ]
    }
   ],
   "source": [
    "for model_name in timm.list_models(\"*mobilenet*\", pretrained=True):\n",
    "    model = timm.create_model(model_name)\n",
    "    model_size = calc_model_size(model)\n",
    "    print(f\"{model_name:40}: {model_size:6.1f}MB\")"
   ]
  },
  {
   "cell_type": "code",
   "execution_count": 122,
   "id": "c3193084",
   "metadata": {},
   "outputs": [
    {
     "name": "stdout",
     "output_type": "stream",
     "text": [
      "efficientnet_b0                         :  20.3MB\n",
      "efficientnet_b1                         :  30.0MB\n",
      "efficientnet_b1_pruned                  :  24.3MB\n",
      "efficientnet_b2                         :  35.0MB\n",
      "efficientnet_b2_pruned                  :  31.9MB\n",
      "efficientnet_b3                         :  47.0MB\n",
      "efficientnet_b3_pruned                  :  37.8MB\n",
      "efficientnet_b4                         :  74.3MB\n",
      "efficientnet_el                         :  40.7MB\n",
      "efficientnet_el_pruned                  :  40.7MB\n",
      "efficientnet_em                         :  26.6MB\n",
      "efficientnet_es                         :  20.9MB\n",
      "efficientnet_es_pruned                  :  20.9MB\n",
      "efficientnet_lite0                      :  17.9MB\n",
      "efficientnetv2_rw_m                     : 204.3MB\n",
      "efficientnetv2_rw_s                     :  91.9MB\n",
      "efficientnetv2_rw_t                     :  52.5MB\n",
      "gc_efficientnetv2_rw_t                  :  52.6MB\n",
      "tf_efficientnet_b0                      :  20.3MB\n",
      "tf_efficientnet_b0_ap                   :  20.3MB\n",
      "tf_efficientnet_b0_ns                   :  20.3MB\n",
      "tf_efficientnet_b1                      :  30.0MB\n",
      "tf_efficientnet_b1_ap                   :  30.0MB\n",
      "tf_efficientnet_b1_ns                   :  30.0MB\n",
      "tf_efficientnet_b2                      :  35.0MB\n",
      "tf_efficientnet_b2_ap                   :  35.0MB\n",
      "tf_efficientnet_b2_ns                   :  35.0MB\n",
      "tf_efficientnet_b3                      :  47.0MB\n",
      "tf_efficientnet_b3_ap                   :  47.0MB\n",
      "tf_efficientnet_b3_ns                   :  47.0MB\n",
      "tf_efficientnet_b4                      :  74.3MB\n",
      "tf_efficientnet_b4_ap                   :  74.3MB\n",
      "tf_efficientnet_b4_ns                   :  74.3MB\n",
      "tf_efficientnet_b5                      : 116.6MB\n",
      "tf_efficientnet_b5_ap                   : 116.6MB\n",
      "tf_efficientnet_b5_ns                   : 116.6MB\n",
      "tf_efficientnet_b6                      : 165.0MB\n",
      "tf_efficientnet_b6_ap                   : 165.0MB\n",
      "tf_efficientnet_b6_ns                   : 165.0MB\n",
      "tf_efficientnet_b7                      : 254.3MB\n",
      "tf_efficientnet_b7_ap                   : 254.3MB\n",
      "tf_efficientnet_b7_ns                   : 254.3MB\n",
      "tf_efficientnet_b8                      : 334.9MB\n",
      "tf_efficientnet_b8_ap                   : 334.9MB\n",
      "tf_efficientnet_cc_b0_4e                :  50.9MB\n",
      "tf_efficientnet_cc_b0_8e                :  91.8MB\n",
      "tf_efficientnet_cc_b1_8e                : 151.7MB\n",
      "tf_efficientnet_el                      :  40.7MB\n",
      "tf_efficientnet_em                      :  26.6MB\n",
      "tf_efficientnet_es                      :  20.9MB\n",
      "tf_efficientnet_l2_ns                   : 1836.4MB\n",
      "tf_efficientnet_l2_ns_475               : 1836.4MB\n",
      "tf_efficientnet_lite0                   :  17.9MB\n",
      "tf_efficientnet_lite1                   :  20.9MB\n",
      "tf_efficientnet_lite2                   :  23.5MB\n",
      "tf_efficientnet_lite3                   :  31.6MB\n",
      "tf_efficientnet_lite4                   :  50.0MB\n",
      "tf_efficientnetv2_b0                    :  27.5MB\n",
      "tf_efficientnetv2_b1                    :  31.3MB\n",
      "tf_efficientnetv2_b2                    :  38.8MB\n",
      "tf_efficientnetv2_b3                    :  55.2MB\n",
      "tf_efficientnetv2_l                     : 454.1MB\n",
      "tf_efficientnetv2_l_in21ft1k            : 454.1MB\n",
      "tf_efficientnetv2_l_in21k               : 555.9MB\n",
      "tf_efficientnetv2_m                     : 207.6MB\n",
      "tf_efficientnetv2_m_in21ft1k            : 207.6MB\n",
      "tf_efficientnetv2_m_in21k               : 309.5MB\n",
      "tf_efficientnetv2_s                     :  82.4MB\n",
      "tf_efficientnetv2_s_in21ft1k            :  82.4MB\n",
      "tf_efficientnetv2_s_in21k               : 184.3MB\n",
      "tf_efficientnetv2_xl_in21ft1k           : 796.9MB\n",
      "tf_efficientnetv2_xl_in21k              : 898.7MB\n"
     ]
    }
   ],
   "source": [
    "for model_name in timm.list_models(\"*efficientnet*\", pretrained=True):\n",
    "    model = timm.create_model(model_name)\n",
    "    model_size = calc_model_size(model)\n",
    "    print(f\"{model_name:40}: {model_size:6.1f}MB\")"
   ]
  },
  {
   "cell_type": "code",
   "execution_count": 128,
   "id": "15f12dfc",
   "metadata": {},
   "outputs": [
    {
     "name": "stdout",
     "output_type": "stream",
     "text": [
      "cspresnet50                             :   82.6MB\n",
      "eca_resnet33ts                          :   75.2MB\n",
      "ecaresnet26t                            :   61.2MB\n",
      "ecaresnet50d                            :   97.8MB\n",
      "ecaresnet50d_pruned                     :   76.2MB\n",
      "ecaresnet50t                            :   97.8MB\n",
      "ecaresnet101d                           :  170.4MB\n",
      "ecaresnet101d_pruned                    :   95.1MB\n",
      "ecaresnet269d                           :  390.4MB\n",
      "ecaresnetlight                          :  115.3MB\n",
      "ens_adv_inception_resnet_v2             :  213.3MB\n",
      "gcresnet33ts                            :   76.0MB\n",
      "gcresnet50t                             :   99.0MB\n",
      "gluon_resnet18_v1b                      :   44.6MB\n",
      "gluon_resnet34_v1b                      :   83.2MB\n",
      "gluon_resnet50_v1b                      :   97.7MB\n",
      "gluon_resnet50_v1c                      :   97.8MB\n",
      "gluon_resnet50_v1d                      :   97.8MB\n",
      "gluon_resnet50_v1s                      :   98.2MB\n",
      "gluon_resnet101_v1b                     :  170.3MB\n",
      "gluon_resnet101_v1c                     :  170.4MB\n",
      "gluon_resnet101_v1d                     :  170.4MB\n",
      "gluon_resnet101_v1s                     :  170.8MB\n",
      "gluon_resnet152_v1b                     :  230.2MB\n",
      "gluon_resnet152_v1c                     :  230.3MB\n",
      "gluon_resnet152_v1d                     :  230.3MB\n",
      "gluon_resnet152_v1s                     :  230.7MB\n",
      "inception_resnet_v2                     :  213.3MB\n",
      "lambda_resnet26rpt_256                  :   44.1MB\n",
      "lambda_resnet26t                        :   41.9MB\n",
      "lambda_resnet50ts                       :   82.4MB\n",
      "legacy_seresnet18                       :   45.0MB\n",
      "legacy_seresnet34                       :   83.8MB\n",
      "legacy_seresnet50                       :  107.4MB\n",
      "legacy_seresnet101                      :  188.6MB\n",
      "legacy_seresnet152                      :  255.5MB\n",
      "nf_resnet50                             :   97.5MB\n",
      "resnet10t                               :   20.8MB\n",
      "resnet14t                               :   38.5MB\n",
      "resnet18                                :   44.6MB\n",
      "resnet18d                               :   44.7MB\n",
      "resnet26                                :   61.1MB\n",
      "resnet26d                               :   61.2MB\n",
      "resnet26t                               :   61.2MB\n",
      "resnet32ts                              :   68.7MB\n",
      "resnet33ts                              :   75.2MB\n",
      "resnet34                                :   83.2MB\n",
      "resnet34d                               :   83.3MB\n",
      "resnet50                                :   97.7MB\n",
      "resnet50_gn                             :   97.5MB\n",
      "resnet50d                               :   97.8MB\n",
      "resnet51q                               :  136.5MB\n",
      "resnet61q                               :  140.9MB\n",
      "resnet101                               :  170.3MB\n",
      "resnet101d                              :  170.4MB\n",
      "resnet152                               :  230.2MB\n",
      "resnet152d                              :  230.3MB\n",
      "resnet200d                              :  247.5MB\n",
      "resnetaa50                              :   97.7MB\n",
      "resnetblur50                            :   97.7MB\n",
      "resnetrs50                              :  136.4MB\n",
      "resnetrs101                             :  243.1MB\n",
      "resnetrs152                             :  331.0MB\n",
      "resnetrs200                             :  356.2MB\n",
      "resnetrs270                             :  496.3MB\n",
      "resnetrs350                             :  626.6MB\n",
      "resnetrs420                             :  733.4MB\n",
      "resnetv2_50                             :   97.6MB\n",
      "resnetv2_50d_evos                       :   97.6MB\n",
      "resnetv2_50d_gn                         :   97.5MB\n",
      "resnetv2_50x1_bit_distilled             :   97.5MB\n",
      "resnetv2_50x1_bitm                      :   97.5MB\n",
      "resnetv2_50x1_bitm_in21k                :  260.4MB\n",
      "resnetv2_50x3_bitm                      :  829.0MB\n",
      "resnetv2_50x3_bitm_in21k                : 1317.6MB\n",
      "resnetv2_101                            :  170.3MB\n",
      "resnetv2_101x1_bitm                     :  169.9MB\n",
      "resnetv2_101x1_bitm_in21k               :  332.8MB\n",
      "resnetv2_101x3_bitm                     : 1479.9MB\n",
      "resnetv2_101x3_bitm_in21k               : 1968.4MB\n",
      "resnetv2_152x2_bit_teacher              :  901.5MB\n",
      "resnetv2_152x2_bit_teacher_384          :  901.5MB\n",
      "resnetv2_152x2_bitm                     :  901.5MB\n",
      "resnetv2_152x2_bitm_in21k               : 1227.3MB\n",
      "resnetv2_152x4_bitm                     : 3572.6MB\n",
      "resnetv2_152x4_bitm_in21k               : 4224.0MB\n",
      "seresnet33ts                            :   75.6MB\n",
      "seresnet50                              :  107.4MB\n",
      "seresnet152d                            :  255.6MB\n",
      "skresnet18                              :   45.7MB\n",
      "skresnet34                              :   85.1MB\n",
      "ssl_resnet18                            :   44.6MB\n",
      "ssl_resnet50                            :   97.7MB\n",
      "swsl_resnet18                           :   44.6MB\n",
      "swsl_resnet50                           :   97.7MB\n",
      "tresnet_l                               :  214.0MB\n",
      "tresnet_l_448                           :  214.0MB\n",
      "tresnet_m                               :  120.0MB\n",
      "tresnet_m_448                           :  120.0MB\n",
      "tresnet_m_miil_in21k                    :  199.9MB\n",
      "tresnet_v2_l                            :  176.6MB\n",
      "tresnet_xl                              :  299.8MB\n",
      "tresnet_xl_448                          :  299.8MB\n",
      "tv_resnet34                             :   83.2MB\n",
      "tv_resnet50                             :   97.7MB\n",
      "tv_resnet101                            :  170.3MB\n",
      "tv_resnet152                            :  230.2MB\n",
      "wide_resnet50_2                         :  263.0MB\n",
      "wide_resnet101_2                        :  484.6MB\n"
     ]
    }
   ],
   "source": [
    "for model_name in timm.list_models(\"*resnet*\", pretrained=True):\n",
    "    model = timm.create_model(model_name)\n",
    "    model_size = calc_model_size(model)\n",
    "    print(f\"{model_name:40}: {model_size:6.1f}MB\")"
   ]
  },
  {
   "cell_type": "markdown",
   "id": "70b4ae8b",
   "metadata": {},
   "source": [
    "# モデルを作成する"
   ]
  },
  {
   "cell_type": "code",
   "execution_count": 132,
   "id": "c30d773e",
   "metadata": {},
   "outputs": [
    {
     "name": "stderr",
     "output_type": "stream",
     "text": [
      "Downloading: \"https://github.com/rwightman/pytorch-image-models/releases/download/v0.1-weights/efficientnet_b0_ra-3dd342df.pth\" to /Users/akirakawai/.cache/torch/hub/checkpoints/efficientnet_b0_ra-3dd342df.pth\n"
     ]
    },
    {
     "name": "stdout",
     "output_type": "stream",
     "text": [
      "torch.Size([1, 1000])\n"
     ]
    }
   ],
   "source": [
    "model = timm.create_model('efficientnet_b0', pretrained=True)\n",
    "# model = timm.create_model('mobilenetv2_050')\n",
    "output = model(torch.rand(1, 3, 224, 224))\n",
    "print(output.shape)"
   ]
  },
  {
   "cell_type": "markdown",
   "id": "e9ceb54e",
   "metadata": {},
   "source": [
    "## 入力や出力のCHを変更することも可能"
   ]
  },
  {
   "cell_type": "code",
   "execution_count": 137,
   "id": "5e7ed86c",
   "metadata": {},
   "outputs": [
    {
     "name": "stdout",
     "output_type": "stream",
     "text": [
      "torch.Size([1, 1000])\n"
     ]
    }
   ],
   "source": [
    "model = timm.create_model('efficientnet_b0', pretrained=True, in_chans=10)\n",
    "output = model(torch.rand(1, 10, 224, 224))\n",
    "print(output.shape)"
   ]
  },
  {
   "cell_type": "code",
   "execution_count": 138,
   "id": "0af27380",
   "metadata": {},
   "outputs": [
    {
     "name": "stdout",
     "output_type": "stream",
     "text": [
      "torch.Size([1, 10])\n"
     ]
    }
   ],
   "source": [
    "model = timm.create_model('efficientnet_b0', pretrained=True, num_classes=10)\n",
    "output = model(torch.rand(1, 3, 224, 224))\n",
    "print(output.shape)"
   ]
  },
  {
   "cell_type": "code",
   "execution_count": 142,
   "id": "59cd396a",
   "metadata": {},
   "outputs": [
    {
     "name": "stdout",
     "output_type": "stream",
     "text": [
      "torch.Size([1, 5])\n"
     ]
    }
   ],
   "source": [
    "model = timm.create_model('efficientnet_b0', pretrained=True, in_chans=5, num_classes=5)\n",
    "output = model(torch.rand(1, 5, 224, 224))\n",
    "print(output.shape)"
   ]
  },
  {
   "cell_type": "markdown",
   "id": "83f3b962",
   "metadata": {},
   "source": [
    "## weightの読み込み方法の変更\n",
    "- https://timm.fast.ai/models#How-is-timm-able-to-use-pretrained-weights-and-handle-images-that-are-not-3-channel-RGB-images?"
   ]
  },
  {
   "cell_type": "code",
   "execution_count": 143,
   "id": "08ae6ed0",
   "metadata": {},
   "outputs": [],
   "source": [
    "from timm.models.resnet import ResNet, BasicBlock, default_cfgs\n",
    "from timm.models.helpers import load_pretrained\n",
    "from copy import deepcopy"
   ]
  },
  {
   "cell_type": "code",
   "execution_count": 146,
   "id": "6053c4c8",
   "metadata": {},
   "outputs": [
    {
     "data": {
      "text/plain": [
       "Conv2d(1, 64, kernel_size=(7, 7), stride=(2, 2), padding=(3, 3), bias=False)"
      ]
     },
     "execution_count": 146,
     "metadata": {},
     "output_type": "execute_result"
    }
   ],
   "source": [
    "resnet34_default_cfg = default_cfgs['resnet34']\n",
    "resnet34 = ResNet(BasicBlock, layers=[3, 4, 6, 3], in_chans=1)\n",
    "resnet34.default_cfg = deepcopy(resnet34_default_cfg)\n",
    "\n",
    "resnet34.conv1"
   ]
  },
  {
   "cell_type": "code",
   "execution_count": null,
   "id": "d2c17134",
   "metadata": {},
   "outputs": [],
   "source": []
  }
 ],
 "metadata": {
  "kernelspec": {
   "display_name": "Python 3",
   "language": "python",
   "name": "python3"
  },
  "language_info": {
   "codemirror_mode": {
    "name": "ipython",
    "version": 3
   },
   "file_extension": ".py",
   "mimetype": "text/x-python",
   "name": "python",
   "nbconvert_exporter": "python",
   "pygments_lexer": "ipython3",
   "version": "3.8.5"
  }
 },
 "nbformat": 4,
 "nbformat_minor": 5
}