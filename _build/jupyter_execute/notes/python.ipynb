{
 "cells": [
  {
   "cell_type": "markdown",
   "id": "2949a0c2",
   "metadata": {},
   "source": [
    "# 文字列操作"
   ]
  },
  {
   "cell_type": "code",
   "execution_count": 3,
   "id": "b91de560",
   "metadata": {},
   "outputs": [
    {
     "name": "stdout",
     "output_type": "stream",
     "text": [
      "テキスト\n"
     ]
    }
   ],
   "source": [
    "txt = 'テキスト'\n",
    "print(txt)"
   ]
  },
  {
   "cell_type": "code",
   "execution_count": 4,
   "id": "d3d7e741",
   "metadata": {},
   "outputs": [
    {
     "name": "stdout",
     "output_type": "stream",
     "text": [
      "テキスト\n",
      "テキスト\n"
     ]
    }
   ],
   "source": [
    "txt = 'テキスト\\nテキスト'\n",
    "print(txt)"
   ]
  },
  {
   "cell_type": "code",
   "execution_count": null,
   "id": "d44b2bc6",
   "metadata": {},
   "outputs": [],
   "source": []
  }
 ],
 "metadata": {
  "kernelspec": {
   "display_name": "Python 3 (ipykernel)",
   "language": "python",
   "name": "python3"
  },
  "language_info": {
   "codemirror_mode": {
    "name": "ipython",
    "version": 3
   },
   "file_extension": ".py",
   "mimetype": "text/x-python",
   "name": "python",
   "nbconvert_exporter": "python",
   "pygments_lexer": "ipython3",
   "version": "3.8.10"
  }
 },
 "nbformat": 4,
 "nbformat_minor": 5
}