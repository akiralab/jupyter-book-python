{
 "cells": [
  {
   "cell_type": "markdown",
   "metadata": {
    "tags": []
   },
   "source": [
    "# numpyで配列を作成する"
   ]
  },
  {
   "cell_type": "code",
   "execution_count": 1,
   "metadata": {},
   "outputs": [],
   "source": [
    "import numpy as np"
   ]
  },
  {
   "cell_type": "markdown",
   "metadata": {},
   "source": [
    "## 基本的な作成方法\n",
    "1. 要素を直接指定して配列を作成する（np.array）\n",
    "2. 要素がゼロの配列を作成する（np.zeros）\n",
    "3. 要素が1の配列を作成する（np.ones）\n",
    "4. 要素が空の配列を作成する（np.empty）\n",
    "5. 要素を一意の数値に指定して作成する（np.full）\n",
    "6. 順列要素として作成する（np.arange）"
   ]
  },
  {
   "cell_type": "markdown",
   "metadata": {},
   "source": [
    "### 1. 要素を直接指定して配列を作成する（np.array）"
   ]
  },
  {
   "cell_type": "code",
   "execution_count": 2,
   "metadata": {},
   "outputs": [
    {
     "name": "stdout",
     "output_type": "stream",
     "text": [
      "array:  [[1 2 3]\n",
      " [4 5 6]]\n",
      "a.shape:  (2, 3)\n",
      "a.size:  6\n",
      "a.sum:  21\n"
     ]
    }
   ],
   "source": [
    "a = np.array([[1, 2, 3], [4, 5, 6]])\n",
    "\n",
    "# 配列の情報を取得する\n",
    "print('array: ', a)\n",
    "print('a.shape: ', a.shape)\n",
    "print('a.size: ', a.size)\n",
    "print('a.sum: ', a.sum())\n",
    "\n",
    "# 関数化\n",
    "def info(array):\n",
    "    print('array: ', array)\n",
    "    print('shape: ', array.shape)\n",
    "    print('size: ', array.size)\n",
    "    print('sum: ', array.sum())"
   ]
  },
  {
   "cell_type": "markdown",
   "metadata": {},
   "source": [
    "### 2. 要素がゼロの配列を作成する（np.zeros）"
   ]
  },
  {
   "cell_type": "code",
   "execution_count": 3,
   "metadata": {},
   "outputs": [
    {
     "name": "stdout",
     "output_type": "stream",
     "text": [
      "array:  [0. 0. 0. 0.]\n",
      "shape:  (4,)\n",
      "size:  4\n",
      "sum:  0.0\n"
     ]
    }
   ],
   "source": [
    "a = np.zeros(4)\n",
    "info(a)"
   ]
  },
  {
   "cell_type": "markdown",
   "metadata": {
    "tags": []
   },
   "source": [
    "### 3. 要素が1の配列を作成する（np.ones）"
   ]
  },
  {
   "cell_type": "code",
   "execution_count": 4,
   "metadata": {},
   "outputs": [
    {
     "name": "stdout",
     "output_type": "stream",
     "text": [
      "array:  [1. 1. 1. 1.]\n",
      "shape:  (4,)\n",
      "size:  4\n",
      "sum:  4.0\n"
     ]
    }
   ],
   "source": [
    "a = np.ones(4)\n",
    "info(a)"
   ]
  },
  {
   "cell_type": "markdown",
   "metadata": {
    "tags": []
   },
   "source": [
    "### 4. 要素が空の配列を作成する（np.empty）"
   ]
  },
  {
   "cell_type": "code",
   "execution_count": 9,
   "metadata": {},
   "outputs": [
    {
     "name": "stdout",
     "output_type": "stream",
     "text": [
      "array:  [0. 0. 0. 0.]\n",
      "shape:  (4,)\n",
      "size:  4\n",
      "sum:  0.0\n"
     ]
    }
   ],
   "source": [
    "a = np.empty(shape=[4])\n",
    "info(a)"
   ]
  },
  {
   "cell_type": "markdown",
   "metadata": {},
   "source": [
    "### 5. 要素を一意の数値に指定して作成する（np.full）"
   ]
  },
  {
   "cell_type": "code",
   "execution_count": 13,
   "metadata": {},
   "outputs": [
    {
     "name": "stdout",
     "output_type": "stream",
     "text": [
      "array:  [[10 10 10 10]\n",
      " [10 10 10 10]\n",
      " [10 10 10 10]\n",
      " [10 10 10 10]\n",
      " [10 10 10 10]]\n",
      "shape:  (5, 4)\n",
      "size:  20\n",
      "sum:  200\n"
     ]
    }
   ],
   "source": [
    "a = np.full([5, 4], 10)\n",
    "info(a)"
   ]
  },
  {
   "cell_type": "markdown",
   "metadata": {},
   "source": [
    "### 6. 順列要素として作成する（np.arange）"
   ]
  },
  {
   "cell_type": "code",
   "execution_count": 14,
   "metadata": {},
   "outputs": [
    {
     "name": "stdout",
     "output_type": "stream",
     "text": [
      "array:  [0 1 2 3 4 5 6 7 8 9]\n",
      "shape:  (10,)\n",
      "size:  10\n",
      "sum:  45\n"
     ]
    }
   ],
   "source": [
    "a = np.arange(10)\n",
    "info(a)"
   ]
  },
  {
   "cell_type": "code",
   "execution_count": 17,
   "metadata": {},
   "outputs": [
    {
     "name": "stdout",
     "output_type": "stream",
     "text": [
      "array:  [10 12 14 16 18]\n",
      "shape:  (5,)\n",
      "size:  5\n",
      "sum:  70\n"
     ]
    }
   ],
   "source": [
    "# stopで指定した数字は入らないので注意\n",
    "a = np.arange(start=10, stop=20, step=2)\n",
    "info(a)"
   ]
  },
  {
   "cell_type": "code",
   "execution_count": null,
   "metadata": {},
   "outputs": [],
   "source": []
  }
 ],
 "metadata": {
  "kernelspec": {
   "display_name": "Python 3 (ipykernel)",
   "language": "python",
   "name": "python3"
  },
  "language_info": {
   "codemirror_mode": {
    "name": "ipython",
    "version": 3
   },
   "file_extension": ".py",
   "mimetype": "text/x-python",
   "name": "python",
   "nbconvert_exporter": "python",
   "pygments_lexer": "ipython3",
   "version": "3.8.10"
  }
 },
 "nbformat": 4,
 "nbformat_minor": 4
}
