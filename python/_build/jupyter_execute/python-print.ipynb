{
 "cells": [
  {
   "cell_type": "code",
   "execution_count": 1,
   "metadata": {},
   "outputs": [],
   "source": [
    "import time"
   ]
  },
  {
   "cell_type": "markdown",
   "metadata": {},
   "source": [
    "print出力を改行させずに更新する方法（tqdmのような出力）\n",
    "用法\n",
    "1. \\r を先頭につけることで、print出力を常に先頭文字列からスタートさせる\n",
    "2. end=''を指定することで、print出力を強制的に改行させない"
   ]
  },
  {
   "cell_type": "code",
   "execution_count": 2,
   "metadata": {},
   "outputs": [
    {
     "name": "stdout",
     "output_type": "stream",
     "text": [
      "\r",
      " no.0 this string will start at the beginning of the line"
     ]
    },
    {
     "name": "stdout",
     "output_type": "stream",
     "text": [
      "\r",
      " no.1 this string will start at the beginning of the line\r",
      " no.2 this string will start at the beginning of the line"
     ]
    },
    {
     "name": "stdout",
     "output_type": "stream",
     "text": [
      "\r",
      " no.3 this string will start at the beginning of the line"
     ]
    },
    {
     "name": "stdout",
     "output_type": "stream",
     "text": [
      "\r",
      " no.4 this string will start at the beginning of the line"
     ]
    },
    {
     "name": "stdout",
     "output_type": "stream",
     "text": [
      "\r",
      " no.5 this string will start at the beginning of the line"
     ]
    },
    {
     "name": "stdout",
     "output_type": "stream",
     "text": [
      "\r",
      " no.6 this string will start at the beginning of the line"
     ]
    },
    {
     "name": "stdout",
     "output_type": "stream",
     "text": [
      "\r",
      " no.7 this string will start at the beginning of the line"
     ]
    },
    {
     "name": "stdout",
     "output_type": "stream",
     "text": [
      "\r",
      " no.8 this string will start at the beginning of the line"
     ]
    },
    {
     "name": "stdout",
     "output_type": "stream",
     "text": [
      "\r",
      " no.9 this string will start at the beginning of the line"
     ]
    }
   ],
   "source": [
    "for i in range(10):\n",
    "    time.sleep(0.2)\n",
    "    print('\\r no.{} this string will start at the beginning of the line'.format(i), end=\"\")"
   ]
  },
  {
   "cell_type": "markdown",
   "metadata": {},
   "source": [
    "簡易的なプログレスバーを作成することもできる"
   ]
  },
  {
   "cell_type": "code",
   "execution_count": 3,
   "metadata": {},
   "outputs": [
    {
     "name": "stdout",
     "output_type": "stream",
     "text": [
      "\r",
      " epoch (1/100) |*-------------------------------------------------|"
     ]
    },
    {
     "name": "stdout",
     "output_type": "stream",
     "text": [
      "\r",
      " epoch (2/100) |*-------------------------------------------------|"
     ]
    },
    {
     "name": "stdout",
     "output_type": "stream",
     "text": [
      "\r",
      " epoch (3/100) |**------------------------------------------------|"
     ]
    },
    {
     "name": "stdout",
     "output_type": "stream",
     "text": [
      "\r",
      " epoch (4/100) |**------------------------------------------------|"
     ]
    },
    {
     "name": "stdout",
     "output_type": "stream",
     "text": [
      "\r",
      " epoch (5/100) |***-----------------------------------------------|"
     ]
    },
    {
     "name": "stdout",
     "output_type": "stream",
     "text": [
      "\r",
      " epoch (6/100) |***-----------------------------------------------|"
     ]
    },
    {
     "name": "stdout",
     "output_type": "stream",
     "text": [
      "\r",
      " epoch (7/100) |****----------------------------------------------|"
     ]
    },
    {
     "name": "stdout",
     "output_type": "stream",
     "text": [
      "\r",
      " epoch (8/100) |****----------------------------------------------|"
     ]
    },
    {
     "name": "stdout",
     "output_type": "stream",
     "text": [
      "\r",
      " epoch (9/100) |*****---------------------------------------------|"
     ]
    },
    {
     "name": "stdout",
     "output_type": "stream",
     "text": [
      "\r",
      " epoch (10/100) |*****---------------------------------------------|"
     ]
    },
    {
     "name": "stdout",
     "output_type": "stream",
     "text": [
      "\r",
      " epoch (11/100) |******--------------------------------------------|"
     ]
    },
    {
     "name": "stdout",
     "output_type": "stream",
     "text": [
      "\r",
      " epoch (12/100) |******--------------------------------------------|"
     ]
    },
    {
     "name": "stdout",
     "output_type": "stream",
     "text": [
      "\r",
      " epoch (13/100) |*******-------------------------------------------|"
     ]
    },
    {
     "name": "stdout",
     "output_type": "stream",
     "text": [
      "\r",
      " epoch (14/100) |*******-------------------------------------------|"
     ]
    },
    {
     "name": "stdout",
     "output_type": "stream",
     "text": [
      "\r",
      " epoch (15/100) |********------------------------------------------|"
     ]
    },
    {
     "name": "stdout",
     "output_type": "stream",
     "text": [
      "\r",
      " epoch (16/100) |********------------------------------------------|"
     ]
    },
    {
     "name": "stdout",
     "output_type": "stream",
     "text": [
      "\r",
      " epoch (17/100) |*********-----------------------------------------|"
     ]
    },
    {
     "name": "stdout",
     "output_type": "stream",
     "text": [
      "\r",
      " epoch (18/100) |*********-----------------------------------------|"
     ]
    },
    {
     "name": "stdout",
     "output_type": "stream",
     "text": [
      "\r",
      " epoch (19/100) |**********----------------------------------------|"
     ]
    },
    {
     "name": "stdout",
     "output_type": "stream",
     "text": [
      "\r",
      " epoch (20/100) |**********----------------------------------------|"
     ]
    },
    {
     "name": "stdout",
     "output_type": "stream",
     "text": [
      "\r",
      " epoch (21/100) |***********---------------------------------------|"
     ]
    },
    {
     "name": "stdout",
     "output_type": "stream",
     "text": [
      "\r",
      " epoch (22/100) |***********---------------------------------------|"
     ]
    },
    {
     "name": "stdout",
     "output_type": "stream",
     "text": [
      "\r",
      " epoch (23/100) |************--------------------------------------|"
     ]
    },
    {
     "name": "stdout",
     "output_type": "stream",
     "text": [
      "\r",
      " epoch (24/100) |************--------------------------------------|"
     ]
    },
    {
     "name": "stdout",
     "output_type": "stream",
     "text": [
      "\r",
      " epoch (25/100) |*************-------------------------------------|"
     ]
    },
    {
     "name": "stdout",
     "output_type": "stream",
     "text": [
      "\r",
      " epoch (26/100) |*************-------------------------------------|"
     ]
    },
    {
     "name": "stdout",
     "output_type": "stream",
     "text": [
      "\r",
      " epoch (27/100) |**************------------------------------------|"
     ]
    },
    {
     "name": "stdout",
     "output_type": "stream",
     "text": [
      "\r",
      " epoch (28/100) |**************------------------------------------|"
     ]
    },
    {
     "name": "stdout",
     "output_type": "stream",
     "text": [
      "\r",
      " epoch (29/100) |***************-----------------------------------|"
     ]
    },
    {
     "name": "stdout",
     "output_type": "stream",
     "text": [
      "\r",
      " epoch (30/100) |***************-----------------------------------|"
     ]
    },
    {
     "name": "stdout",
     "output_type": "stream",
     "text": [
      "\r",
      " epoch (31/100) |****************----------------------------------|"
     ]
    },
    {
     "name": "stdout",
     "output_type": "stream",
     "text": [
      "\r",
      " epoch (32/100) |****************----------------------------------|"
     ]
    },
    {
     "name": "stdout",
     "output_type": "stream",
     "text": [
      "\r",
      " epoch (33/100) |*****************---------------------------------|"
     ]
    },
    {
     "name": "stdout",
     "output_type": "stream",
     "text": [
      "\r",
      " epoch (34/100) |*****************---------------------------------|"
     ]
    },
    {
     "name": "stdout",
     "output_type": "stream",
     "text": [
      "\r",
      " epoch (35/100) |******************--------------------------------|"
     ]
    },
    {
     "name": "stdout",
     "output_type": "stream",
     "text": [
      "\r",
      " epoch (36/100) |******************--------------------------------|"
     ]
    },
    {
     "name": "stdout",
     "output_type": "stream",
     "text": [
      "\r",
      " epoch (37/100) |*******************-------------------------------|"
     ]
    },
    {
     "name": "stdout",
     "output_type": "stream",
     "text": [
      "\r",
      " epoch (38/100) |*******************-------------------------------|"
     ]
    },
    {
     "name": "stdout",
     "output_type": "stream",
     "text": [
      "\r",
      " epoch (39/100) |********************------------------------------|"
     ]
    },
    {
     "name": "stdout",
     "output_type": "stream",
     "text": [
      "\r",
      " epoch (40/100) |********************------------------------------|"
     ]
    },
    {
     "name": "stdout",
     "output_type": "stream",
     "text": [
      "\r",
      " epoch (41/100) |*********************-----------------------------|"
     ]
    },
    {
     "name": "stdout",
     "output_type": "stream",
     "text": [
      "\r",
      " epoch (42/100) |*********************-----------------------------|"
     ]
    },
    {
     "name": "stdout",
     "output_type": "stream",
     "text": [
      "\r",
      " epoch (43/100) |**********************----------------------------|"
     ]
    },
    {
     "name": "stdout",
     "output_type": "stream",
     "text": [
      "\r",
      " epoch (44/100) |**********************----------------------------|"
     ]
    },
    {
     "name": "stdout",
     "output_type": "stream",
     "text": [
      "\r",
      " epoch (45/100) |***********************---------------------------|"
     ]
    },
    {
     "name": "stdout",
     "output_type": "stream",
     "text": [
      "\r",
      " epoch (46/100) |***********************---------------------------|"
     ]
    },
    {
     "name": "stdout",
     "output_type": "stream",
     "text": [
      "\r",
      " epoch (47/100) |************************--------------------------|"
     ]
    },
    {
     "name": "stdout",
     "output_type": "stream",
     "text": [
      "\r",
      " epoch (48/100) |************************--------------------------|"
     ]
    },
    {
     "name": "stdout",
     "output_type": "stream",
     "text": [
      "\r",
      " epoch (49/100) |*************************-------------------------|"
     ]
    },
    {
     "name": "stdout",
     "output_type": "stream",
     "text": [
      "\r",
      " epoch (50/100) |*************************-------------------------|"
     ]
    },
    {
     "name": "stdout",
     "output_type": "stream",
     "text": [
      "\r",
      " epoch (51/100) |**************************------------------------|"
     ]
    },
    {
     "name": "stdout",
     "output_type": "stream",
     "text": [
      "\r",
      " epoch (52/100) |**************************------------------------|"
     ]
    },
    {
     "name": "stdout",
     "output_type": "stream",
     "text": [
      "\r",
      " epoch (53/100) |***************************-----------------------|"
     ]
    },
    {
     "name": "stdout",
     "output_type": "stream",
     "text": [
      "\r",
      " epoch (54/100) |***************************-----------------------|"
     ]
    },
    {
     "name": "stdout",
     "output_type": "stream",
     "text": [
      "\r",
      " epoch (55/100) |****************************----------------------|"
     ]
    },
    {
     "name": "stdout",
     "output_type": "stream",
     "text": [
      "\r",
      " epoch (56/100) |****************************----------------------|"
     ]
    },
    {
     "name": "stdout",
     "output_type": "stream",
     "text": [
      "\r",
      " epoch (57/100) |*****************************---------------------|"
     ]
    },
    {
     "name": "stdout",
     "output_type": "stream",
     "text": [
      "\r",
      " epoch (58/100) |*****************************---------------------|"
     ]
    },
    {
     "name": "stdout",
     "output_type": "stream",
     "text": [
      "\r",
      " epoch (59/100) |******************************--------------------|"
     ]
    },
    {
     "name": "stdout",
     "output_type": "stream",
     "text": [
      "\r",
      " epoch (60/100) |******************************--------------------|"
     ]
    },
    {
     "name": "stdout",
     "output_type": "stream",
     "text": [
      "\r",
      " epoch (61/100) |*******************************-------------------|"
     ]
    },
    {
     "name": "stdout",
     "output_type": "stream",
     "text": [
      "\r",
      " epoch (62/100) |*******************************-------------------|"
     ]
    },
    {
     "name": "stdout",
     "output_type": "stream",
     "text": [
      "\r",
      " epoch (63/100) |********************************------------------|"
     ]
    },
    {
     "name": "stdout",
     "output_type": "stream",
     "text": [
      "\r",
      " epoch (64/100) |********************************------------------|"
     ]
    },
    {
     "name": "stdout",
     "output_type": "stream",
     "text": [
      "\r",
      " epoch (65/100) |*********************************-----------------|"
     ]
    },
    {
     "name": "stdout",
     "output_type": "stream",
     "text": [
      "\r",
      " epoch (66/100) |*********************************-----------------|"
     ]
    },
    {
     "name": "stdout",
     "output_type": "stream",
     "text": [
      "\r",
      " epoch (67/100) |**********************************----------------|"
     ]
    },
    {
     "name": "stdout",
     "output_type": "stream",
     "text": [
      "\r",
      " epoch (68/100) |**********************************----------------|"
     ]
    },
    {
     "name": "stdout",
     "output_type": "stream",
     "text": [
      "\r",
      " epoch (69/100) |***********************************---------------|"
     ]
    },
    {
     "name": "stdout",
     "output_type": "stream",
     "text": [
      "\r",
      " epoch (70/100) |***********************************---------------|"
     ]
    },
    {
     "name": "stdout",
     "output_type": "stream",
     "text": [
      "\r",
      " epoch (71/100) |************************************--------------|"
     ]
    },
    {
     "name": "stdout",
     "output_type": "stream",
     "text": [
      "\r",
      " epoch (72/100) |************************************--------------|"
     ]
    },
    {
     "name": "stdout",
     "output_type": "stream",
     "text": [
      "\r",
      " epoch (73/100) |*************************************-------------|"
     ]
    },
    {
     "name": "stdout",
     "output_type": "stream",
     "text": [
      "\r",
      " epoch (74/100) |*************************************-------------|"
     ]
    },
    {
     "name": "stdout",
     "output_type": "stream",
     "text": [
      "\r",
      " epoch (75/100) |**************************************------------|"
     ]
    },
    {
     "name": "stdout",
     "output_type": "stream",
     "text": [
      "\r",
      " epoch (76/100) |**************************************------------|"
     ]
    },
    {
     "name": "stdout",
     "output_type": "stream",
     "text": [
      "\r",
      " epoch (77/100) |***************************************-----------|"
     ]
    },
    {
     "name": "stdout",
     "output_type": "stream",
     "text": [
      "\r",
      " epoch (78/100) |***************************************-----------|"
     ]
    },
    {
     "name": "stdout",
     "output_type": "stream",
     "text": [
      "\r",
      " epoch (79/100) |****************************************----------|"
     ]
    },
    {
     "name": "stdout",
     "output_type": "stream",
     "text": [
      "\r",
      " epoch (80/100) |****************************************----------|"
     ]
    },
    {
     "name": "stdout",
     "output_type": "stream",
     "text": [
      "\r",
      " epoch (81/100) |*****************************************---------|"
     ]
    },
    {
     "name": "stdout",
     "output_type": "stream",
     "text": [
      "\r",
      " epoch (82/100) |*****************************************---------|"
     ]
    },
    {
     "name": "stdout",
     "output_type": "stream",
     "text": [
      "\r",
      " epoch (83/100) |******************************************--------|"
     ]
    },
    {
     "name": "stdout",
     "output_type": "stream",
     "text": [
      "\r",
      " epoch (84/100) |******************************************--------|"
     ]
    },
    {
     "name": "stdout",
     "output_type": "stream",
     "text": [
      "\r",
      " epoch (85/100) |*******************************************-------|"
     ]
    },
    {
     "name": "stdout",
     "output_type": "stream",
     "text": [
      "\r",
      " epoch (86/100) |*******************************************-------|"
     ]
    },
    {
     "name": "stdout",
     "output_type": "stream",
     "text": [
      "\r",
      " epoch (87/100) |********************************************------|"
     ]
    },
    {
     "name": "stdout",
     "output_type": "stream",
     "text": [
      "\r",
      " epoch (88/100) |********************************************------|"
     ]
    },
    {
     "name": "stdout",
     "output_type": "stream",
     "text": [
      "\r",
      " epoch (89/100) |*********************************************-----|"
     ]
    },
    {
     "name": "stdout",
     "output_type": "stream",
     "text": [
      "\r",
      " epoch (90/100) |*********************************************-----|\r",
      " epoch (91/100) |**********************************************----|"
     ]
    },
    {
     "name": "stdout",
     "output_type": "stream",
     "text": [
      "\r",
      " epoch (92/100) |**********************************************----|"
     ]
    },
    {
     "name": "stdout",
     "output_type": "stream",
     "text": [
      "\r",
      " epoch (93/100) |***********************************************---|"
     ]
    },
    {
     "name": "stdout",
     "output_type": "stream",
     "text": [
      "\r",
      " epoch (94/100) |***********************************************---|"
     ]
    },
    {
     "name": "stdout",
     "output_type": "stream",
     "text": [
      "\r",
      " epoch (95/100) |************************************************--|"
     ]
    },
    {
     "name": "stdout",
     "output_type": "stream",
     "text": [
      "\r",
      " epoch (96/100) |************************************************--|"
     ]
    },
    {
     "name": "stdout",
     "output_type": "stream",
     "text": [
      "\r",
      " epoch (97/100) |*************************************************-|"
     ]
    },
    {
     "name": "stdout",
     "output_type": "stream",
     "text": [
      "\r",
      " epoch (98/100) |*************************************************-|"
     ]
    },
    {
     "name": "stdout",
     "output_type": "stream",
     "text": [
      "\r",
      " epoch (99/100) |**************************************************|"
     ]
    },
    {
     "name": "stdout",
     "output_type": "stream",
     "text": [
      "\r",
      " epoch (100/100) |**************************************************|"
     ]
    }
   ],
   "source": [
    "total_epoch = 100\n",
    "def epoch_to_progress_bar(epoch, total_epoch):\n",
    "    '''\n",
    "        epochから現在の進捗をbar表示するための関数\n",
    "        input: epoch, total_epoch\n",
    "        output: bar type: str\n",
    "    '''\n",
    "    # progress bar length\n",
    "    max_length = 50\n",
    "    # calc current progress\n",
    "    progress_bar = '*' * (epoch * max_length // total_epoch+1) \n",
    "    # progress bar filled with '-'\n",
    "    progress_bar = progress_bar.ljust(max_length, '-')\n",
    "    \n",
    "    return progress_bar\n",
    "\n",
    "\n",
    "for epoch in range(total_epoch):\n",
    "    progress_bar = epoch_to_progress_bar(epoch, total_epoch)\n",
    "\n",
    "    time.sleep(0.1)\n",
    "    print('\\r epoch ({}/{}) |{}|'.format(epoch+1, total_epoch, progress_bar), end='')"
   ]
  },
  {
   "cell_type": "code",
   "execution_count": null,
   "metadata": {},
   "outputs": [],
   "source": []
  }
 ],
 "metadata": {
  "interpreter": {
   "hash": "8c7bd3d5af1ffcfa036d5a60375a51c68ba2d93cac84076b8a7e5d58db041301"
  },
  "kernelspec": {
   "display_name": "Python 3",
   "language": "python",
   "name": "python3"
  },
  "language_info": {
   "codemirror_mode": {
    "name": "ipython",
    "version": 3
   },
   "file_extension": ".py",
   "mimetype": "text/x-python",
   "name": "python",
   "nbconvert_exporter": "python",
   "pygments_lexer": "ipython3",
   "version": "3.8.5"
  }
 },
 "nbformat": 4,
 "nbformat_minor": 4
}