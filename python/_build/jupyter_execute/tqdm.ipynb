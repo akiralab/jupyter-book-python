{
 "cells": [
  {
   "cell_type": "code",
   "execution_count": 1,
   "metadata": {},
   "outputs": [],
   "source": [
    "from tqdm import tqdm\n",
    "from time import sleep"
   ]
  },
  {
   "cell_type": "markdown",
   "metadata": {},
   "source": [
    "もっとも基本的な使い方"
   ]
  },
  {
   "cell_type": "code",
   "execution_count": 2,
   "metadata": {},
   "outputs": [
    {
     "name": "stderr",
     "output_type": "stream",
     "text": [
      "\r",
      "  0%|          | 0/100 [00:00<?, ?it/s]"
     ]
    },
    {
     "name": "stderr",
     "output_type": "stream",
     "text": [
      "\r",
      "  9%|▉         | 9/100 [00:00<00:01, 89.34it/s]"
     ]
    },
    {
     "name": "stderr",
     "output_type": "stream",
     "text": [
      "\r",
      " 18%|█▊        | 18/100 [00:00<00:00, 89.19it/s]"
     ]
    },
    {
     "name": "stderr",
     "output_type": "stream",
     "text": [
      "\r",
      " 28%|██▊       | 28/100 [00:00<00:00, 89.96it/s]"
     ]
    },
    {
     "name": "stderr",
     "output_type": "stream",
     "text": [
      "\r",
      " 38%|███▊      | 38/100 [00:00<00:00, 90.45it/s]"
     ]
    },
    {
     "name": "stderr",
     "output_type": "stream",
     "text": [
      "\r",
      " 48%|████▊     | 48/100 [00:00<00:00, 90.62it/s]"
     ]
    },
    {
     "name": "stderr",
     "output_type": "stream",
     "text": [
      "\r",
      " 57%|█████▋    | 57/100 [00:00<00:00, 89.79it/s]"
     ]
    },
    {
     "name": "stderr",
     "output_type": "stream",
     "text": [
      "\r",
      " 67%|██████▋   | 67/100 [00:00<00:00, 90.53it/s]"
     ]
    },
    {
     "name": "stderr",
     "output_type": "stream",
     "text": [
      "\r",
      " 77%|███████▋  | 77/100 [00:00<00:00, 91.76it/s]"
     ]
    },
    {
     "name": "stderr",
     "output_type": "stream",
     "text": [
      "\r",
      " 86%|████████▌ | 86/100 [00:00<00:00, 90.57it/s]"
     ]
    },
    {
     "name": "stderr",
     "output_type": "stream",
     "text": [
      "\r",
      " 96%|█████████▌| 96/100 [00:01<00:00, 90.65it/s]"
     ]
    },
    {
     "name": "stderr",
     "output_type": "stream",
     "text": [
      "\r",
      "100%|██████████| 100/100 [00:01<00:00, 90.61it/s]"
     ]
    },
    {
     "name": "stderr",
     "output_type": "stream",
     "text": [
      "\n"
     ]
    }
   ],
   "source": [
    "for i in tqdm(range(100)):\n",
    "    sleep(0.01)\n",
    "    pass"
   ]
  },
  {
   "cell_type": "markdown",
   "metadata": {},
   "source": [
    "barの長さを変更したいときはncolsを用いる"
   ]
  },
  {
   "cell_type": "code",
   "execution_count": 3,
   "metadata": {},
   "outputs": [
    {
     "name": "stderr",
     "output_type": "stream",
     "text": [
      "\r",
      "  0%|                                                                       | 0/100 [00:00<?, ?it/s]"
     ]
    },
    {
     "name": "stderr",
     "output_type": "stream",
     "text": [
      "\r",
      " 10%|██████▏                                                       | 10/100 [00:00<00:00, 92.10it/s]"
     ]
    },
    {
     "name": "stderr",
     "output_type": "stream",
     "text": [
      "\r",
      " 20%|████████████▍                                                 | 20/100 [00:00<00:00, 91.66it/s]"
     ]
    },
    {
     "name": "stderr",
     "output_type": "stream",
     "text": [
      "\r",
      " 29%|█████████████████▉                                            | 29/100 [00:00<00:00, 90.80it/s]"
     ]
    },
    {
     "name": "stderr",
     "output_type": "stream",
     "text": [
      "\r",
      " 39%|████████████████████████▏                                     | 39/100 [00:00<00:00, 91.80it/s]"
     ]
    },
    {
     "name": "stderr",
     "output_type": "stream",
     "text": [
      "\r",
      " 49%|██████████████████████████████▍                               | 49/100 [00:00<00:00, 92.43it/s]"
     ]
    },
    {
     "name": "stderr",
     "output_type": "stream",
     "text": [
      "\r",
      " 58%|███████████████████████████████████▉                          | 58/100 [00:00<00:00, 91.07it/s]"
     ]
    },
    {
     "name": "stderr",
     "output_type": "stream",
     "text": [
      "\r",
      " 67%|█████████████████████████████████████████▌                    | 67/100 [00:00<00:00, 90.54it/s]"
     ]
    },
    {
     "name": "stderr",
     "output_type": "stream",
     "text": [
      "\r",
      " 77%|███████████████████████████████████████████████▋              | 77/100 [00:00<00:00, 91.17it/s]"
     ]
    },
    {
     "name": "stderr",
     "output_type": "stream",
     "text": [
      "\r",
      " 86%|█████████████████████████████████████████████████████▎        | 86/100 [00:00<00:00, 90.42it/s]"
     ]
    },
    {
     "name": "stderr",
     "output_type": "stream",
     "text": [
      "\r",
      " 95%|██████████████████████████████████████████████████████████▉   | 95/100 [00:01<00:00, 90.19it/s]"
     ]
    },
    {
     "name": "stderr",
     "output_type": "stream",
     "text": [
      "\r",
      "100%|█████████████████████████████████████████████████████████████| 100/100 [00:01<00:00, 90.38it/s]"
     ]
    },
    {
     "name": "stderr",
     "output_type": "stream",
     "text": [
      "\n"
     ]
    }
   ],
   "source": [
    "for i in tqdm(range(100), ncols=100):\n",
    "    sleep(0.01)\n",
    "    pass"
   ]
  },
  {
   "cell_type": "markdown",
   "metadata": {},
   "source": [
    "barの更新頻度（default: 0.1s）を変更したい場合はminintervalを変更する"
   ]
  },
  {
   "cell_type": "code",
   "execution_count": 4,
   "metadata": {},
   "outputs": [
    {
     "name": "stderr",
     "output_type": "stream",
     "text": [
      "\r",
      "  0%|                                                                       | 0/100 [00:00<?, ?it/s]"
     ]
    },
    {
     "name": "stderr",
     "output_type": "stream",
     "text": [
      "\r",
      "  1%|▋                                                              | 1/100 [00:00<00:00, 99.46it/s]"
     ]
    },
    {
     "name": "stderr",
     "output_type": "stream",
     "text": [
      "\r",
      "  2%|█▎                                                             | 2/100 [00:00<00:01, 95.11it/s]"
     ]
    },
    {
     "name": "stderr",
     "output_type": "stream",
     "text": [
      "\r",
      "  3%|█▉                                                             | 3/100 [00:00<00:01, 94.18it/s]"
     ]
    },
    {
     "name": "stderr",
     "output_type": "stream",
     "text": [
      "\r",
      "  4%|██▌                                                            | 4/100 [00:00<00:01, 93.30it/s]"
     ]
    },
    {
     "name": "stderr",
     "output_type": "stream",
     "text": [
      "\r",
      "  5%|███▏                                                           | 5/100 [00:00<00:01, 89.46it/s]"
     ]
    },
    {
     "name": "stderr",
     "output_type": "stream",
     "text": [
      "\r",
      "  6%|███▊                                                           | 6/100 [00:00<00:01, 90.21it/s]"
     ]
    },
    {
     "name": "stderr",
     "output_type": "stream",
     "text": [
      "\r",
      "  7%|████▍                                                          | 7/100 [00:00<00:01, 85.62it/s]"
     ]
    },
    {
     "name": "stderr",
     "output_type": "stream",
     "text": [
      "\r",
      "  8%|█████                                                          | 8/100 [00:00<00:01, 86.66it/s]"
     ]
    },
    {
     "name": "stderr",
     "output_type": "stream",
     "text": [
      "\r",
      "  9%|█████▋                                                         | 9/100 [00:00<00:01, 87.87it/s]"
     ]
    },
    {
     "name": "stderr",
     "output_type": "stream",
     "text": [
      "\r",
      " 10%|██████▏                                                       | 10/100 [00:00<00:01, 85.70it/s]"
     ]
    },
    {
     "name": "stderr",
     "output_type": "stream",
     "text": [
      "\r",
      " 11%|██████▊                                                       | 11/100 [00:00<00:01, 81.77it/s]"
     ]
    },
    {
     "name": "stderr",
     "output_type": "stream",
     "text": [
      "\r",
      " 12%|███████▍                                                      | 12/100 [00:00<00:01, 84.26it/s]"
     ]
    },
    {
     "name": "stderr",
     "output_type": "stream",
     "text": [
      "\r",
      " 13%|████████                                                      | 13/100 [00:00<00:01, 82.60it/s]"
     ]
    },
    {
     "name": "stderr",
     "output_type": "stream",
     "text": [
      "\r",
      " 14%|████████▋                                                     | 14/100 [00:00<00:01, 84.53it/s]"
     ]
    },
    {
     "name": "stderr",
     "output_type": "stream",
     "text": [
      "\r",
      " 15%|█████████▎                                                    | 15/100 [00:00<00:01, 80.52it/s]"
     ]
    },
    {
     "name": "stderr",
     "output_type": "stream",
     "text": [
      "\r",
      " 16%|█████████▉                                                    | 16/100 [00:00<00:01, 83.55it/s]"
     ]
    },
    {
     "name": "stderr",
     "output_type": "stream",
     "text": [
      "\r",
      " 17%|██████████▌                                                   | 17/100 [00:00<00:01, 81.91it/s]"
     ]
    },
    {
     "name": "stderr",
     "output_type": "stream",
     "text": [
      "\r",
      " 18%|███████████▏                                                  | 18/100 [00:00<00:00, 82.60it/s]"
     ]
    },
    {
     "name": "stderr",
     "output_type": "stream",
     "text": [
      "\r",
      " 19%|███████████▊                                                  | 19/100 [00:00<00:00, 82.09it/s]"
     ]
    },
    {
     "name": "stderr",
     "output_type": "stream",
     "text": [
      "\r",
      " 20%|████████████▍                                                 | 20/100 [00:00<00:00, 84.62it/s]"
     ]
    },
    {
     "name": "stderr",
     "output_type": "stream",
     "text": [
      "\r",
      " 21%|█████████████                                                 | 21/100 [00:00<00:00, 83.42it/s]"
     ]
    },
    {
     "name": "stderr",
     "output_type": "stream",
     "text": [
      "\r",
      " 22%|█████████████▋                                                | 22/100 [00:00<00:00, 84.94it/s]"
     ]
    },
    {
     "name": "stderr",
     "output_type": "stream",
     "text": [
      "\r",
      " 23%|██████████████▎                                               | 23/100 [00:00<00:00, 81.67it/s]"
     ]
    },
    {
     "name": "stderr",
     "output_type": "stream",
     "text": [
      "\r",
      " 24%|██████████████▉                                               | 24/100 [00:00<00:00, 82.44it/s]"
     ]
    },
    {
     "name": "stderr",
     "output_type": "stream",
     "text": [
      "\r",
      " 25%|███████████████▌                                              | 25/100 [00:00<00:00, 83.66it/s]"
     ]
    },
    {
     "name": "stderr",
     "output_type": "stream",
     "text": [
      "\r",
      " 26%|████████████████                                              | 26/100 [00:00<00:00, 85.44it/s]"
     ]
    },
    {
     "name": "stderr",
     "output_type": "stream",
     "text": [
      "\r",
      " 27%|████████████████▋                                             | 27/100 [00:00<00:00, 84.04it/s]"
     ]
    },
    {
     "name": "stderr",
     "output_type": "stream",
     "text": [
      "\r",
      " 28%|█████████████████▎                                            | 28/100 [00:00<00:00, 84.45it/s]"
     ]
    },
    {
     "name": "stderr",
     "output_type": "stream",
     "text": [
      "\r",
      " 29%|█████████████████▉                                            | 29/100 [00:00<00:00, 81.69it/s]"
     ]
    },
    {
     "name": "stderr",
     "output_type": "stream",
     "text": [
      "\r",
      " 30%|██████████████████▌                                           | 30/100 [00:00<00:00, 80.12it/s]"
     ]
    },
    {
     "name": "stderr",
     "output_type": "stream",
     "text": [
      "\r",
      " 31%|███████████████████▏                                          | 31/100 [00:00<00:00, 78.52it/s]"
     ]
    },
    {
     "name": "stderr",
     "output_type": "stream",
     "text": [
      "\r",
      " 32%|███████████████████▊                                          | 32/100 [00:00<00:00, 80.18it/s]"
     ]
    },
    {
     "name": "stderr",
     "output_type": "stream",
     "text": [
      "\r",
      " 33%|████████████████████▍                                         | 33/100 [00:00<00:00, 79.75it/s]"
     ]
    },
    {
     "name": "stderr",
     "output_type": "stream",
     "text": [
      "\r",
      " 34%|█████████████████████                                         | 34/100 [00:00<00:00, 79.31it/s]"
     ]
    },
    {
     "name": "stderr",
     "output_type": "stream",
     "text": [
      "\r",
      " 35%|█████████████████████▋                                        | 35/100 [00:00<00:00, 81.41it/s]"
     ]
    },
    {
     "name": "stderr",
     "output_type": "stream",
     "text": [
      "\r",
      " 36%|██████████████████████▎                                       | 36/100 [00:00<00:00, 80.02it/s]"
     ]
    },
    {
     "name": "stderr",
     "output_type": "stream",
     "text": [
      "\r",
      " 37%|██████████████████████▉                                       | 37/100 [00:00<00:00, 82.40it/s]"
     ]
    },
    {
     "name": "stderr",
     "output_type": "stream",
     "text": [
      "\r",
      " 38%|███████████████████████▌                                      | 38/100 [00:00<00:00, 84.72it/s]"
     ]
    },
    {
     "name": "stderr",
     "output_type": "stream",
     "text": [
      "\r",
      " 39%|████████████████████████▏                                     | 39/100 [00:00<00:00, 84.99it/s]"
     ]
    },
    {
     "name": "stderr",
     "output_type": "stream",
     "text": [
      "\r",
      " 40%|████████████████████████▊                                     | 40/100 [00:00<00:00, 81.57it/s]"
     ]
    },
    {
     "name": "stderr",
     "output_type": "stream",
     "text": [
      "\r",
      " 41%|█████████████████████████▍                                    | 41/100 [00:00<00:00, 83.25it/s]"
     ]
    },
    {
     "name": "stderr",
     "output_type": "stream",
     "text": [
      "\r",
      " 42%|██████████████████████████                                    | 42/100 [00:00<00:00, 80.47it/s]"
     ]
    },
    {
     "name": "stderr",
     "output_type": "stream",
     "text": [
      "\r",
      " 43%|██████████████████████████▋                                   | 43/100 [00:00<00:00, 80.47it/s]"
     ]
    },
    {
     "name": "stderr",
     "output_type": "stream",
     "text": [
      "\r",
      " 44%|███████████████████████████▎                                  | 44/100 [00:00<00:00, 82.26it/s]"
     ]
    },
    {
     "name": "stderr",
     "output_type": "stream",
     "text": [
      "\r",
      " 45%|███████████████████████████▉                                  | 45/100 [00:00<00:00, 83.70it/s]"
     ]
    },
    {
     "name": "stderr",
     "output_type": "stream",
     "text": [
      "\r",
      " 46%|████████████████████████████▌                                 | 46/100 [00:00<00:00, 84.02it/s]"
     ]
    },
    {
     "name": "stderr",
     "output_type": "stream",
     "text": [
      "\r",
      " 47%|█████████████████████████████▏                                | 47/100 [00:00<00:00, 85.31it/s]"
     ]
    },
    {
     "name": "stderr",
     "output_type": "stream",
     "text": [
      "\r",
      " 48%|█████████████████████████████▊                                | 48/100 [00:00<00:00, 84.36it/s]"
     ]
    },
    {
     "name": "stderr",
     "output_type": "stream",
     "text": [
      "\r",
      " 49%|██████████████████████████████▍                               | 49/100 [00:00<00:00, 84.47it/s]"
     ]
    },
    {
     "name": "stderr",
     "output_type": "stream",
     "text": [
      "\r",
      " 50%|███████████████████████████████                               | 50/100 [00:00<00:00, 82.72it/s]"
     ]
    },
    {
     "name": "stderr",
     "output_type": "stream",
     "text": [
      "\r",
      " 51%|███████████████████████████████▌                              | 51/100 [00:00<00:00, 82.50it/s]"
     ]
    },
    {
     "name": "stderr",
     "output_type": "stream",
     "text": [
      "\r",
      " 52%|████████████████████████████████▏                             | 52/100 [00:00<00:00, 81.90it/s]"
     ]
    },
    {
     "name": "stderr",
     "output_type": "stream",
     "text": [
      "\r",
      " 53%|████████████████████████████████▊                             | 53/100 [00:00<00:00, 83.33it/s]"
     ]
    },
    {
     "name": "stderr",
     "output_type": "stream",
     "text": [
      "\r",
      " 54%|█████████████████████████████████▍                            | 54/100 [00:00<00:00, 81.79it/s]"
     ]
    },
    {
     "name": "stderr",
     "output_type": "stream",
     "text": [
      "\r",
      " 55%|██████████████████████████████████                            | 55/100 [00:00<00:00, 80.24it/s]"
     ]
    },
    {
     "name": "stderr",
     "output_type": "stream",
     "text": [
      "\r",
      " 56%|██████████████████████████████████▋                           | 56/100 [00:00<00:00, 80.85it/s]"
     ]
    },
    {
     "name": "stderr",
     "output_type": "stream",
     "text": [
      "\r",
      " 57%|███████████████████████████████████▎                          | 57/100 [00:00<00:00, 81.32it/s]"
     ]
    },
    {
     "name": "stderr",
     "output_type": "stream",
     "text": [
      "\r",
      " 58%|███████████████████████████████████▉                          | 58/100 [00:00<00:00, 79.88it/s]"
     ]
    },
    {
     "name": "stderr",
     "output_type": "stream",
     "text": [
      "\r",
      " 59%|████████████████████████████████████▌                         | 59/100 [00:00<00:00, 79.37it/s]"
     ]
    },
    {
     "name": "stderr",
     "output_type": "stream",
     "text": [
      "\r",
      " 60%|█████████████████████████████████████▏                        | 60/100 [00:00<00:00, 80.67it/s]"
     ]
    },
    {
     "name": "stderr",
     "output_type": "stream",
     "text": [
      "\r",
      " 61%|█████████████████████████████████████▊                        | 61/100 [00:00<00:00, 81.76it/s]"
     ]
    },
    {
     "name": "stderr",
     "output_type": "stream",
     "text": [
      "\r",
      " 62%|██████████████████████████████████████▍                       | 62/100 [00:00<00:00, 82.81it/s]"
     ]
    },
    {
     "name": "stderr",
     "output_type": "stream",
     "text": [
      "\r",
      " 63%|███████████████████████████████████████                       | 63/100 [00:00<00:00, 81.83it/s]"
     ]
    },
    {
     "name": "stderr",
     "output_type": "stream",
     "text": [
      "\r",
      " 64%|███████████████████████████████████████▋                      | 64/100 [00:00<00:00, 79.19it/s]"
     ]
    },
    {
     "name": "stderr",
     "output_type": "stream",
     "text": [
      "\r",
      " 65%|████████████████████████████████████████▎                     | 65/100 [00:00<00:00, 81.87it/s]"
     ]
    },
    {
     "name": "stderr",
     "output_type": "stream",
     "text": [
      "\r",
      " 66%|████████████████████████████████████████▉                     | 66/100 [00:00<00:00, 84.61it/s]"
     ]
    },
    {
     "name": "stderr",
     "output_type": "stream",
     "text": [
      "\r",
      " 67%|█████████████████████████████████████████▌                    | 67/100 [00:00<00:00, 81.33it/s]"
     ]
    },
    {
     "name": "stderr",
     "output_type": "stream",
     "text": [
      "\r",
      " 68%|██████████████████████████████████████████▏                   | 68/100 [00:00<00:00, 81.31it/s]"
     ]
    },
    {
     "name": "stderr",
     "output_type": "stream",
     "text": [
      "\r",
      " 69%|██████████████████████████████████████████▊                   | 69/100 [00:00<00:00, 79.64it/s]"
     ]
    },
    {
     "name": "stderr",
     "output_type": "stream",
     "text": [
      "\r",
      " 70%|███████████████████████████████████████████▍                  | 70/100 [00:00<00:00, 79.52it/s]"
     ]
    },
    {
     "name": "stderr",
     "output_type": "stream",
     "text": [
      "\r",
      " 71%|████████████████████████████████████████████                  | 71/100 [00:00<00:00, 82.51it/s]"
     ]
    },
    {
     "name": "stderr",
     "output_type": "stream",
     "text": [
      "\r",
      " 72%|████████████████████████████████████████████▋                 | 72/100 [00:00<00:00, 83.52it/s]"
     ]
    },
    {
     "name": "stderr",
     "output_type": "stream",
     "text": [
      "\r",
      " 73%|█████████████████████████████████████████████▎                | 73/100 [00:00<00:00, 82.98it/s]"
     ]
    },
    {
     "name": "stderr",
     "output_type": "stream",
     "text": [
      "\r",
      " 74%|█████████████████████████████████████████████▉                | 74/100 [00:00<00:00, 85.22it/s]"
     ]
    },
    {
     "name": "stderr",
     "output_type": "stream",
     "text": [
      "\r",
      " 75%|██████████████████████████████████████████████▌               | 75/100 [00:00<00:00, 87.11it/s]"
     ]
    },
    {
     "name": "stderr",
     "output_type": "stream",
     "text": [
      "\r",
      " 76%|███████████████████████████████████████████████               | 76/100 [00:00<00:00, 85.71it/s]"
     ]
    },
    {
     "name": "stderr",
     "output_type": "stream",
     "text": [
      "\r",
      " 77%|███████████████████████████████████████████████▋              | 77/100 [00:00<00:00, 84.06it/s]"
     ]
    },
    {
     "name": "stderr",
     "output_type": "stream",
     "text": [
      "\r",
      " 78%|████████████████████████████████████████████████▎             | 78/100 [00:00<00:00, 85.26it/s]"
     ]
    },
    {
     "name": "stderr",
     "output_type": "stream",
     "text": [
      "\r",
      " 79%|████████████████████████████████████████████████▉             | 79/100 [00:00<00:00, 86.91it/s]"
     ]
    },
    {
     "name": "stderr",
     "output_type": "stream",
     "text": [
      "\r",
      " 80%|█████████████████████████████████████████████████▌            | 80/100 [00:00<00:00, 87.35it/s]"
     ]
    },
    {
     "name": "stderr",
     "output_type": "stream",
     "text": [
      "\r",
      " 81%|██████████████████████████████████████████████████▏           | 81/100 [00:00<00:00, 88.20it/s]"
     ]
    },
    {
     "name": "stderr",
     "output_type": "stream",
     "text": [
      "\r",
      " 82%|██████████████████████████████████████████████████▊           | 82/100 [00:00<00:00, 87.98it/s]"
     ]
    },
    {
     "name": "stderr",
     "output_type": "stream",
     "text": [
      "\r",
      " 83%|███████████████████████████████████████████████████▍          | 83/100 [00:00<00:00, 84.03it/s]"
     ]
    },
    {
     "name": "stderr",
     "output_type": "stream",
     "text": [
      "\r",
      " 84%|████████████████████████████████████████████████████          | 84/100 [00:01<00:00, 83.56it/s]"
     ]
    },
    {
     "name": "stderr",
     "output_type": "stream",
     "text": [
      "\r",
      " 85%|████████████████████████████████████████████████████▋         | 85/100 [00:01<00:00, 83.07it/s]"
     ]
    },
    {
     "name": "stderr",
     "output_type": "stream",
     "text": [
      "\r",
      " 86%|█████████████████████████████████████████████████████▎        | 86/100 [00:01<00:00, 81.17it/s]"
     ]
    },
    {
     "name": "stderr",
     "output_type": "stream",
     "text": [
      "\r",
      " 87%|█████████████████████████████████████████████████████▉        | 87/100 [00:01<00:00, 83.64it/s]"
     ]
    },
    {
     "name": "stderr",
     "output_type": "stream",
     "text": [
      "\r",
      " 88%|██████████████████████████████████████████████████████▌       | 88/100 [00:01<00:00, 80.60it/s]"
     ]
    },
    {
     "name": "stderr",
     "output_type": "stream",
     "text": [
      "\r",
      " 89%|███████████████████████████████████████████████████████▏      | 89/100 [00:01<00:00, 83.71it/s]"
     ]
    },
    {
     "name": "stderr",
     "output_type": "stream",
     "text": [
      "\r",
      " 90%|███████████████████████████████████████████████████████▊      | 90/100 [00:01<00:00, 82.25it/s]"
     ]
    },
    {
     "name": "stderr",
     "output_type": "stream",
     "text": [
      "\r",
      " 91%|████████████████████████████████████████████████████████▍     | 91/100 [00:01<00:00, 84.69it/s]"
     ]
    },
    {
     "name": "stderr",
     "output_type": "stream",
     "text": [
      "\r",
      " 92%|█████████████████████████████████████████████████████████     | 92/100 [00:01<00:00, 80.40it/s]"
     ]
    },
    {
     "name": "stderr",
     "output_type": "stream",
     "text": [
      "\r",
      " 93%|█████████████████████████████████████████████████████████▋    | 93/100 [00:01<00:00, 82.05it/s]"
     ]
    },
    {
     "name": "stderr",
     "output_type": "stream",
     "text": [
      "\r",
      " 94%|██████████████████████████████████████████████████████████▎   | 94/100 [00:01<00:00, 84.58it/s]"
     ]
    },
    {
     "name": "stderr",
     "output_type": "stream",
     "text": [
      "\r",
      " 95%|██████████████████████████████████████████████████████████▉   | 95/100 [00:01<00:00, 81.68it/s]"
     ]
    },
    {
     "name": "stderr",
     "output_type": "stream",
     "text": [
      "\r",
      " 96%|███████████████████████████████████████████████████████████▌  | 96/100 [00:01<00:00, 82.09it/s]"
     ]
    },
    {
     "name": "stderr",
     "output_type": "stream",
     "text": [
      "\r",
      " 97%|████████████████████████████████████████████████████████████▏ | 97/100 [00:01<00:00, 84.78it/s]"
     ]
    },
    {
     "name": "stderr",
     "output_type": "stream",
     "text": [
      "\r",
      " 98%|████████████████████████████████████████████████████████████▊ | 98/100 [00:01<00:00, 83.72it/s]"
     ]
    },
    {
     "name": "stderr",
     "output_type": "stream",
     "text": [
      "\r",
      " 99%|█████████████████████████████████████████████████████████████▍| 99/100 [00:01<00:00, 82.01it/s]"
     ]
    },
    {
     "name": "stderr",
     "output_type": "stream",
     "text": [
      "\r",
      "100%|█████████████████████████████████████████████████████████████| 100/100 [00:01<00:00, 81.89it/s]"
     ]
    },
    {
     "name": "stderr",
     "output_type": "stream",
     "text": [
      "\r",
      "100%|█████████████████████████████████████████████████████████████| 100/100 [00:01<00:00, 82.98it/s]"
     ]
    },
    {
     "name": "stderr",
     "output_type": "stream",
     "text": [
      "\n"
     ]
    }
   ],
   "source": [
    "for i in tqdm(range(100), ncols=100, mininterval=0.01):\n",
    "    sleep(0.01)\n",
    "    pass"
   ]
  },
  {
   "cell_type": "markdown",
   "metadata": {},
   "source": [
    "barの色を変更したいときはcolourを変更する"
   ]
  },
  {
   "cell_type": "code",
   "execution_count": 5,
   "metadata": {},
   "outputs": [
    {
     "name": "stderr",
     "output_type": "stream",
     "text": [
      "\r",
      "  0%|\u001b[34m                                                                       \u001b[0m| 0/100 [00:00<?, ?it/s]\u001b[0m"
     ]
    },
    {
     "name": "stderr",
     "output_type": "stream",
     "text": [
      "\r",
      "  1%|\u001b[34m▋                                                              \u001b[0m| 1/100 [00:00<00:01, 87.05it/s]\u001b[0m"
     ]
    },
    {
     "name": "stderr",
     "output_type": "stream",
     "text": [
      "\r",
      "  2%|\u001b[34m█▎                                                             \u001b[0m| 2/100 [00:00<00:01, 83.23it/s]\u001b[0m"
     ]
    },
    {
     "name": "stderr",
     "output_type": "stream",
     "text": [
      "\r",
      "  3%|\u001b[34m█▉                                                             \u001b[0m| 3/100 [00:00<00:01, 80.97it/s]\u001b[0m"
     ]
    },
    {
     "name": "stderr",
     "output_type": "stream",
     "text": [
      "\r",
      "  4%|\u001b[34m██▌                                                            \u001b[0m| 4/100 [00:00<00:01, 82.92it/s]\u001b[0m"
     ]
    },
    {
     "name": "stderr",
     "output_type": "stream",
     "text": [
      "\r",
      "  5%|\u001b[34m███▏                                                           \u001b[0m| 5/100 [00:00<00:01, 83.07it/s]\u001b[0m"
     ]
    },
    {
     "name": "stderr",
     "output_type": "stream",
     "text": [
      "\r",
      "  6%|\u001b[34m███▊                                                           \u001b[0m| 6/100 [00:00<00:01, 82.13it/s]\u001b[0m"
     ]
    },
    {
     "name": "stderr",
     "output_type": "stream",
     "text": [
      "\r",
      "  7%|\u001b[34m████▍                                                          \u001b[0m| 7/100 [00:00<00:01, 80.90it/s]\u001b[0m"
     ]
    },
    {
     "name": "stderr",
     "output_type": "stream",
     "text": [
      "\r",
      "  8%|\u001b[34m█████                                                          \u001b[0m| 8/100 [00:00<00:01, 80.70it/s]\u001b[0m"
     ]
    },
    {
     "name": "stderr",
     "output_type": "stream",
     "text": [
      "\r",
      "  9%|\u001b[34m█████▋                                                         \u001b[0m| 9/100 [00:00<00:01, 81.82it/s]\u001b[0m"
     ]
    },
    {
     "name": "stderr",
     "output_type": "stream",
     "text": [
      "\r",
      " 10%|\u001b[34m██████▏                                                       \u001b[0m| 10/100 [00:00<00:01, 83.79it/s]\u001b[0m"
     ]
    },
    {
     "name": "stderr",
     "output_type": "stream",
     "text": [
      "\r",
      " 11%|\u001b[34m██████▊                                                       \u001b[0m| 11/100 [00:00<00:01, 85.08it/s]\u001b[0m"
     ]
    },
    {
     "name": "stderr",
     "output_type": "stream",
     "text": [
      "\r",
      " 12%|\u001b[34m███████▍                                                      \u001b[0m| 12/100 [00:00<00:01, 84.68it/s]\u001b[0m"
     ]
    },
    {
     "name": "stderr",
     "output_type": "stream",
     "text": [
      "\r",
      " 13%|\u001b[34m████████                                                      \u001b[0m| 13/100 [00:00<00:01, 86.50it/s]\u001b[0m"
     ]
    },
    {
     "name": "stderr",
     "output_type": "stream",
     "text": [
      "\r",
      " 14%|\u001b[34m████████▋                                                     \u001b[0m| 14/100 [00:00<00:01, 84.71it/s]\u001b[0m"
     ]
    },
    {
     "name": "stderr",
     "output_type": "stream",
     "text": [
      "\r",
      " 15%|\u001b[34m█████████▎                                                    \u001b[0m| 15/100 [00:00<00:01, 81.06it/s]\u001b[0m"
     ]
    },
    {
     "name": "stderr",
     "output_type": "stream",
     "text": [
      "\r",
      " 16%|\u001b[34m█████████▉                                                    \u001b[0m| 16/100 [00:00<00:01, 83.34it/s]\u001b[0m"
     ]
    },
    {
     "name": "stderr",
     "output_type": "stream",
     "text": [
      "\r",
      " 17%|\u001b[34m██████████▌                                                   \u001b[0m| 17/100 [00:00<00:01, 82.31it/s]\u001b[0m"
     ]
    },
    {
     "name": "stderr",
     "output_type": "stream",
     "text": [
      "\r",
      " 18%|\u001b[34m███████████▏                                                  \u001b[0m| 18/100 [00:00<00:00, 83.94it/s]\u001b[0m"
     ]
    },
    {
     "name": "stderr",
     "output_type": "stream",
     "text": [
      "\r",
      " 19%|\u001b[34m███████████▊                                                  \u001b[0m| 19/100 [00:00<00:00, 81.11it/s]\u001b[0m"
     ]
    },
    {
     "name": "stderr",
     "output_type": "stream",
     "text": [
      "\r",
      " 20%|\u001b[34m████████████▍                                                 \u001b[0m| 20/100 [00:00<00:00, 81.50it/s]\u001b[0m"
     ]
    },
    {
     "name": "stderr",
     "output_type": "stream",
     "text": [
      "\r",
      " 21%|\u001b[34m█████████████                                                 \u001b[0m| 21/100 [00:00<00:00, 79.19it/s]\u001b[0m"
     ]
    },
    {
     "name": "stderr",
     "output_type": "stream",
     "text": [
      "\r",
      " 22%|\u001b[34m█████████████▋                                                \u001b[0m| 22/100 [00:00<00:00, 80.89it/s]\u001b[0m"
     ]
    },
    {
     "name": "stderr",
     "output_type": "stream",
     "text": [
      "\r",
      " 23%|\u001b[34m██████████████▎                                               \u001b[0m| 23/100 [00:00<00:00, 79.08it/s]\u001b[0m"
     ]
    },
    {
     "name": "stderr",
     "output_type": "stream",
     "text": [
      "\r",
      " 24%|\u001b[34m██████████████▉                                               \u001b[0m| 24/100 [00:00<00:00, 77.80it/s]\u001b[0m"
     ]
    },
    {
     "name": "stderr",
     "output_type": "stream",
     "text": [
      "\r",
      " 25%|\u001b[34m███████████████▌                                              \u001b[0m| 25/100 [00:00<00:00, 80.27it/s]\u001b[0m"
     ]
    },
    {
     "name": "stderr",
     "output_type": "stream",
     "text": [
      "\r",
      " 26%|\u001b[34m████████████████                                              \u001b[0m| 26/100 [00:00<00:00, 80.85it/s]\u001b[0m"
     ]
    },
    {
     "name": "stderr",
     "output_type": "stream",
     "text": [
      "\r",
      " 27%|\u001b[34m████████████████▋                                             \u001b[0m| 27/100 [00:00<00:00, 82.92it/s]\u001b[0m"
     ]
    },
    {
     "name": "stderr",
     "output_type": "stream",
     "text": [
      "\r",
      " 28%|\u001b[34m█████████████████▎                                            \u001b[0m| 28/100 [00:00<00:00, 82.16it/s]\u001b[0m"
     ]
    },
    {
     "name": "stderr",
     "output_type": "stream",
     "text": [
      "\r",
      " 29%|\u001b[34m█████████████████▉                                            \u001b[0m| 29/100 [00:00<00:00, 83.76it/s]\u001b[0m"
     ]
    },
    {
     "name": "stderr",
     "output_type": "stream",
     "text": [
      "\r",
      " 30%|\u001b[34m██████████████████▌                                           \u001b[0m| 30/100 [00:00<00:00, 83.73it/s]\u001b[0m"
     ]
    },
    {
     "name": "stderr",
     "output_type": "stream",
     "text": [
      "\r",
      " 31%|\u001b[34m███████████████████▏                                          \u001b[0m| 31/100 [00:00<00:00, 85.08it/s]\u001b[0m"
     ]
    },
    {
     "name": "stderr",
     "output_type": "stream",
     "text": [
      "\r",
      " 32%|\u001b[34m███████████████████▊                                          \u001b[0m| 32/100 [00:00<00:00, 83.84it/s]\u001b[0m"
     ]
    },
    {
     "name": "stderr",
     "output_type": "stream",
     "text": [
      "\r",
      " 33%|\u001b[34m████████████████████▍                                         \u001b[0m| 33/100 [00:00<00:00, 83.44it/s]\u001b[0m"
     ]
    },
    {
     "name": "stderr",
     "output_type": "stream",
     "text": [
      "\r",
      " 34%|\u001b[34m█████████████████████                                         \u001b[0m| 34/100 [00:00<00:00, 84.14it/s]\u001b[0m"
     ]
    },
    {
     "name": "stderr",
     "output_type": "stream",
     "text": [
      "\r",
      " 35%|\u001b[34m█████████████████████▋                                        \u001b[0m| 35/100 [00:00<00:00, 84.28it/s]\u001b[0m"
     ]
    },
    {
     "name": "stderr",
     "output_type": "stream",
     "text": [
      "\r",
      " 36%|\u001b[34m██████████████████████▎                                       \u001b[0m| 36/100 [00:00<00:00, 80.54it/s]\u001b[0m"
     ]
    },
    {
     "name": "stderr",
     "output_type": "stream",
     "text": [
      "\r",
      " 37%|\u001b[34m██████████████████████▉                                       \u001b[0m| 37/100 [00:00<00:00, 82.39it/s]\u001b[0m"
     ]
    },
    {
     "name": "stderr",
     "output_type": "stream",
     "text": [
      "\r",
      " 38%|\u001b[34m███████████████████████▌                                      \u001b[0m| 38/100 [00:00<00:00, 79.87it/s]\u001b[0m"
     ]
    },
    {
     "name": "stderr",
     "output_type": "stream",
     "text": [
      "\r",
      " 39%|\u001b[34m████████████████████████▏                                     \u001b[0m| 39/100 [00:00<00:00, 82.27it/s]\u001b[0m"
     ]
    },
    {
     "name": "stderr",
     "output_type": "stream",
     "text": [
      "\r",
      " 40%|\u001b[34m████████████████████████▊                                     \u001b[0m| 40/100 [00:00<00:00, 82.58it/s]\u001b[0m"
     ]
    },
    {
     "name": "stderr",
     "output_type": "stream",
     "text": [
      "\r",
      " 41%|\u001b[34m█████████████████████████▍                                    \u001b[0m| 41/100 [00:00<00:00, 84.45it/s]\u001b[0m"
     ]
    },
    {
     "name": "stderr",
     "output_type": "stream",
     "text": [
      "\r",
      " 42%|\u001b[34m██████████████████████████                                    \u001b[0m| 42/100 [00:00<00:00, 81.11it/s]\u001b[0m"
     ]
    },
    {
     "name": "stderr",
     "output_type": "stream",
     "text": [
      "\r",
      " 43%|\u001b[34m██████████████████████████▋                                   \u001b[0m| 43/100 [00:00<00:00, 80.49it/s]\u001b[0m"
     ]
    },
    {
     "name": "stderr",
     "output_type": "stream",
     "text": [
      "\r",
      " 44%|\u001b[34m███████████████████████████▎                                  \u001b[0m| 44/100 [00:00<00:00, 79.77it/s]\u001b[0m"
     ]
    },
    {
     "name": "stderr",
     "output_type": "stream",
     "text": [
      "\r",
      " 45%|\u001b[34m███████████████████████████▉                                  \u001b[0m| 45/100 [00:00<00:00, 81.32it/s]\u001b[0m"
     ]
    },
    {
     "name": "stderr",
     "output_type": "stream",
     "text": [
      "\r",
      " 46%|\u001b[34m████████████████████████████▌                                 \u001b[0m| 46/100 [00:00<00:00, 80.44it/s]\u001b[0m"
     ]
    },
    {
     "name": "stderr",
     "output_type": "stream",
     "text": [
      "\r",
      " 47%|\u001b[34m█████████████████████████████▏                                \u001b[0m| 47/100 [00:00<00:00, 80.10it/s]\u001b[0m"
     ]
    },
    {
     "name": "stderr",
     "output_type": "stream",
     "text": [
      "\r",
      " 48%|\u001b[34m█████████████████████████████▊                                \u001b[0m| 48/100 [00:00<00:00, 77.25it/s]\u001b[0m"
     ]
    },
    {
     "name": "stderr",
     "output_type": "stream",
     "text": [
      "\r",
      " 49%|\u001b[34m██████████████████████████████▍                               \u001b[0m| 49/100 [00:00<00:00, 80.86it/s]\u001b[0m"
     ]
    },
    {
     "name": "stderr",
     "output_type": "stream",
     "text": [
      "\r",
      " 50%|\u001b[34m███████████████████████████████                               \u001b[0m| 50/100 [00:00<00:00, 78.76it/s]\u001b[0m"
     ]
    },
    {
     "name": "stderr",
     "output_type": "stream",
     "text": [
      "\r",
      " 51%|\u001b[34m███████████████████████████████▌                              \u001b[0m| 51/100 [00:00<00:00, 79.48it/s]\u001b[0m"
     ]
    },
    {
     "name": "stderr",
     "output_type": "stream",
     "text": [
      "\r",
      " 52%|\u001b[34m████████████████████████████████▏                             \u001b[0m| 52/100 [00:00<00:00, 81.09it/s]\u001b[0m"
     ]
    },
    {
     "name": "stderr",
     "output_type": "stream",
     "text": [
      "\r",
      " 53%|\u001b[34m████████████████████████████████▊                             \u001b[0m| 53/100 [00:00<00:00, 80.22it/s]\u001b[0m"
     ]
    },
    {
     "name": "stderr",
     "output_type": "stream",
     "text": [
      "\r",
      " 54%|\u001b[34m█████████████████████████████████▍                            \u001b[0m| 54/100 [00:00<00:00, 78.41it/s]\u001b[0m"
     ]
    },
    {
     "name": "stderr",
     "output_type": "stream",
     "text": [
      "\r",
      " 55%|\u001b[34m██████████████████████████████████                            \u001b[0m| 55/100 [00:00<00:00, 78.42it/s]\u001b[0m"
     ]
    },
    {
     "name": "stderr",
     "output_type": "stream",
     "text": [
      "\r",
      " 56%|\u001b[34m██████████████████████████████████▋                           \u001b[0m| 56/100 [00:00<00:00, 78.97it/s]\u001b[0m"
     ]
    },
    {
     "name": "stderr",
     "output_type": "stream",
     "text": [
      "\r",
      " 57%|\u001b[34m███████████████████████████████████▎                          \u001b[0m| 57/100 [00:00<00:00, 79.92it/s]\u001b[0m"
     ]
    },
    {
     "name": "stderr",
     "output_type": "stream",
     "text": [
      "\r",
      " 58%|\u001b[34m███████████████████████████████████▉                          \u001b[0m| 58/100 [00:00<00:00, 79.11it/s]\u001b[0m"
     ]
    },
    {
     "name": "stderr",
     "output_type": "stream",
     "text": [
      "\r",
      " 59%|\u001b[34m████████████████████████████████████▌                         \u001b[0m| 59/100 [00:00<00:00, 79.61it/s]\u001b[0m"
     ]
    },
    {
     "name": "stderr",
     "output_type": "stream",
     "text": [
      "\r",
      " 60%|\u001b[34m█████████████████████████████████████▏                        \u001b[0m| 60/100 [00:00<00:00, 81.33it/s]\u001b[0m"
     ]
    },
    {
     "name": "stderr",
     "output_type": "stream",
     "text": [
      "\r",
      " 61%|\u001b[34m█████████████████████████████████████▊                        \u001b[0m| 61/100 [00:00<00:00, 79.68it/s]\u001b[0m"
     ]
    },
    {
     "name": "stderr",
     "output_type": "stream",
     "text": [
      "\r",
      " 62%|\u001b[34m██████████████████████████████████████▍                       \u001b[0m| 62/100 [00:00<00:00, 82.42it/s]\u001b[0m"
     ]
    },
    {
     "name": "stderr",
     "output_type": "stream",
     "text": [
      "\r",
      " 63%|\u001b[34m███████████████████████████████████████                       \u001b[0m| 63/100 [00:00<00:00, 82.02it/s]\u001b[0m"
     ]
    },
    {
     "name": "stderr",
     "output_type": "stream",
     "text": [
      "\r",
      " 64%|\u001b[34m███████████████████████████████████████▋                      \u001b[0m| 64/100 [00:00<00:00, 82.81it/s]\u001b[0m"
     ]
    },
    {
     "name": "stderr",
     "output_type": "stream",
     "text": [
      "\r",
      " 65%|\u001b[34m████████████████████████████████████████▎                     \u001b[0m| 65/100 [00:00<00:00, 84.53it/s]\u001b[0m"
     ]
    },
    {
     "name": "stderr",
     "output_type": "stream",
     "text": [
      "\r",
      " 66%|\u001b[34m████████████████████████████████████████▉                     \u001b[0m| 66/100 [00:00<00:00, 86.04it/s]\u001b[0m"
     ]
    },
    {
     "name": "stderr",
     "output_type": "stream",
     "text": [
      "\r",
      " 67%|\u001b[34m█████████████████████████████████████████▌                    \u001b[0m| 67/100 [00:00<00:00, 82.31it/s]\u001b[0m"
     ]
    },
    {
     "name": "stderr",
     "output_type": "stream",
     "text": [
      "\r",
      " 68%|\u001b[34m██████████████████████████████████████████▏                   \u001b[0m| 68/100 [00:00<00:00, 82.52it/s]\u001b[0m"
     ]
    },
    {
     "name": "stderr",
     "output_type": "stream",
     "text": [
      "\r",
      " 69%|\u001b[34m██████████████████████████████████████████▊                   \u001b[0m| 69/100 [00:00<00:00, 84.87it/s]\u001b[0m"
     ]
    },
    {
     "name": "stderr",
     "output_type": "stream",
     "text": [
      "\r",
      " 70%|\u001b[34m███████████████████████████████████████████▍                  \u001b[0m| 70/100 [00:00<00:00, 82.20it/s]\u001b[0m"
     ]
    },
    {
     "name": "stderr",
     "output_type": "stream",
     "text": [
      "\r",
      " 71%|\u001b[34m████████████████████████████████████████████                  \u001b[0m| 71/100 [00:00<00:00, 81.84it/s]\u001b[0m"
     ]
    },
    {
     "name": "stderr",
     "output_type": "stream",
     "text": [
      "\r",
      " 72%|\u001b[34m████████████████████████████████████████████▋                 \u001b[0m| 72/100 [00:00<00:00, 81.57it/s]\u001b[0m"
     ]
    },
    {
     "name": "stderr",
     "output_type": "stream",
     "text": [
      "\r",
      " 73%|\u001b[34m█████████████████████████████████████████████▎                \u001b[0m| 73/100 [00:00<00:00, 84.24it/s]\u001b[0m"
     ]
    },
    {
     "name": "stderr",
     "output_type": "stream",
     "text": [
      "\r",
      " 74%|\u001b[34m█████████████████████████████████████████████▉                \u001b[0m| 74/100 [00:00<00:00, 84.57it/s]\u001b[0m"
     ]
    },
    {
     "name": "stderr",
     "output_type": "stream",
     "text": [
      "\r",
      " 75%|\u001b[34m██████████████████████████████████████████████▌               \u001b[0m| 75/100 [00:00<00:00, 82.29it/s]\u001b[0m"
     ]
    },
    {
     "name": "stderr",
     "output_type": "stream",
     "text": [
      "\r",
      " 76%|\u001b[34m███████████████████████████████████████████████               \u001b[0m| 76/100 [00:00<00:00, 83.60it/s]\u001b[0m"
     ]
    },
    {
     "name": "stderr",
     "output_type": "stream",
     "text": [
      "\r",
      " 77%|\u001b[34m███████████████████████████████████████████████▋              \u001b[0m| 77/100 [00:00<00:00, 85.11it/s]\u001b[0m"
     ]
    },
    {
     "name": "stderr",
     "output_type": "stream",
     "text": [
      "\r",
      " 78%|\u001b[34m████████████████████████████████████████████████▎             \u001b[0m| 78/100 [00:00<00:00, 83.74it/s]\u001b[0m"
     ]
    },
    {
     "name": "stderr",
     "output_type": "stream",
     "text": [
      "\r",
      " 79%|\u001b[34m████████████████████████████████████████████████▉             \u001b[0m| 79/100 [00:00<00:00, 82.24it/s]\u001b[0m"
     ]
    },
    {
     "name": "stderr",
     "output_type": "stream",
     "text": [
      "\r",
      " 80%|\u001b[34m█████████████████████████████████████████████████▌            \u001b[0m| 80/100 [00:00<00:00, 83.69it/s]\u001b[0m"
     ]
    },
    {
     "name": "stderr",
     "output_type": "stream",
     "text": [
      "\r",
      " 81%|\u001b[34m██████████████████████████████████████████████████▏           \u001b[0m| 81/100 [00:00<00:00, 81.04it/s]\u001b[0m"
     ]
    },
    {
     "name": "stderr",
     "output_type": "stream",
     "text": [
      "\r",
      " 82%|\u001b[34m██████████████████████████████████████████████████▊           \u001b[0m| 82/100 [00:01<00:00, 83.45it/s]\u001b[0m"
     ]
    },
    {
     "name": "stderr",
     "output_type": "stream",
     "text": [
      "\r",
      " 83%|\u001b[34m███████████████████████████████████████████████████▍          \u001b[0m| 83/100 [00:01<00:00, 82.66it/s]\u001b[0m"
     ]
    },
    {
     "name": "stderr",
     "output_type": "stream",
     "text": [
      "\r",
      " 84%|\u001b[34m████████████████████████████████████████████████████          \u001b[0m| 84/100 [00:01<00:00, 84.40it/s]\u001b[0m"
     ]
    },
    {
     "name": "stderr",
     "output_type": "stream",
     "text": [
      "\r",
      " 85%|\u001b[34m████████████████████████████████████████████████████▋         \u001b[0m| 85/100 [00:01<00:00, 86.27it/s]\u001b[0m"
     ]
    },
    {
     "name": "stderr",
     "output_type": "stream",
     "text": [
      "\r",
      " 86%|\u001b[34m█████████████████████████████████████████████████████▎        \u001b[0m| 86/100 [00:01<00:00, 84.80it/s]\u001b[0m"
     ]
    },
    {
     "name": "stderr",
     "output_type": "stream",
     "text": [
      "\r",
      " 87%|\u001b[34m█████████████████████████████████████████████████████▉        \u001b[0m| 87/100 [00:01<00:00, 84.41it/s]\u001b[0m"
     ]
    },
    {
     "name": "stderr",
     "output_type": "stream",
     "text": [
      "\r",
      " 88%|\u001b[34m██████████████████████████████████████████████████████▌       \u001b[0m| 88/100 [00:01<00:00, 81.48it/s]\u001b[0m"
     ]
    },
    {
     "name": "stderr",
     "output_type": "stream",
     "text": [
      "\r",
      " 89%|\u001b[34m███████████████████████████████████████████████████████▏      \u001b[0m| 89/100 [00:01<00:00, 84.32it/s]\u001b[0m"
     ]
    },
    {
     "name": "stderr",
     "output_type": "stream",
     "text": [
      "\r",
      " 90%|\u001b[34m███████████████████████████████████████████████████████▊      \u001b[0m| 90/100 [00:01<00:00, 85.73it/s]\u001b[0m"
     ]
    },
    {
     "name": "stderr",
     "output_type": "stream",
     "text": [
      "\r",
      " 91%|\u001b[34m████████████████████████████████████████████████████████▍     \u001b[0m| 91/100 [00:01<00:00, 84.53it/s]\u001b[0m"
     ]
    },
    {
     "name": "stderr",
     "output_type": "stream",
     "text": [
      "\r",
      " 92%|\u001b[34m█████████████████████████████████████████████████████████     \u001b[0m| 92/100 [00:01<00:00, 81.95it/s]\u001b[0m"
     ]
    },
    {
     "name": "stderr",
     "output_type": "stream",
     "text": [
      "\r",
      " 93%|\u001b[34m█████████████████████████████████████████████████████████▋    \u001b[0m| 93/100 [00:01<00:00, 84.08it/s]\u001b[0m"
     ]
    },
    {
     "name": "stderr",
     "output_type": "stream",
     "text": [
      "\r",
      " 94%|\u001b[34m██████████████████████████████████████████████████████████▎   \u001b[0m| 94/100 [00:01<00:00, 81.62it/s]\u001b[0m"
     ]
    },
    {
     "name": "stderr",
     "output_type": "stream",
     "text": [
      "\r",
      " 95%|\u001b[34m██████████████████████████████████████████████████████████▉   \u001b[0m| 95/100 [00:01<00:00, 83.71it/s]\u001b[0m"
     ]
    },
    {
     "name": "stderr",
     "output_type": "stream",
     "text": [
      "\r",
      " 96%|\u001b[34m███████████████████████████████████████████████████████████▌  \u001b[0m| 96/100 [00:01<00:00, 83.75it/s]\u001b[0m"
     ]
    },
    {
     "name": "stderr",
     "output_type": "stream",
     "text": [
      "\r",
      " 97%|\u001b[34m████████████████████████████████████████████████████████████▏ \u001b[0m| 97/100 [00:01<00:00, 83.34it/s]\u001b[0m"
     ]
    },
    {
     "name": "stderr",
     "output_type": "stream",
     "text": [
      "\r",
      " 98%|\u001b[34m████████████████████████████████████████████████████████████▊ \u001b[0m| 98/100 [00:01<00:00, 82.59it/s]\u001b[0m"
     ]
    },
    {
     "name": "stderr",
     "output_type": "stream",
     "text": [
      "\r",
      " 99%|\u001b[34m█████████████████████████████████████████████████████████████▍\u001b[0m| 99/100 [00:01<00:00, 79.08it/s]\u001b[0m"
     ]
    },
    {
     "name": "stderr",
     "output_type": "stream",
     "text": [
      "\r",
      "100%|\u001b[34m█████████████████████████████████████████████████████████████\u001b[0m| 100/100 [00:01<00:00, 81.34it/s]\u001b[0m"
     ]
    },
    {
     "name": "stderr",
     "output_type": "stream",
     "text": [
      "\r",
      "100%|\u001b[34m█████████████████████████████████████████████████████████████\u001b[0m| 100/100 [00:01<00:00, 82.03it/s]\u001b[0m"
     ]
    },
    {
     "name": "stderr",
     "output_type": "stream",
     "text": [
      "\n"
     ]
    }
   ],
   "source": [
    "for i in tqdm(range(100), ncols=100, mininterval=0.01, colour='blue'):\n",
    "    sleep(0.01)\n",
    "    pass"
   ]
  },
  {
   "cell_type": "markdown",
   "metadata": {},
   "source": [
    "iteration内容を記述するときはdescを用いる"
   ]
  },
  {
   "cell_type": "code",
   "execution_count": 6,
   "metadata": {},
   "outputs": [
    {
     "name": "stderr",
     "output_type": "stream",
     "text": [
      "\r",
      "train:   0%|                                                                | 0/100 [00:00<?, ?it/s]"
     ]
    },
    {
     "name": "stderr",
     "output_type": "stream",
     "text": [
      "\r",
      "train:   1%|▌                                                       | 1/100 [00:00<00:01, 91.19it/s]"
     ]
    },
    {
     "name": "stderr",
     "output_type": "stream",
     "text": [
      "\r",
      "train:   2%|█                                                       | 2/100 [00:00<00:01, 87.24it/s]"
     ]
    },
    {
     "name": "stderr",
     "output_type": "stream",
     "text": [
      "\r",
      "train:   3%|█▋                                                      | 3/100 [00:00<00:01, 87.52it/s]"
     ]
    },
    {
     "name": "stderr",
     "output_type": "stream",
     "text": [
      "\r",
      "train:   4%|██▏                                                     | 4/100 [00:00<00:01, 85.02it/s]"
     ]
    },
    {
     "name": "stderr",
     "output_type": "stream",
     "text": [
      "\r",
      "train:   5%|██▊                                                     | 5/100 [00:00<00:01, 85.72it/s]"
     ]
    },
    {
     "name": "stderr",
     "output_type": "stream",
     "text": [
      "\r",
      "train:   6%|███▎                                                    | 6/100 [00:00<00:01, 85.23it/s]"
     ]
    },
    {
     "name": "stderr",
     "output_type": "stream",
     "text": [
      "\r",
      "train:   7%|███▉                                                    | 7/100 [00:00<00:01, 81.85it/s]"
     ]
    },
    {
     "name": "stderr",
     "output_type": "stream",
     "text": [
      "\r",
      "train:   8%|████▍                                                   | 8/100 [00:00<00:01, 76.24it/s]"
     ]
    },
    {
     "name": "stderr",
     "output_type": "stream",
     "text": [
      "\r",
      "train:   9%|█████                                                   | 9/100 [00:00<00:01, 68.94it/s]"
     ]
    },
    {
     "name": "stderr",
     "output_type": "stream",
     "text": [
      "\r",
      "train:  10%|█████▌                                                 | 10/100 [00:00<00:01, 60.88it/s]"
     ]
    },
    {
     "name": "stderr",
     "output_type": "stream",
     "text": [
      "\r",
      "train:  11%|██████                                                 | 11/100 [00:00<00:01, 65.62it/s]"
     ]
    },
    {
     "name": "stderr",
     "output_type": "stream",
     "text": [
      "\r",
      "train:  12%|██████▌                                                | 12/100 [00:00<00:01, 69.52it/s]"
     ]
    },
    {
     "name": "stderr",
     "output_type": "stream",
     "text": [
      "\r",
      "train:  13%|███████▏                                               | 13/100 [00:00<00:01, 68.36it/s]"
     ]
    },
    {
     "name": "stderr",
     "output_type": "stream",
     "text": [
      "\r",
      "train:  14%|███████▋                                               | 14/100 [00:00<00:01, 66.61it/s]"
     ]
    },
    {
     "name": "stderr",
     "output_type": "stream",
     "text": [
      "\r",
      "train:  15%|████████▎                                              | 15/100 [00:00<00:01, 57.08it/s]"
     ]
    },
    {
     "name": "stderr",
     "output_type": "stream",
     "text": [
      "\r",
      "train:  16%|████████▊                                              | 16/100 [00:00<00:01, 63.84it/s]"
     ]
    },
    {
     "name": "stderr",
     "output_type": "stream",
     "text": [
      "\r",
      "train:  17%|█████████▎                                             | 17/100 [00:00<00:01, 70.08it/s]"
     ]
    },
    {
     "name": "stderr",
     "output_type": "stream",
     "text": [
      "\r",
      "train:  18%|█████████▉                                             | 18/100 [00:00<00:01, 71.68it/s]"
     ]
    },
    {
     "name": "stderr",
     "output_type": "stream",
     "text": [
      "\r",
      "train:  19%|██████████▍                                            | 19/100 [00:00<00:01, 75.54it/s]"
     ]
    },
    {
     "name": "stderr",
     "output_type": "stream",
     "text": [
      "\r",
      "train:  20%|███████████                                            | 20/100 [00:00<00:01, 78.88it/s]"
     ]
    },
    {
     "name": "stderr",
     "output_type": "stream",
     "text": [
      "\r",
      "train:  21%|███████████▌                                           | 21/100 [00:00<00:00, 79.67it/s]"
     ]
    },
    {
     "name": "stderr",
     "output_type": "stream",
     "text": [
      "\r",
      "train:  22%|████████████                                           | 22/100 [00:00<00:00, 80.32it/s]"
     ]
    },
    {
     "name": "stderr",
     "output_type": "stream",
     "text": [
      "\r",
      "train:  23%|████████████▋                                          | 23/100 [00:00<00:00, 82.00it/s]"
     ]
    },
    {
     "name": "stderr",
     "output_type": "stream",
     "text": [
      "\r",
      "train:  24%|█████████████▏                                         | 24/100 [00:00<00:00, 83.87it/s]"
     ]
    },
    {
     "name": "stderr",
     "output_type": "stream",
     "text": [
      "\r",
      "train:  25%|█████████████▊                                         | 25/100 [00:00<00:00, 84.03it/s]"
     ]
    },
    {
     "name": "stderr",
     "output_type": "stream",
     "text": [
      "\r",
      "train:  26%|██████████████▎                                        | 26/100 [00:00<00:00, 85.89it/s]"
     ]
    },
    {
     "name": "stderr",
     "output_type": "stream",
     "text": [
      "\r",
      "train:  27%|██████████████▊                                        | 27/100 [00:00<00:00, 86.41it/s]"
     ]
    },
    {
     "name": "stderr",
     "output_type": "stream",
     "text": [
      "\r",
      "train:  28%|███████████████▍                                       | 28/100 [00:00<00:00, 88.36it/s]"
     ]
    },
    {
     "name": "stderr",
     "output_type": "stream",
     "text": [
      "\r",
      "train:  29%|███████████████▉                                       | 29/100 [00:00<00:00, 85.31it/s]"
     ]
    },
    {
     "name": "stderr",
     "output_type": "stream",
     "text": [
      "\r",
      "train:  30%|████████████████▌                                      | 30/100 [00:00<00:00, 82.79it/s]"
     ]
    },
    {
     "name": "stderr",
     "output_type": "stream",
     "text": [
      "\r",
      "train:  31%|█████████████████                                      | 31/100 [00:00<00:00, 83.77it/s]"
     ]
    },
    {
     "name": "stderr",
     "output_type": "stream",
     "text": [
      "\r",
      "train:  32%|█████████████████▌                                     | 32/100 [00:00<00:00, 83.80it/s]"
     ]
    },
    {
     "name": "stderr",
     "output_type": "stream",
     "text": [
      "\r",
      "train:  33%|██████████████████▏                                    | 33/100 [00:00<00:00, 84.52it/s]"
     ]
    },
    {
     "name": "stderr",
     "output_type": "stream",
     "text": [
      "\r",
      "train:  34%|██████████████████▋                                    | 34/100 [00:00<00:00, 85.85it/s]"
     ]
    },
    {
     "name": "stderr",
     "output_type": "stream",
     "text": [
      "\r",
      "train:  35%|███████████████████▎                                   | 35/100 [00:00<00:00, 82.26it/s]"
     ]
    },
    {
     "name": "stderr",
     "output_type": "stream",
     "text": [
      "\r",
      "train:  36%|███████████████████▊                                   | 36/100 [00:00<00:00, 82.79it/s]"
     ]
    },
    {
     "name": "stderr",
     "output_type": "stream",
     "text": [
      "\r",
      "train:  37%|████████████████████▎                                  | 37/100 [00:00<00:00, 83.05it/s]"
     ]
    },
    {
     "name": "stderr",
     "output_type": "stream",
     "text": [
      "\r",
      "train:  38%|████████████████████▉                                  | 38/100 [00:00<00:00, 82.95it/s]"
     ]
    },
    {
     "name": "stderr",
     "output_type": "stream",
     "text": [
      "\r",
      "train:  39%|█████████████████████▍                                 | 39/100 [00:00<00:00, 82.77it/s]"
     ]
    },
    {
     "name": "stderr",
     "output_type": "stream",
     "text": [
      "\r",
      "train:  40%|██████████████████████                                 | 40/100 [00:00<00:00, 82.72it/s]"
     ]
    },
    {
     "name": "stderr",
     "output_type": "stream",
     "text": [
      "\r",
      "train:  41%|██████████████████████▌                                | 41/100 [00:00<00:00, 84.30it/s]"
     ]
    },
    {
     "name": "stderr",
     "output_type": "stream",
     "text": [
      "\r",
      "train:  42%|███████████████████████                                | 42/100 [00:00<00:00, 82.61it/s]"
     ]
    },
    {
     "name": "stderr",
     "output_type": "stream",
     "text": [
      "\r",
      "train:  43%|███████████████████████▋                               | 43/100 [00:00<00:00, 85.48it/s]"
     ]
    },
    {
     "name": "stderr",
     "output_type": "stream",
     "text": [
      "\r",
      "train:  44%|████████████████████████▏                              | 44/100 [00:00<00:00, 85.02it/s]"
     ]
    },
    {
     "name": "stderr",
     "output_type": "stream",
     "text": [
      "\r",
      "train:  45%|████████████████████████▊                              | 45/100 [00:00<00:00, 86.62it/s]"
     ]
    },
    {
     "name": "stderr",
     "output_type": "stream",
     "text": [
      "\r",
      "train:  46%|█████████████████████████▎                             | 46/100 [00:00<00:00, 87.95it/s]"
     ]
    },
    {
     "name": "stderr",
     "output_type": "stream",
     "text": [
      "\r",
      "train:  47%|█████████████████████████▊                             | 47/100 [00:00<00:00, 87.54it/s]"
     ]
    },
    {
     "name": "stderr",
     "output_type": "stream",
     "text": [
      "\r",
      "train:  48%|██████████████████████████▍                            | 48/100 [00:00<00:00, 87.75it/s]"
     ]
    },
    {
     "name": "stderr",
     "output_type": "stream",
     "text": [
      "\r",
      "train:  49%|██████████████████████████▉                            | 49/100 [00:00<00:00, 89.20it/s]"
     ]
    },
    {
     "name": "stderr",
     "output_type": "stream",
     "text": [
      "\r",
      "train:  50%|███████████████████████████▌                           | 50/100 [00:00<00:00, 87.95it/s]"
     ]
    },
    {
     "name": "stderr",
     "output_type": "stream",
     "text": [
      "\r",
      "train:  51%|████████████████████████████                           | 51/100 [00:00<00:00, 88.18it/s]"
     ]
    },
    {
     "name": "stderr",
     "output_type": "stream",
     "text": [
      "\r",
      "train:  52%|████████████████████████████▌                          | 52/100 [00:00<00:00, 87.04it/s]"
     ]
    },
    {
     "name": "stderr",
     "output_type": "stream",
     "text": [
      "\r",
      "train:  53%|█████████████████████████████▏                         | 53/100 [00:00<00:00, 88.12it/s]"
     ]
    },
    {
     "name": "stderr",
     "output_type": "stream",
     "text": [
      "\r",
      "train:  54%|█████████████████████████████▋                         | 54/100 [00:00<00:00, 87.71it/s]"
     ]
    },
    {
     "name": "stderr",
     "output_type": "stream",
     "text": [
      "\r",
      "train:  55%|██████████████████████████████▎                        | 55/100 [00:00<00:00, 86.10it/s]"
     ]
    },
    {
     "name": "stderr",
     "output_type": "stream",
     "text": [
      "\r",
      "train:  56%|██████████████████████████████▊                        | 56/100 [00:00<00:00, 87.85it/s]"
     ]
    },
    {
     "name": "stderr",
     "output_type": "stream",
     "text": [
      "\r",
      "train:  57%|███████████████████████████████▎                       | 57/100 [00:00<00:00, 89.36it/s]"
     ]
    },
    {
     "name": "stderr",
     "output_type": "stream",
     "text": [
      "\r",
      "train:  58%|███████████████████████████████▉                       | 58/100 [00:00<00:00, 89.84it/s]"
     ]
    },
    {
     "name": "stderr",
     "output_type": "stream",
     "text": [
      "\r",
      "train:  59%|████████████████████████████████▍                      | 59/100 [00:00<00:00, 86.20it/s]"
     ]
    },
    {
     "name": "stderr",
     "output_type": "stream",
     "text": [
      "\r",
      "train:  60%|█████████████████████████████████                      | 60/100 [00:00<00:00, 85.28it/s]"
     ]
    },
    {
     "name": "stderr",
     "output_type": "stream",
     "text": [
      "\r",
      "train:  61%|█████████████████████████████████▌                     | 61/100 [00:00<00:00, 82.44it/s]"
     ]
    },
    {
     "name": "stderr",
     "output_type": "stream",
     "text": [
      "\r",
      "train:  62%|██████████████████████████████████                     | 62/100 [00:00<00:00, 84.48it/s]"
     ]
    },
    {
     "name": "stderr",
     "output_type": "stream",
     "text": [
      "\r",
      "train:  63%|██████████████████████████████████▋                    | 63/100 [00:00<00:00, 83.66it/s]"
     ]
    },
    {
     "name": "stderr",
     "output_type": "stream",
     "text": [
      "\r",
      "train:  64%|███████████████████████████████████▏                   | 64/100 [00:00<00:00, 80.17it/s]"
     ]
    },
    {
     "name": "stderr",
     "output_type": "stream",
     "text": [
      "\r",
      "train:  65%|███████████████████████████████████▊                   | 65/100 [00:00<00:00, 80.23it/s]"
     ]
    },
    {
     "name": "stderr",
     "output_type": "stream",
     "text": [
      "\r",
      "train:  66%|████████████████████████████████████▎                  | 66/100 [00:00<00:00, 83.13it/s]"
     ]
    },
    {
     "name": "stderr",
     "output_type": "stream",
     "text": [
      "\r",
      "train:  67%|████████████████████████████████████▊                  | 67/100 [00:00<00:00, 82.24it/s]"
     ]
    },
    {
     "name": "stderr",
     "output_type": "stream",
     "text": [
      "\r",
      "train:  68%|█████████████████████████████████████▍                 | 68/100 [00:00<00:00, 82.21it/s]"
     ]
    },
    {
     "name": "stderr",
     "output_type": "stream",
     "text": [
      "\r",
      "train:  69%|█████████████████████████████████████▉                 | 69/100 [00:00<00:00, 80.54it/s]"
     ]
    },
    {
     "name": "stderr",
     "output_type": "stream",
     "text": [
      "\r",
      "train:  70%|██████████████████████████████████████▌                | 70/100 [00:00<00:00, 82.31it/s]"
     ]
    },
    {
     "name": "stderr",
     "output_type": "stream",
     "text": [
      "\r",
      "train:  71%|███████████████████████████████████████                | 71/100 [00:00<00:00, 84.16it/s]"
     ]
    },
    {
     "name": "stderr",
     "output_type": "stream",
     "text": [
      "\r",
      "train:  72%|███████████████████████████████████████▌               | 72/100 [00:00<00:00, 81.46it/s]"
     ]
    },
    {
     "name": "stderr",
     "output_type": "stream",
     "text": [
      "\r",
      "train:  73%|████████████████████████████████████████▏              | 73/100 [00:00<00:00, 82.10it/s]"
     ]
    },
    {
     "name": "stderr",
     "output_type": "stream",
     "text": [
      "\r",
      "train:  74%|████████████████████████████████████████▋              | 74/100 [00:00<00:00, 80.05it/s]"
     ]
    },
    {
     "name": "stderr",
     "output_type": "stream",
     "text": [
      "\r",
      "train:  75%|█████████████████████████████████████████▎             | 75/100 [00:00<00:00, 79.38it/s]"
     ]
    },
    {
     "name": "stderr",
     "output_type": "stream",
     "text": [
      "\r",
      "train:  76%|█████████████████████████████████████████▊             | 76/100 [00:00<00:00, 78.99it/s]"
     ]
    },
    {
     "name": "stderr",
     "output_type": "stream",
     "text": [
      "\r",
      "train:  77%|██████████████████████████████████████████▎            | 77/100 [00:00<00:00, 82.14it/s]"
     ]
    },
    {
     "name": "stderr",
     "output_type": "stream",
     "text": [
      "\r",
      "train:  78%|██████████████████████████████████████████▉            | 78/100 [00:00<00:00, 83.09it/s]"
     ]
    },
    {
     "name": "stderr",
     "output_type": "stream",
     "text": [
      "\r",
      "train:  79%|███████████████████████████████████████████▍           | 79/100 [00:00<00:00, 85.29it/s]"
     ]
    },
    {
     "name": "stderr",
     "output_type": "stream",
     "text": [
      "\r",
      "train:  80%|████████████████████████████████████████████           | 80/100 [00:00<00:00, 82.66it/s]"
     ]
    },
    {
     "name": "stderr",
     "output_type": "stream",
     "text": [
      "\r",
      "train:  81%|████████████████████████████████████████████▌          | 81/100 [00:01<00:00, 81.63it/s]"
     ]
    },
    {
     "name": "stderr",
     "output_type": "stream",
     "text": [
      "\r",
      "train:  82%|█████████████████████████████████████████████          | 82/100 [00:01<00:00, 82.04it/s]"
     ]
    },
    {
     "name": "stderr",
     "output_type": "stream",
     "text": [
      "\r",
      "train:  83%|█████████████████████████████████████████████▋         | 83/100 [00:01<00:00, 82.81it/s]"
     ]
    },
    {
     "name": "stderr",
     "output_type": "stream",
     "text": [
      "\r",
      "train:  84%|██████████████████████████████████████████████▏        | 84/100 [00:01<00:00, 81.35it/s]"
     ]
    },
    {
     "name": "stderr",
     "output_type": "stream",
     "text": [
      "\r",
      "train:  85%|██████████████████████████████████████████████▊        | 85/100 [00:01<00:00, 82.54it/s]"
     ]
    },
    {
     "name": "stderr",
     "output_type": "stream",
     "text": [
      "\r",
      "train:  86%|███████████████████████████████████████████████▎       | 86/100 [00:01<00:00, 81.08it/s]"
     ]
    },
    {
     "name": "stderr",
     "output_type": "stream",
     "text": [
      "\r",
      "train:  87%|███████████████████████████████████████████████▊       | 87/100 [00:01<00:00, 84.18it/s]"
     ]
    },
    {
     "name": "stderr",
     "output_type": "stream",
     "text": [
      "\r",
      "train:  88%|████████████████████████████████████████████████▍      | 88/100 [00:01<00:00, 82.57it/s]"
     ]
    },
    {
     "name": "stderr",
     "output_type": "stream",
     "text": [
      "\r",
      "train:  89%|████████████████████████████████████████████████▉      | 89/100 [00:01<00:00, 82.48it/s]"
     ]
    },
    {
     "name": "stderr",
     "output_type": "stream",
     "text": [
      "\r",
      "train:  90%|█████████████████████████████████████████████████▌     | 90/100 [00:01<00:00, 81.88it/s]"
     ]
    },
    {
     "name": "stderr",
     "output_type": "stream",
     "text": [
      "\r",
      "train:  91%|██████████████████████████████████████████████████     | 91/100 [00:01<00:00, 84.44it/s]"
     ]
    },
    {
     "name": "stderr",
     "output_type": "stream",
     "text": [
      "\r",
      "train:  92%|██████████████████████████████████████████████████▌    | 92/100 [00:01<00:00, 83.14it/s]"
     ]
    },
    {
     "name": "stderr",
     "output_type": "stream",
     "text": [
      "\r",
      "train:  93%|███████████████████████████████████████████████████▏   | 93/100 [00:01<00:00, 79.37it/s]"
     ]
    },
    {
     "name": "stderr",
     "output_type": "stream",
     "text": [
      "\r",
      "train:  94%|███████████████████████████████████████████████████▋   | 94/100 [00:01<00:00, 80.04it/s]"
     ]
    },
    {
     "name": "stderr",
     "output_type": "stream",
     "text": [
      "\r",
      "train:  95%|████████████████████████████████████████████████████▎  | 95/100 [00:01<00:00, 82.08it/s]"
     ]
    },
    {
     "name": "stderr",
     "output_type": "stream",
     "text": [
      "\r",
      "train:  96%|████████████████████████████████████████████████████▊  | 96/100 [00:01<00:00, 83.51it/s]"
     ]
    },
    {
     "name": "stderr",
     "output_type": "stream",
     "text": [
      "\r",
      "train:  97%|█████████████████████████████████████████████████████▎ | 97/100 [00:01<00:00, 81.49it/s]"
     ]
    },
    {
     "name": "stderr",
     "output_type": "stream",
     "text": [
      "\r",
      "train:  98%|█████████████████████████████████████████████████████▉ | 98/100 [00:01<00:00, 83.98it/s]"
     ]
    },
    {
     "name": "stderr",
     "output_type": "stream",
     "text": [
      "\r",
      "train:  99%|██████████████████████████████████████████████████████▍| 99/100 [00:01<00:00, 86.11it/s]"
     ]
    },
    {
     "name": "stderr",
     "output_type": "stream",
     "text": [
      "\r",
      "train: 100%|██████████████████████████████████████████████████████| 100/100 [00:01<00:00, 85.89it/s]"
     ]
    },
    {
     "name": "stderr",
     "output_type": "stream",
     "text": [
      "\r",
      "train: 100%|██████████████████████████████████████████████████████| 100/100 [00:01<00:00, 81.31it/s]"
     ]
    },
    {
     "name": "stderr",
     "output_type": "stream",
     "text": [
      "\n",
      "\r",
      "dev:   0%|                                                                  | 0/100 [00:00<?, ?it/s]"
     ]
    },
    {
     "name": "stderr",
     "output_type": "stream",
     "text": [
      "\r",
      "dev:   1%|▌                                                         | 1/100 [00:00<00:01, 85.93it/s]"
     ]
    },
    {
     "name": "stderr",
     "output_type": "stream",
     "text": [
      "\r",
      "dev:   2%|█▏                                                        | 2/100 [00:00<00:01, 84.25it/s]"
     ]
    },
    {
     "name": "stderr",
     "output_type": "stream",
     "text": [
      "\r",
      "dev:   3%|█▋                                                        | 3/100 [00:00<00:01, 82.64it/s]"
     ]
    },
    {
     "name": "stderr",
     "output_type": "stream",
     "text": [
      "\r",
      "dev:   4%|██▎                                                       | 4/100 [00:00<00:01, 84.20it/s]"
     ]
    },
    {
     "name": "stderr",
     "output_type": "stream",
     "text": [
      "\r",
      "dev:   5%|██▉                                                       | 5/100 [00:00<00:01, 80.96it/s]"
     ]
    },
    {
     "name": "stderr",
     "output_type": "stream",
     "text": [
      "\r",
      "dev:   6%|███▍                                                      | 6/100 [00:00<00:01, 79.08it/s]"
     ]
    },
    {
     "name": "stderr",
     "output_type": "stream",
     "text": [
      "\r",
      "dev:   7%|████                                                      | 7/100 [00:00<00:01, 78.77it/s]"
     ]
    },
    {
     "name": "stderr",
     "output_type": "stream",
     "text": [
      "\r",
      "dev:   8%|████▋                                                     | 8/100 [00:00<00:01, 81.61it/s]"
     ]
    },
    {
     "name": "stderr",
     "output_type": "stream",
     "text": [
      "\r",
      "dev:   9%|█████▏                                                    | 9/100 [00:00<00:01, 84.18it/s]"
     ]
    },
    {
     "name": "stderr",
     "output_type": "stream",
     "text": [
      "\r",
      "dev:  10%|█████▋                                                   | 10/100 [00:00<00:01, 82.04it/s]"
     ]
    },
    {
     "name": "stderr",
     "output_type": "stream",
     "text": [
      "\r",
      "dev:  11%|██████▎                                                  | 11/100 [00:00<00:01, 79.75it/s]"
     ]
    },
    {
     "name": "stderr",
     "output_type": "stream",
     "text": [
      "\r",
      "dev:  12%|██████▊                                                  | 12/100 [00:00<00:01, 77.67it/s]"
     ]
    },
    {
     "name": "stderr",
     "output_type": "stream",
     "text": [
      "\r",
      "dev:  13%|███████▍                                                 | 13/100 [00:00<00:01, 81.07it/s]"
     ]
    },
    {
     "name": "stderr",
     "output_type": "stream",
     "text": [
      "\r",
      "dev:  14%|███████▉                                                 | 14/100 [00:00<00:01, 78.96it/s]"
     ]
    },
    {
     "name": "stderr",
     "output_type": "stream",
     "text": [
      "\r",
      "dev:  15%|████████▌                                                | 15/100 [00:00<00:01, 79.80it/s]"
     ]
    },
    {
     "name": "stderr",
     "output_type": "stream",
     "text": [
      "\r",
      "dev:  16%|█████████                                                | 16/100 [00:00<00:01, 81.67it/s]"
     ]
    },
    {
     "name": "stderr",
     "output_type": "stream",
     "text": [
      "\r",
      "dev:  17%|█████████▋                                               | 17/100 [00:00<00:01, 80.01it/s]"
     ]
    },
    {
     "name": "stderr",
     "output_type": "stream",
     "text": [
      "\r",
      "dev:  18%|██████████▎                                              | 18/100 [00:00<00:01, 81.84it/s]"
     ]
    },
    {
     "name": "stderr",
     "output_type": "stream",
     "text": [
      "\r",
      "dev:  19%|██████████▊                                              | 19/100 [00:00<00:00, 81.73it/s]"
     ]
    },
    {
     "name": "stderr",
     "output_type": "stream",
     "text": [
      "\r",
      "dev:  20%|███████████▍                                             | 20/100 [00:00<00:00, 83.63it/s]"
     ]
    },
    {
     "name": "stderr",
     "output_type": "stream",
     "text": [
      "\r",
      "dev:  21%|███████████▉                                             | 21/100 [00:00<00:00, 85.73it/s]"
     ]
    },
    {
     "name": "stderr",
     "output_type": "stream",
     "text": [
      "\r",
      "dev:  22%|████████████▌                                            | 22/100 [00:00<00:00, 84.50it/s]"
     ]
    },
    {
     "name": "stderr",
     "output_type": "stream",
     "text": [
      "\r",
      "dev:  23%|█████████████                                            | 23/100 [00:00<00:00, 83.99it/s]"
     ]
    },
    {
     "name": "stderr",
     "output_type": "stream",
     "text": [
      "\r",
      "dev:  24%|█████████████▋                                           | 24/100 [00:00<00:00, 83.61it/s]"
     ]
    },
    {
     "name": "stderr",
     "output_type": "stream",
     "text": [
      "\r",
      "dev:  25%|██████████████▎                                          | 25/100 [00:00<00:00, 83.40it/s]"
     ]
    },
    {
     "name": "stderr",
     "output_type": "stream",
     "text": [
      "\r",
      "dev:  26%|██████████████▊                                          | 26/100 [00:00<00:00, 85.22it/s]"
     ]
    },
    {
     "name": "stderr",
     "output_type": "stream",
     "text": [
      "\r",
      "dev:  27%|███████████████▍                                         | 27/100 [00:00<00:00, 86.75it/s]"
     ]
    },
    {
     "name": "stderr",
     "output_type": "stream",
     "text": [
      "\r",
      "dev:  28%|███████████████▉                                         | 28/100 [00:00<00:00, 82.77it/s]"
     ]
    },
    {
     "name": "stderr",
     "output_type": "stream",
     "text": [
      "\r",
      "dev:  29%|████████████████▌                                        | 29/100 [00:00<00:00, 82.90it/s]"
     ]
    },
    {
     "name": "stderr",
     "output_type": "stream",
     "text": [
      "\r",
      "dev:  30%|█████████████████                                        | 30/100 [00:00<00:00, 85.11it/s]"
     ]
    },
    {
     "name": "stderr",
     "output_type": "stream",
     "text": [
      "\r",
      "dev:  31%|█████████████████▋                                       | 31/100 [00:00<00:00, 83.24it/s]"
     ]
    },
    {
     "name": "stderr",
     "output_type": "stream",
     "text": [
      "\r",
      "dev:  32%|██████████████████▏                                      | 32/100 [00:00<00:00, 86.11it/s]"
     ]
    },
    {
     "name": "stderr",
     "output_type": "stream",
     "text": [
      "\r",
      "dev:  33%|██████████████████▊                                      | 33/100 [00:00<00:00, 87.89it/s]"
     ]
    },
    {
     "name": "stderr",
     "output_type": "stream",
     "text": [
      "\r",
      "dev:  34%|███████████████████▍                                     | 34/100 [00:00<00:00, 84.60it/s]"
     ]
    },
    {
     "name": "stderr",
     "output_type": "stream",
     "text": [
      "\r",
      "dev:  35%|███████████████████▉                                     | 35/100 [00:00<00:00, 86.00it/s]"
     ]
    },
    {
     "name": "stderr",
     "output_type": "stream",
     "text": [
      "\r",
      "dev:  36%|████████████████████▌                                    | 36/100 [00:00<00:00, 86.47it/s]"
     ]
    },
    {
     "name": "stderr",
     "output_type": "stream",
     "text": [
      "\r",
      "dev:  37%|█████████████████████                                    | 37/100 [00:00<00:00, 87.38it/s]"
     ]
    },
    {
     "name": "stderr",
     "output_type": "stream",
     "text": [
      "\r",
      "dev:  38%|█████████████████████▋                                   | 38/100 [00:00<00:00, 87.24it/s]"
     ]
    },
    {
     "name": "stderr",
     "output_type": "stream",
     "text": [
      "\r",
      "dev:  39%|██████████████████████▏                                  | 39/100 [00:00<00:00, 88.72it/s]"
     ]
    },
    {
     "name": "stderr",
     "output_type": "stream",
     "text": [
      "\r",
      "dev:  40%|██████████████████████▊                                  | 40/100 [00:00<00:00, 89.22it/s]"
     ]
    },
    {
     "name": "stderr",
     "output_type": "stream",
     "text": [
      "\r",
      "dev:  41%|███████████████████████▎                                 | 41/100 [00:00<00:00, 90.03it/s]"
     ]
    },
    {
     "name": "stderr",
     "output_type": "stream",
     "text": [
      "\r",
      "dev:  42%|███████████████████████▉                                 | 42/100 [00:00<00:00, 90.95it/s]"
     ]
    },
    {
     "name": "stderr",
     "output_type": "stream",
     "text": [
      "\r",
      "dev:  43%|████████████████████████▌                                | 43/100 [00:00<00:00, 91.67it/s]"
     ]
    },
    {
     "name": "stderr",
     "output_type": "stream",
     "text": [
      "\r",
      "dev:  44%|█████████████████████████                                | 44/100 [00:00<00:00, 91.71it/s]"
     ]
    },
    {
     "name": "stderr",
     "output_type": "stream",
     "text": [
      "\r",
      "dev:  45%|█████████████████████████▋                               | 45/100 [00:00<00:00, 88.26it/s]"
     ]
    },
    {
     "name": "stderr",
     "output_type": "stream",
     "text": [
      "\r",
      "dev:  46%|██████████████████████████▏                              | 46/100 [00:00<00:00, 86.00it/s]"
     ]
    },
    {
     "name": "stderr",
     "output_type": "stream",
     "text": [
      "\r",
      "dev:  47%|██████████████████████████▊                              | 47/100 [00:00<00:00, 88.00it/s]"
     ]
    },
    {
     "name": "stderr",
     "output_type": "stream",
     "text": [
      "\r",
      "dev:  48%|███████████████████████████▎                             | 48/100 [00:00<00:00, 89.43it/s]"
     ]
    },
    {
     "name": "stderr",
     "output_type": "stream",
     "text": [
      "\r",
      "dev:  49%|███████████████████████████▉                             | 49/100 [00:00<00:00, 86.66it/s]"
     ]
    },
    {
     "name": "stderr",
     "output_type": "stream",
     "text": [
      "\r",
      "dev:  50%|████████████████████████████▌                            | 50/100 [00:00<00:00, 88.02it/s]"
     ]
    },
    {
     "name": "stderr",
     "output_type": "stream",
     "text": [
      "\r",
      "dev:  51%|█████████████████████████████                            | 51/100 [00:00<00:00, 86.16it/s]"
     ]
    },
    {
     "name": "stderr",
     "output_type": "stream",
     "text": [
      "\r",
      "dev:  52%|█████████████████████████████▋                           | 52/100 [00:00<00:00, 87.61it/s]"
     ]
    },
    {
     "name": "stderr",
     "output_type": "stream",
     "text": [
      "\r",
      "dev:  53%|██████████████████████████████▏                          | 53/100 [00:00<00:00, 86.87it/s]"
     ]
    },
    {
     "name": "stderr",
     "output_type": "stream",
     "text": [
      "\r",
      "dev:  54%|██████████████████████████████▊                          | 54/100 [00:00<00:00, 88.01it/s]"
     ]
    },
    {
     "name": "stderr",
     "output_type": "stream",
     "text": [
      "\r",
      "dev:  55%|███████████████████████████████▎                         | 55/100 [00:00<00:00, 89.13it/s]"
     ]
    },
    {
     "name": "stderr",
     "output_type": "stream",
     "text": [
      "\r",
      "dev:  56%|███████████████████████████████▉                         | 56/100 [00:00<00:00, 88.11it/s]"
     ]
    },
    {
     "name": "stderr",
     "output_type": "stream",
     "text": [
      "\r",
      "dev:  57%|████████████████████████████████▍                        | 57/100 [00:00<00:00, 89.42it/s]"
     ]
    },
    {
     "name": "stderr",
     "output_type": "stream",
     "text": [
      "\r",
      "dev:  58%|█████████████████████████████████                        | 58/100 [00:00<00:00, 90.66it/s]"
     ]
    },
    {
     "name": "stderr",
     "output_type": "stream",
     "text": [
      "\r",
      "dev:  59%|█████████████████████████████████▋                       | 59/100 [00:00<00:00, 91.17it/s]"
     ]
    },
    {
     "name": "stderr",
     "output_type": "stream",
     "text": [
      "\r",
      "dev:  60%|██████████████████████████████████▏                      | 60/100 [00:00<00:00, 90.88it/s]"
     ]
    },
    {
     "name": "stderr",
     "output_type": "stream",
     "text": [
      "\r",
      "dev:  61%|██████████████████████████████████▊                      | 61/100 [00:00<00:00, 87.70it/s]"
     ]
    },
    {
     "name": "stderr",
     "output_type": "stream",
     "text": [
      "\r",
      "dev:  62%|███████████████████████████████████▎                     | 62/100 [00:00<00:00, 89.43it/s]"
     ]
    },
    {
     "name": "stderr",
     "output_type": "stream",
     "text": [
      "\r",
      "dev:  63%|███████████████████████████████████▉                     | 63/100 [00:00<00:00, 90.51it/s]"
     ]
    },
    {
     "name": "stderr",
     "output_type": "stream",
     "text": [
      "\r",
      "dev:  64%|████████████████████████████████████▍                    | 64/100 [00:00<00:00, 86.58it/s]"
     ]
    },
    {
     "name": "stderr",
     "output_type": "stream",
     "text": [
      "\r",
      "dev:  65%|█████████████████████████████████████                    | 65/100 [00:00<00:00, 88.38it/s]"
     ]
    },
    {
     "name": "stderr",
     "output_type": "stream",
     "text": [
      "\r",
      "dev:  66%|█████████████████████████████████████▌                   | 66/100 [00:00<00:00, 85.78it/s]"
     ]
    },
    {
     "name": "stderr",
     "output_type": "stream",
     "text": [
      "\r",
      "dev:  67%|██████████████████████████████████████▏                  | 67/100 [00:00<00:00, 85.06it/s]"
     ]
    },
    {
     "name": "stderr",
     "output_type": "stream",
     "text": [
      "\r",
      "dev:  68%|██████████████████████████████████████▊                  | 68/100 [00:00<00:00, 82.86it/s]"
     ]
    },
    {
     "name": "stderr",
     "output_type": "stream",
     "text": [
      "\r",
      "dev:  69%|███████████████████████████████████████▎                 | 69/100 [00:00<00:00, 84.72it/s]"
     ]
    },
    {
     "name": "stderr",
     "output_type": "stream",
     "text": [
      "\r",
      "dev:  70%|███████████████████████████████████████▉                 | 70/100 [00:00<00:00, 84.54it/s]"
     ]
    },
    {
     "name": "stderr",
     "output_type": "stream",
     "text": [
      "\r",
      "dev:  71%|████████████████████████████████████████▍                | 71/100 [00:00<00:00, 78.89it/s]"
     ]
    },
    {
     "name": "stderr",
     "output_type": "stream",
     "text": [
      "\r",
      "dev:  72%|█████████████████████████████████████████                | 72/100 [00:00<00:00, 82.15it/s]"
     ]
    },
    {
     "name": "stderr",
     "output_type": "stream",
     "text": [
      "\r",
      "dev:  73%|█████████████████████████████████████████▌               | 73/100 [00:00<00:00, 84.08it/s]"
     ]
    },
    {
     "name": "stderr",
     "output_type": "stream",
     "text": [
      "\r",
      "dev:  74%|██████████████████████████████████████████▏              | 74/100 [00:00<00:00, 80.95it/s]"
     ]
    },
    {
     "name": "stderr",
     "output_type": "stream",
     "text": [
      "\r",
      "dev:  75%|██████████████████████████████████████████▊              | 75/100 [00:00<00:00, 83.84it/s]"
     ]
    },
    {
     "name": "stderr",
     "output_type": "stream",
     "text": [
      "\r",
      "dev:  76%|███████████████████████████████████████████▎             | 76/100 [00:00<00:00, 85.60it/s]"
     ]
    },
    {
     "name": "stderr",
     "output_type": "stream",
     "text": [
      "\r",
      "dev:  77%|███████████████████████████████████████████▉             | 77/100 [00:00<00:00, 87.18it/s]"
     ]
    },
    {
     "name": "stderr",
     "output_type": "stream",
     "text": [
      "\r",
      "dev:  78%|████████████████████████████████████████████▍            | 78/100 [00:00<00:00, 87.92it/s]"
     ]
    },
    {
     "name": "stderr",
     "output_type": "stream",
     "text": [
      "\r",
      "dev:  79%|█████████████████████████████████████████████            | 79/100 [00:00<00:00, 87.88it/s]"
     ]
    },
    {
     "name": "stderr",
     "output_type": "stream",
     "text": [
      "\r",
      "dev:  80%|█████████████████████████████████████████████▌           | 80/100 [00:00<00:00, 88.24it/s]"
     ]
    },
    {
     "name": "stderr",
     "output_type": "stream",
     "text": [
      "\r",
      "dev:  81%|██████████████████████████████████████████████▏          | 81/100 [00:00<00:00, 85.91it/s]"
     ]
    },
    {
     "name": "stderr",
     "output_type": "stream",
     "text": [
      "\r",
      "dev:  82%|██████████████████████████████████████████████▋          | 82/100 [00:00<00:00, 87.60it/s]"
     ]
    },
    {
     "name": "stderr",
     "output_type": "stream",
     "text": [
      "\r",
      "dev:  83%|███████████████████████████████████████████████▎         | 83/100 [00:00<00:00, 89.08it/s]"
     ]
    },
    {
     "name": "stderr",
     "output_type": "stream",
     "text": [
      "\r",
      "dev:  84%|███████████████████████████████████████████████▉         | 84/100 [00:00<00:00, 90.32it/s]"
     ]
    },
    {
     "name": "stderr",
     "output_type": "stream",
     "text": [
      "\r",
      "dev:  85%|████████████████████████████████████████████████▍        | 85/100 [00:00<00:00, 91.21it/s]"
     ]
    },
    {
     "name": "stderr",
     "output_type": "stream",
     "text": [
      "\r",
      "dev:  86%|█████████████████████████████████████████████████        | 86/100 [00:01<00:00, 85.93it/s]"
     ]
    },
    {
     "name": "stderr",
     "output_type": "stream",
     "text": [
      "\r",
      "dev:  87%|█████████████████████████████████████████████████▌       | 87/100 [00:01<00:00, 82.71it/s]"
     ]
    },
    {
     "name": "stderr",
     "output_type": "stream",
     "text": [
      "\r",
      "dev:  88%|██████████████████████████████████████████████████▏      | 88/100 [00:01<00:00, 84.91it/s]"
     ]
    },
    {
     "name": "stderr",
     "output_type": "stream",
     "text": [
      "\r",
      "dev:  89%|██████████████████████████████████████████████████▋      | 89/100 [00:01<00:00, 85.70it/s]"
     ]
    },
    {
     "name": "stderr",
     "output_type": "stream",
     "text": [
      "\r",
      "dev:  90%|███████████████████████████████████████████████████▎     | 90/100 [00:01<00:00, 86.00it/s]"
     ]
    },
    {
     "name": "stderr",
     "output_type": "stream",
     "text": [
      "\r",
      "dev:  91%|███████████████████████████████████████████████████▊     | 91/100 [00:01<00:00, 82.65it/s]"
     ]
    },
    {
     "name": "stderr",
     "output_type": "stream",
     "text": [
      "\r",
      "dev:  92%|████████████████████████████████████████████████████▍    | 92/100 [00:01<00:00, 84.22it/s]"
     ]
    },
    {
     "name": "stderr",
     "output_type": "stream",
     "text": [
      "\r",
      "dev:  93%|█████████████████████████████████████████████████████    | 93/100 [00:01<00:00, 86.63it/s]"
     ]
    },
    {
     "name": "stderr",
     "output_type": "stream",
     "text": [
      "\r",
      "dev:  94%|█████████████████████████████████████████████████████▌   | 94/100 [00:01<00:00, 84.14it/s]"
     ]
    },
    {
     "name": "stderr",
     "output_type": "stream",
     "text": [
      "\r",
      "dev:  95%|██████████████████████████████████████████████████████▏  | 95/100 [00:01<00:00, 85.76it/s]"
     ]
    },
    {
     "name": "stderr",
     "output_type": "stream",
     "text": [
      "\r",
      "dev:  96%|██████████████████████████████████████████████████████▋  | 96/100 [00:01<00:00, 87.15it/s]"
     ]
    },
    {
     "name": "stderr",
     "output_type": "stream",
     "text": [
      "\r",
      "dev:  97%|███████████████████████████████████████████████████████▎ | 97/100 [00:01<00:00, 88.27it/s]"
     ]
    },
    {
     "name": "stderr",
     "output_type": "stream",
     "text": [
      "\r",
      "dev:  98%|███████████████████████████████████████████████████████▊ | 98/100 [00:01<00:00, 86.16it/s]"
     ]
    },
    {
     "name": "stderr",
     "output_type": "stream",
     "text": [
      "\r",
      "dev:  99%|████████████████████████████████████████████████████████▍| 99/100 [00:01<00:00, 84.49it/s]"
     ]
    },
    {
     "name": "stderr",
     "output_type": "stream",
     "text": [
      "\r",
      "dev: 100%|████████████████████████████████████████████████████████| 100/100 [00:01<00:00, 86.10it/s]"
     ]
    },
    {
     "name": "stderr",
     "output_type": "stream",
     "text": [
      "\r",
      "dev: 100%|████████████████████████████████████████████████████████| 100/100 [00:01<00:00, 85.39it/s]"
     ]
    },
    {
     "name": "stderr",
     "output_type": "stream",
     "text": [
      "\n"
     ]
    }
   ],
   "source": [
    "for phase in ['train', 'dev']:\n",
    "    for i in tqdm(range(100), ncols=100, mininterval=0.01, desc=phase):\n",
    "        sleep(0.01)\n",
    "        pass"
   ]
  },
  {
   "cell_type": "code",
   "execution_count": null,
   "metadata": {},
   "outputs": [],
   "source": []
  }
 ],
 "metadata": {
  "kernelspec": {
   "display_name": "Python 3",
   "language": "python",
   "name": "python3"
  },
  "language_info": {
   "codemirror_mode": {
    "name": "ipython",
    "version": 3
   },
   "file_extension": ".py",
   "mimetype": "text/x-python",
   "name": "python",
   "nbconvert_exporter": "python",
   "pygments_lexer": "ipython3",
   "version": "3.8.5"
  }
 },
 "nbformat": 4,
 "nbformat_minor": 4
}