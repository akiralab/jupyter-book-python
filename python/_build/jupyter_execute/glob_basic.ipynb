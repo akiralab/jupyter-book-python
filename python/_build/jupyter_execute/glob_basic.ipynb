{
 "cells": [
  {
   "cell_type": "markdown",
   "metadata": {},
   "source": [
    "# globの基本的な使い方\n",
    "\n",
    "- 大量のファイルの中から特定のファイルを引っ張ってくる時などに用いる\n",
    "- 正規化表現を用いて検索できる\n",
    "\n",
    "1. glob.glob(PATH)"
   ]
  },
  {
   "cell_type": "code",
   "execution_count": 1,
   "metadata": {},
   "outputs": [],
   "source": [
    "import glob"
   ]
  },
  {
   "cell_type": "markdown",
   "metadata": {},
   "source": [
    "### 1. 正規化表現を用いて検索する -> `glob.glob(PATTERN)`"
   ]
  },
  {
   "cell_type": "code",
   "execution_count": 2,
   "metadata": {},
   "outputs": [
    {
     "data": {
      "text/plain": [
       "['../python-book/comment-out-guide.ipynb',\n",
       " '../python-book/plt_cmap.ipynb',\n",
       " '../python-book/np_vs_python.ipynb',\n",
       " '../python-book/pd_loc.ipynb',\n",
       " '../python-book/plt_basics.ipynb',\n",
       " '../python-book/plt_figure.ipynb',\n",
       " '../python-book/torchvision_io.ipynb',\n",
       " '../python-book/plt_subplots.ipynb',\n",
       " '../python-book/shutil_move.ipynb',\n",
       " '../python-book/np_random.ipynb',\n",
       " '../python-book/plt_animation.ipynb',\n",
       " '../python-book/scipy_stats.ipynb',\n",
       " '../python-book/torchvision_models.ipynb',\n",
       " '../python-book/box.ipynb',\n",
       " '../python-book/name.ipynb',\n",
       " '../python-book/glob_basic.ipynb',\n",
       " '../python-book/pd_drop_add_column.ipynb',\n",
       " '../python-book/np_normal.ipynb',\n",
       " '../python-book/np_clip.ipynb',\n",
       " '../python-book/pd_rename.ipynb',\n",
       " '../python-book/ahlive.ipynb',\n",
       " '../python-book/tqdm.ipynb',\n",
       " '../python-book/print_with_color.ipynb',\n",
       " '../python-book/notebooks.ipynb',\n",
       " '../python-book/pd_value_counts.ipynb',\n",
       " '../python-book/class.ipynb',\n",
       " '../python-book/pd_basic.ipynb',\n",
       " '../python-book/np_empty.ipynb',\n",
       " '../python-book/pd_count_unique.ipynb',\n",
       " '../python-book/np_slice.ipynb',\n",
       " '../python-book/torch_where.ipynb',\n",
       " '../python-book/transpose.ipynb',\n",
       " '../python-book/pd_from_dict.ipynb',\n",
       " '../python-book/pytorch_dataset.ipynb',\n",
       " '../python-book/plt_style.ipynb',\n",
       " '../python-book/torch_interpolate.ipynb',\n",
       " '../python-book/np_logspace.ipynb',\n",
       " '../python-book/template.ipynb',\n",
       " '../python-book/newspaper.ipynb',\n",
       " '../python-book/np_choice.ipynb',\n",
       " '../python-book/python-print.ipynb',\n",
       " '../python-book/os_basic.ipynb',\n",
       " '../python-book/seed_everything.ipynb',\n",
       " '../python-book/global.ipynb',\n",
       " '../python-book/plt_errorbar.ipynb',\n",
       " '../python-book/cv2_imwrite.ipynb',\n",
       " '../python-book/np_full.ipynb',\n",
       " '../python-book/pd_index.ipynb',\n",
       " '../python-book/itertools.ipynb',\n",
       " '../python-book/collections_counter.ipynb',\n",
       " '../python-book/np_math.ipynb',\n",
       " '../python-book/np_basics.ipynb',\n",
       " '../python-book/pd_groupby.ipynb',\n",
       " '../python-book/pprint.ipynb']"
      ]
     },
     "execution_count": 2,
     "metadata": {},
     "output_type": "execute_result"
    }
   ],
   "source": [
    "pattern = \"../*/*.ipynb\"\n",
    "glob.glob(pattern)"
   ]
  },
  {
   "cell_type": "code",
   "execution_count": null,
   "metadata": {},
   "outputs": [],
   "source": []
  },
  {
   "cell_type": "code",
   "execution_count": null,
   "metadata": {},
   "outputs": [],
   "source": []
  }
 ],
 "metadata": {
  "kernelspec": {
   "display_name": "Python 3",
   "language": "python",
   "name": "python3"
  },
  "language_info": {
   "codemirror_mode": {
    "name": "ipython",
    "version": 3
   },
   "file_extension": ".py",
   "mimetype": "text/x-python",
   "name": "python",
   "nbconvert_exporter": "python",
   "pygments_lexer": "ipython3",
   "version": "3.8.5"
  }
 },
 "nbformat": 4,
 "nbformat_minor": 4
}