{
 "cells": [
  {
   "cell_type": "code",
   "execution_count": 1,
   "metadata": {},
   "outputs": [],
   "source": [
    "import numpy as np\n",
    "import matplotlib.pyplot as plt"
   ]
  },
  {
   "cell_type": "code",
   "execution_count": 2,
   "metadata": {},
   "outputs": [
    {
     "name": "stdout",
     "output_type": "stream",
     "text": [
      "a[:] [0 1 2 3 4 5 6 7 8 9]\n",
      "a[:5]  [0 1 2 3 4]\n",
      "a[5:]  [5 6 7 8 9]\n",
      "a[::2] [0 2 4 6 8]\n"
     ]
    }
   ],
   "source": [
    "# slice: [start:end:span]\n",
    "a = np.arange(10)\n",
    "\n",
    "# 全選択\n",
    "print('a[:]', a[:])\n",
    "# 前半のみ\n",
    "print(\"a[:5] \", a[:5])\n",
    "# 後半のみ\n",
    "print('a[5:] ', a[5:])\n",
    "# 間隔を2に設定\n",
    "print('a[::2]', a[::2])"
   ]
  },
  {
   "cell_type": "code",
   "execution_count": 3,
   "metadata": {},
   "outputs": [
    {
     "name": "stdout",
     "output_type": "stream",
     "text": [
      "shape: (28, 28)\n"
     ]
    },
    {
     "data": {
      "image/png": "[encoded data removed]",
      "text/plain": [
       "<Figure size 432x288 with 1 Axes>"
      ]
     },
     "metadata": {
      "filenames": {
       "image/png": "/Users/akirakawai/Documents/personal/jupyter-book-python/python-book/_build/jupyter_execute/np_slice_2_1.png"
      },
      "needs_background": "light"
     },
     "output_type": "display_data"
    }
   ],
   "source": [
    "from keras.datasets import mnist\n",
    "(train_x, _), (_, _) = mnist.load_data()\n",
    "image = train_x[0]\n",
    "plt.imshow(image)\n",
    "plt.axis('off')\n",
    "print('shape:',image.shape)"
   ]
  },
  {
   "cell_type": "code",
   "execution_count": 4,
   "metadata": {},
   "outputs": [
    {
     "data": {
      "text/plain": [
       "(-0.5, 27.5, 27.5, -0.5)"
      ]
     },
     "execution_count": 4,
     "metadata": {},
     "output_type": "execute_result"
    },
    {
     "data": {
      "image/png": "[encoded data removed]",
      "text/plain": [
       "<Figure size 432x288 with 2 Axes>"
      ]
     },
     "metadata": {
      "filenames": {
       "image/png": "/Users/akirakawai/Documents/personal/jupyter-book-python/python-book/_build/jupyter_execute/np_slice_3_1.png"
      },
      "needs_background": "light"
     },
     "output_type": "display_data"
    }
   ],
   "source": [
    "# 画像の右半分を白にする\n",
    "image_left, image_right = np.zeros((2, 28, 28))\n",
    "image_left[:, :14] = image[:, :14]\n",
    "image_right[:, 14:] = image[:, 14:]\n",
    "\n",
    "plt.subplot(121)\n",
    "plt.imshow(image_left)\n",
    "plt.axis('off')\n",
    "plt.subplot(122)\n",
    "plt.imshow(image_right)\n",
    "plt.axis('off')"
   ]
  },
  {
   "cell_type": "code",
   "execution_count": 5,
   "metadata": {},
   "outputs": [
    {
     "data": {
      "text/plain": [
       "<matplotlib.image.AxesImage at 0x7f86f42eea60>"
      ]
     },
     "execution_count": 5,
     "metadata": {},
     "output_type": "execute_result"
    },
    {
     "data": {
      "image/png": "[encoded data removed]",
      "text/plain": [
       "<Figure size 432x288 with 2 Axes>"
      ]
     },
     "metadata": {
      "filenames": {
       "image/png": "/Users/akirakawai/Documents/personal/jupyter-book-python/python-book/_build/jupyter_execute/np_slice_4_1.png"
      },
      "needs_background": "light"
     },
     "output_type": "display_data"
    }
   ],
   "source": [
    "# 画像を斜めにトリミング\n",
    "# forでループもできるが、numpyを高速稼働させるためにsliceを使用\n",
    "x = np.arange(28)\n",
    "mask = np.ones((28,28))\n",
    "\n",
    "for i in range(28):\n",
    "    mask[i, :x[i]] = 0\n",
    "\n",
    "plt.subplot(121)\n",
    "plt.imshow(mask)\n",
    "plt.subplot(122)\n",
    "plt.imshow(mask*image)"
   ]
  },
  {
   "cell_type": "code",
   "execution_count": null,
   "metadata": {},
   "outputs": [],
   "source": []
  },
  {
   "cell_type": "code",
   "execution_count": null,
   "metadata": {},
   "outputs": [],
   "source": []
  }
 ],
 "metadata": {
  "kernelspec": {
   "display_name": "Python 3",
   "language": "python",
   "name": "python3"
  },
  "language_info": {
   "codemirror_mode": {
    "name": "ipython",
    "version": 3
   },
   "file_extension": ".py",
   "mimetype": "text/x-python",
   "name": "python",
   "nbconvert_exporter": "python",
   "pygments_lexer": "ipython3",
   "version": "3.8.5"
  }
 },
 "nbformat": 4,
 "nbformat_minor": 2
}