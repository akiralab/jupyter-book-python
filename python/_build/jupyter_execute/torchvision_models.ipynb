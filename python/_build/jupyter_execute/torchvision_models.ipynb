{
 "cells": [
  {
   "cell_type": "markdown",
   "metadata": {},
   "source": [
    "# [torchvision] model \n",
    "\n",
    "### 概要\n",
    "- torchvisionには、pretrain済のmodelが多数準備してあり、簡単に読み込むことができる\n",
    "\n",
    "### どんな時に便利か\n",
    "- 同じモデルでも異なるweightを読み込むことができる\n",
    "- tryしてみたがまだ実装中だった機能、後日再チャレンジ\n",
    "- https://pytorch.org/blog/easily-list-and-initialize-models-with-new-apis-in-torchvision/?utm_source=twitter&amp;utm_medium=organic_social&amp;utm_campaign=blog-newAPIs"
   ]
  },
  {
   "cell_type": "code",
   "execution_count": 1,
   "metadata": {},
   "outputs": [
    {
     "name": "stdout",
     "output_type": "stream",
     "text": [
      "0.13.1\n"
     ]
    }
   ],
   "source": [
    "import numpy as np\n",
    "import matplotlib.pyplot as plt\n",
    "import pandas as pd\n",
    "import seaborn as sns\n",
    "\n",
    "import torchvision\n",
    "print(torchvision.__version__)"
   ]
  },
  {
   "cell_type": "code",
   "execution_count": 2,
   "metadata": {},
   "outputs": [],
   "source": [
    "model_name = \"resnet50\"\n",
    "model = torchvision.models\n",
    "# model.__dict__\n",
    "# from torchvision.models import  get_model_weights, get_weight, list_models\n"
   ]
  },
  {
   "cell_type": "code",
   "execution_count": null,
   "metadata": {},
   "outputs": [],
   "source": []
  }
 ],
 "metadata": {
  "kernelspec": {
   "display_name": "Python 3",
   "language": "python",
   "name": "python3"
  },
  "language_info": {
   "codemirror_mode": {
    "name": "ipython",
    "version": 3
   },
   "file_extension": ".py",
   "mimetype": "text/x-python",
   "name": "python",
   "nbconvert_exporter": "python",
   "pygments_lexer": "ipython3",
   "version": "3.8.5"
  }
 },
 "nbformat": 4,
 "nbformat_minor": 4
}